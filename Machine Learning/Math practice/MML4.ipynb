{
 "cells": [
  {
   "cell_type": "markdown",
   "metadata": {},
   "source": [
    "## Exercise 8\n",
    "\n",
    "Find the SVD of the matrix $A$."
   ]
  },
  {
   "cell_type": "code",
   "execution_count": 186,
   "metadata": {},
   "outputs": [],
   "source": [
    "import numpy as np\n",
    "\n",
    "a = np.array([\n",
    "    [3, 2, 2],\n",
    "    [2, 3, -2]\n",
    "], np.int8)"
   ]
  },
  {
   "cell_type": "markdown",
   "metadata": {},
   "source": [
    "The first thing to do is to find the eigenvalue decomposition of $A^TA$."
   ]
  },
  {
   "cell_type": "code",
   "execution_count": 187,
   "metadata": {},
   "outputs": [
    {
     "name": "stdout",
     "output_type": "stream",
     "text": [
      "[[-7.07106781e-01 -6.66666667e-01  2.35702260e-01]\n",
      " [-7.07106781e-01  6.66666667e-01 -2.35702260e-01]\n",
      " [-4.55680392e-17  3.33333333e-01  9.42809042e-01]]\n"
     ]
    }
   ],
   "source": [
    "ata = a.T @ a\n",
    "\n",
    "eigenvalues_ata, v = np.linalg.eig(ata)\n",
    "print(v)"
   ]
  },
  {
   "cell_type": "markdown",
   "metadata": {},
   "source": [
    "Now, we can write the matrix $\\Sigma$ and the matrix $V$, and calculate the matrix $U$:"
   ]
  },
  {
   "cell_type": "code",
   "execution_count": 188,
   "metadata": {},
   "outputs": [
    {
     "name": "stdout",
     "output_type": "stream",
     "text": [
      "U: \n",
      " [[-0.707  0.707]\n",
      " [-0.707 -0.707]]\n",
      "Sigma: \n",
      " [[5. 0. 0.]\n",
      " [0. 3. 0.]]\n",
      "V: \n",
      " [[-0.707 -0.667  0.236]\n",
      " [-0.707  0.667 -0.236]\n",
      " [-0.     0.333  0.943]]\n"
     ]
    }
   ],
   "source": [
    "partial_sigma = np.diag(np.sqrt(eigenvalues_ata[eigenvalues_ata > 1e-05]))\n",
    "if a.shape[0]>a.shape[1]:\n",
    "    sigma = np.pad(partial_sigma, pad_width= ((0, a.shape[0]-a.shape[1]), (0, 0)), constant_values=(0))\n",
    "else:\n",
    "    sigma = np.pad(partial_sigma, pad_width= ((0, 0), (0, a.shape[1]-a.shape[0])), constant_values=(0))\n",
    "\n",
    "coefficients = np.diag(np.sqrt(1/eigenvalues_ata[eigenvalues_ata > 1e-05]))\n",
    "u = a @ v[:, eigenvalues_ata > 1e-05] @ coefficients\n",
    "print(\"U: \\n\", np.round(u, 3))\n",
    "print(\"Sigma: \\n\", sigma)\n",
    "#v[:, 1], v[:, 2] = v[:, 2], v[:, 1]\n",
    "print(\"V: \\n\", np.round(v, 3))"
   ]
  },
  {
   "cell_type": "markdown",
   "metadata": {},
   "source": [
    "And now, the final check:"
   ]
  },
  {
   "cell_type": "code",
   "execution_count": 189,
   "metadata": {},
   "outputs": [
    {
     "name": "stdout",
     "output_type": "stream",
     "text": [
      "[[ 3  2  2]\n",
      " [ 2  3 -2]]\n",
      "[[ 1.086  3.914  0.707]\n",
      " [ 3.914  1.086 -0.707]]\n"
     ]
    }
   ],
   "source": [
    "print(a)\n",
    "print(np.around(u @ sigma @ v.T, 3))"
   ]
  },
  {
   "cell_type": "code",
   "execution_count": 190,
   "metadata": {},
   "outputs": [
    {
     "name": "stdout",
     "output_type": "stream",
     "text": [
      "[[ 0.447  0.894]\n",
      " [-0.894  0.447]]\n"
     ]
    }
   ],
   "source": [
    "#Debugging\n",
    "A = np.array([\n",
    "    [1, 0, 1],\n",
    "    [-2, 1, 0]\n",
    "], np.int8)\n",
    "\n",
    "V = np.array([\n",
    "    [5/np.sqrt(30), 0, -1/np.sqrt(6)],\n",
    "    [-2/np.sqrt(30), 1/np.sqrt(5), -2/np.sqrt(6)],\n",
    "    [1/np.sqrt(30), 2/np.sqrt(5), 1/np.sqrt(6)]\n",
    "], np.float64)\n",
    "\n",
    "eig = np.array([6, 1, 0], np.int8)\n",
    "\n",
    "print(np.around(A @ V[:, eig>0] @ np.diag(np.sqrt(1/eig[eig > 0])), 3))"
   ]
  },
  {
   "cell_type": "markdown",
   "metadata": {},
   "source": [
    "## Exercise 9\n",
    "\n",
    "Find the SVD of the matrix $A$."
   ]
  },
  {
   "cell_type": "code",
   "execution_count": 191,
   "metadata": {},
   "outputs": [],
   "source": [
    "import numpy as np\n",
    "\n",
    "a = np.array([\n",
    "    [2, 2],\n",
    "    [-1, 1]\n",
    "], np.int8)"
   ]
  },
  {
   "cell_type": "markdown",
   "metadata": {},
   "source": [
    "The first thing to do is to find the eigenvalue decomposition of $A^TA$."
   ]
  },
  {
   "cell_type": "code",
   "execution_count": 192,
   "metadata": {},
   "outputs": [
    {
     "name": "stdout",
     "output_type": "stream",
     "text": [
      "[[ 0.70710678 -0.70710678]\n",
      " [ 0.70710678  0.70710678]]\n"
     ]
    }
   ],
   "source": [
    "ata = a.T @ a\n",
    "\n",
    "eigenvalues_ata, v = np.linalg.eig(ata)\n",
    "print(v)"
   ]
  },
  {
   "cell_type": "markdown",
   "metadata": {},
   "source": [
    "Now, we can write the matrix $\\Sigma$ and the matrix $V$, and calculate the matrix $U$:"
   ]
  },
  {
   "cell_type": "code",
   "execution_count": 193,
   "metadata": {},
   "outputs": [
    {
     "name": "stdout",
     "output_type": "stream",
     "text": [
      "U: \n",
      " [[ 1. -0.]\n",
      " [ 0.  1.]]\n",
      "Sigma: \n",
      " [[2.82842712 0.        ]\n",
      " [0.         1.41421356]]\n",
      "V: \n",
      " [[ 0.707 -0.707]\n",
      " [ 0.707  0.707]]\n"
     ]
    }
   ],
   "source": [
    "partial_sigma = np.diag(np.sqrt(eigenvalues_ata[eigenvalues_ata > 1e-05]))\n",
    "if a.shape[0]>a.shape[1]:\n",
    "    sigma = np.pad(partial_sigma, pad_width= ((0, a.shape[0]-a.shape[1]), (0, 0)), constant_values=(0))\n",
    "else:\n",
    "    sigma = np.pad(partial_sigma, pad_width= ((0, 0), (0, a.shape[1]-a.shape[0])), constant_values=(0))\n",
    "\n",
    "coefficients = np.diag(np.sqrt(1/eigenvalues_ata[eigenvalues_ata > 1e-05]))\n",
    "u = a @ v[:, eigenvalues_ata > 1e-05] @ coefficients\n",
    "print(\"U: \\n\", np.round(u, 3))\n",
    "print(\"Sigma: \\n\", sigma)\n",
    "#v[:, 1], v[:, 2] = v[:, 2], v[:, 1]\n",
    "print(\"V: \\n\", np.round(v, 3))"
   ]
  },
  {
   "cell_type": "markdown",
   "metadata": {},
   "source": [
    "And now, the final check:"
   ]
  },
  {
   "cell_type": "code",
   "execution_count": 194,
   "metadata": {},
   "outputs": [
    {
     "name": "stdout",
     "output_type": "stream",
     "text": [
      "[[ 2  2]\n",
      " [-1  1]]\n",
      "[[ 2.  2.]\n",
      " [-1.  1.]]\n"
     ]
    }
   ],
   "source": [
    "print(a)\n",
    "print(np.around(u @ sigma @ v.T, 3))"
   ]
  }
 ],
 "metadata": {
  "kernelspec": {
   "display_name": "Python 3",
   "language": "python",
   "name": "python3"
  },
  "language_info": {
   "codemirror_mode": {
    "name": "ipython",
    "version": 3
   },
   "file_extension": ".py",
   "mimetype": "text/x-python",
   "name": "python",
   "nbconvert_exporter": "python",
   "pygments_lexer": "ipython3",
   "version": "3.10.12"
  }
 },
 "nbformat": 4,
 "nbformat_minor": 2
}
