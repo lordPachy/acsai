{
 "cells": [
  {
   "cell_type": "markdown",
   "metadata": {},
   "source": [
    "## Exercise 8\n",
    "\n",
    "Find the SVD of the matrix $A$."
   ]
  },
  {
   "cell_type": "code",
   "execution_count": 4,
   "metadata": {},
   "outputs": [],
   "source": [
    "import numpy as np\n",
    "\n",
    "A = np.array([\n",
    "    [3, 2, 2],\n",
    "    [2, 3, -2]\n",
    "], np.int8)"
   ]
  },
  {
   "cell_type": "markdown",
   "metadata": {},
   "source": [
    "The first thing to do is to find the eigenvalue decomposition of $A^TA$."
   ]
  },
  {
   "cell_type": "code",
   "execution_count": 5,
   "metadata": {},
   "outputs": [
    {
     "name": "stdout",
     "output_type": "stream",
     "text": [
      "[2.5000000e+01 5.0324328e-15 9.0000000e+00]\n",
      "[[-7.07106781e-01 -6.66666667e-01  2.35702260e-01]\n",
      " [-7.07106781e-01  6.66666667e-01 -2.35702260e-01]\n",
      " [-4.55680392e-17  3.33333333e-01  9.42809042e-01]]\n"
     ]
    }
   ],
   "source": [
    "ata = A.T @ A\n",
    "\n",
    "eigenvalues_ata, eigenvectors_ata = np.linalg.eig(ata)\n",
    "print(eigenvalues_ata)\n",
    "print(eigenvectors_ata)"
   ]
  },
  {
   "cell_type": "markdown",
   "metadata": {},
   "source": [
    "Now, we can write the matrix $\\Sigma$ and the matrix $V$, and calculate the matrix $U$:"
   ]
  },
  {
   "cell_type": "code",
   "execution_count": 16,
   "metadata": {},
   "outputs": [
    {
     "name": "stdout",
     "output_type": "stream",
     "text": [
      "U: \n",
      " [[-7.07106781e-01  1.56502485e-09  7.07106781e-01]\n",
      " [-7.07106781e-01 -1.09551739e-08 -7.07106781e-01]]\n",
      "Sigma: \n",
      " [[5.0000000e+00 0.0000000e+00 0.0000000e+00]\n",
      " [0.0000000e+00 7.0939642e-08 0.0000000e+00]\n",
      " [0.0000000e+00 0.0000000e+00 3.0000000e+00]]\n",
      "V: \n",
      " [[-7.07106781e-01 -6.66666667e-01  2.35702260e-01]\n",
      " [-7.07106781e-01  6.66666667e-01 -2.35702260e-01]\n",
      " [-4.55680392e-17  3.33333333e-01  9.42809042e-01]]\n"
     ]
    }
   ],
   "source": [
    "sigma = np.diag(np.sqrt(eigenvalues_ata))\n",
    "v = eigenvectors_ata\n",
    "coefficients = np.diag(np.sqrt(1/eigenvalues_ata))\n",
    "#print(coefficients)\n",
    "u = A @ v @ coefficients\n",
    "print(\"U: \\n\",u)\n",
    "print(\"Sigma: \\n\",sigma)\n",
    "print(\"V: \\n\",v)"
   ]
  },
  {
   "cell_type": "markdown",
   "metadata": {},
   "source": [
    "And now, the final check:"
   ]
  },
  {
   "cell_type": "code",
   "execution_count": 13,
   "metadata": {},
   "outputs": [
    {
     "name": "stdout",
     "output_type": "stream",
     "text": [
      "[[ 3  2  2]\n",
      " [ 2  3 -2]]\n",
      "[[ 2.5    3.064  1.167]\n",
      " [ 2.5    1.65  -2.833]]\n"
     ]
    }
   ],
   "source": [
    "print(A)\n",
    "print(np.around(u @ sigma @ v, 3))"
   ]
  }
 ],
 "metadata": {
  "kernelspec": {
   "display_name": "Python 3",
   "language": "python",
   "name": "python3"
  },
  "language_info": {
   "codemirror_mode": {
    "name": "ipython",
    "version": 3
   },
   "file_extension": ".py",
   "mimetype": "text/x-python",
   "name": "python",
   "nbconvert_exporter": "python",
   "pygments_lexer": "ipython3",
   "version": "3.10.12"
  }
 },
 "nbformat": 4,
 "nbformat_minor": 2
}
