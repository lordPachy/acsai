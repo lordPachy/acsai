{
 "cells": [
  {
   "cell_type": "markdown",
   "metadata": {},
   "source": [
    "## Exercise 3.5"
   ]
  },
  {
   "cell_type": "code",
   "execution_count": 1,
   "metadata": {},
   "outputs": [
    {
     "name": "stdout",
     "output_type": "stream",
     "text": [
      "[[ 0  1 -3]\n",
      " [-1 -3  4]\n",
      " [ 2  1  1]\n",
      " [ 0 -1  2]\n",
      " [ 2  2  1]]\n",
      "[-1 -9 -1  4  1]\n"
     ]
    }
   ],
   "source": [
    "import numpy as np\n",
    "\n",
    "B = np.array([[0, 1, -3, -1],\n",
    "              [-1, -3, 4, -3],\n",
    "              [2, 1, 1, 5],\n",
    "              [0, -1, 2, 0],\n",
    "              [2, 2, 1, 7]])\n",
    "\n",
    "#but this is not a basis!\n",
    "\n",
    "B = B[:, :-1]\n",
    "\n",
    "x = np.array([-1,-9, -1, 4, 1])\n",
    "print(B)\n",
    "print(x)"
   ]
  },
  {
   "cell_type": "code",
   "execution_count": 2,
   "metadata": {},
   "outputs": [
    {
     "name": "stdout",
     "output_type": "stream",
     "text": [
      "[[  9   9   0]\n",
      " [  9  16 -14]\n",
      " [  0 -14  31]]\n",
      "[[ 1.58730159 -1.47619048 -0.66666667]\n",
      " [-1.47619048  1.47619048  0.66666667]\n",
      " [-0.66666667  0.66666667  0.33333333]]\n",
      "[[ 1.00000000e+00 -6.66133815e-16  2.10942375e-15]\n",
      " [-4.44089210e-16  1.00000000e+00  1.33226763e-15]\n",
      " [-3.33066907e-16 -3.33066907e-16  1.00000000e+00]]\n"
     ]
    }
   ],
   "source": [
    "BtB = B.T @ B\n",
    "print(BtB)\n",
    "#print(np.linalg.matrix_rank(BtB))\n",
    "inv = np.linalg.inv(BtB)\n",
    "#inv = np.linalg.pinv(B) (alternative method)\n",
    "print(inv)\n",
    "print(inv@BtB)"
   ]
  },
  {
   "cell_type": "code",
   "execution_count": 3,
   "metadata": {},
   "outputs": [
    {
     "name": "stdout",
     "output_type": "stream",
     "text": [
      "[-3.  4.  1.]\n",
      "[ 1. -5. -1. -2.  3.]\n"
     ]
    }
   ],
   "source": [
    "coeff = inv @ B.T @ x\n",
    "print(coeff)\n",
    "proj = B @ coeff\n",
    "print(proj)"
   ]
  },
  {
   "cell_type": "markdown",
   "metadata": {},
   "source": [
    "## Exercise 3.6\n",
    "### Part A\n",
    "\n",
    "First of all, let's define the basis and the inner product operation."
   ]
  },
  {
   "cell_type": "code",
   "execution_count": 8,
   "metadata": {},
   "outputs": [],
   "source": [
    "A = np.array([\n",
    "    [2, 1, 0],\n",
    "    [1, 2, -1],\n",
    "    [0, -1, 2]\n",
    "], dtype=np.int8)\n",
    "\n",
    "B = np.array([\n",
    "    [1, 0],\n",
    "    [0, 0],\n",
    "    [0, 1]\n",
    "], np.int8)\n",
    "\n",
    "def inn_prod(x, y):\n",
    "    return x.T @ A @ y\n",
    "\n",
    "e2 = np.array([0, 1, 0], np.int8)"
   ]
  },
  {
   "cell_type": "markdown",
   "metadata": {},
   "source": [
    "Let's find the coordinates of the projection:"
   ]
  },
  {
   "cell_type": "code",
   "execution_count": 12,
   "metadata": {},
   "outputs": [
    {
     "name": "stdout",
     "output_type": "stream",
     "text": [
      "0.5 -0.5\n"
     ]
    }
   ],
   "source": [
    "lambda_1 = inn_prod(e2, B[:, :1])/inn_prod(B[:, :1], B[:, :1])\n",
    "lambda_1 = np.ndarray.item(lambda_1)\n",
    "lambda_2 = inn_prod(e2, B[:, 1:])/inn_prod(B[:, 1:], B[:, 1:])\n",
    "lambda_2 = np.ndarray.item(lambda_2)\n",
    "print(lambda_1, lambda_2)"
   ]
  },
  {
   "cell_type": "markdown",
   "metadata": {},
   "source": [
    "Let's find the proper vector projection:"
   ]
  },
  {
   "cell_type": "code",
   "execution_count": 18,
   "metadata": {},
   "outputs": [
    {
     "name": "stdout",
     "output_type": "stream",
     "text": [
      "[ 0.5  0.  -0.5]\n"
     ]
    }
   ],
   "source": [
    "proj = lambda_1*B[:, :1] + lambda_2*B[:, 1:]\n",
    "proj = proj.reshape(3)\n",
    "print(proj)"
   ]
  },
  {
   "cell_type": "markdown",
   "metadata": {},
   "source": [
    "### Part B\n",
    "\n",
    "Let's compute the distance $d(e_2, U)$:"
   ]
  },
  {
   "cell_type": "code",
   "execution_count": 21,
   "metadata": {},
   "outputs": [
    {
     "data": {
      "text/plain": [
       "1.0"
      ]
     },
     "execution_count": 21,
     "metadata": {},
     "output_type": "execute_result"
    }
   ],
   "source": [
    "np.sqrt(inn_prod(e2 - proj, e2 - proj))"
   ]
  }
 ],
 "metadata": {
  "kernelspec": {
   "display_name": "Python 3",
   "language": "python",
   "name": "python3"
  },
  "language_info": {
   "codemirror_mode": {
    "name": "ipython",
    "version": 3
   },
   "file_extension": ".py",
   "mimetype": "text/x-python",
   "name": "python",
   "nbconvert_exporter": "python",
   "pygments_lexer": "ipython3",
   "version": "3.10.12"
  }
 },
 "nbformat": 4,
 "nbformat_minor": 2
}
