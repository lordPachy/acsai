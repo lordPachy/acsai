{
 "cells": [
  {
   "cell_type": "markdown",
   "metadata": {},
   "source": [
    "## My own latex definitions\n",
    "$$\\gdef\\mbf#1{\\mathbf{#1}}$$"
   ]
  },
  {
   "cell_type": "code",
   "execution_count": 5,
   "metadata": {},
   "outputs": [],
   "source": [
    "import matplotlib\n",
    "import matplotlib.pyplot as plt\n",
    "import numpy as np\n",
    "%matplotlib inline\n",
    "#plt.style.use('seaborn-whitegrid')\n",
    "\n",
    "font = {'family' : 'serif',\n",
    "        'weight' : 'bold',\n",
    "        'size'   : 12}\n",
    "\n",
    "matplotlib.rc('font', **font)\n",
    "\n",
    "\n",
    "# Aux functions\n",
    "\n",
    "def plot_grid(Xs, Ys, axs=None):\n",
    "    ''' Aux function to plot a grid'''\n",
    "    t = np.arange(Xs.size) # define progression of int for indexing colormap\n",
    "    if axs:\n",
    "        axs.plot(0, 0, marker='*', color='r', linestyle='none') #plot origin\n",
    "        axs.scatter(Xs,Ys, c=t, cmap='jet', marker='.') # scatter x vs y\n",
    "        axs.axis('scaled') # axis scaled\n",
    "    else:\n",
    "        plt.plot(0, 0, marker='*', color='r', linestyle='none') #plot origin\n",
    "        plt.scatter(Xs,Ys, c=t, cmap='jet', marker='.') # scatter x vs y\n",
    "        plt.axis('scaled') # axis scaled\n",
    "        \n",
    "def linear_map(A, Xs, Ys):\n",
    "    '''Map src points with A'''\n",
    "    # [NxN,NxN] -> NxNx2 # add 3-rd axis, like adding another layer\n",
    "    src = np.stack((Xs,Ys), axis=Xs.ndim)\n",
    "    # flatten the first two dimension\n",
    "    # (NN)x2\n",
    "    src_r = src.reshape(-1,src.shape[-1]) #ask reshape to keep last dimension and adjust the rest\n",
    "    # 2x2 @ 2x(NN)\n",
    "    dst = A @ src_r.T # 2xNN\n",
    "    #(NN)x2 and then reshape as NxNx2\n",
    "    dst = (dst.T).reshape(src.shape)\n",
    "    # Access X and Y\n",
    "    return dst[...,0], dst[...,1]\n",
    "\n",
    "\n",
    "def plot_points(ax, Xs, Ys, col='red', unit=None, linestyle='solid'):\n",
    "    '''Plots points'''\n",
    "    ax.set_aspect('equal')\n",
    "    ax.grid(True, which='both')\n",
    "    ax.axhline(y=0, color='gray', linestyle=\"--\")\n",
    "    ax.axvline(x=0, color='gray',  linestyle=\"--\")\n",
    "    ax.plot(Xs, Ys, color=col)\n",
    "    if unit is None:\n",
    "        plotVectors(ax, [[0,1],[1,0]], ['gray']*2, alpha=1, linestyle=linestyle)\n",
    "    else:\n",
    "        plotVectors(ax, unit, [col]*2, alpha=1, linestyle=linestyle)\n",
    "\n",
    "def plotVectors(ax, vecs, cols, alpha=1, linestyle='solid'):\n",
    "    '''Plot set of vectors.'''\n",
    "    for i in range(len(vecs)):\n",
    "        x = np.concatenate([[0,0], vecs[i]])\n",
    "        ax.quiver([x[0]],\n",
    "                   [x[1]],\n",
    "                   [x[2]],\n",
    "                   [x[3]],\n",
    "                   angles='xy', scale_units='xy', scale=1, color=cols[i],\n",
    "                   alpha=alpha, linestyle=linestyle, linewidth=2)"
   ]
  },
  {
   "cell_type": "markdown",
   "metadata": {},
   "source": [
    "### Alternative interpretation: Find orthogonal projection that minimizes reconstruction error\n",
    "\n",
    "$\\def\\mbf#1{\\mathbf{#1}}$\n",
    "\n",
    "- Find an orthogonal matrix $\\mbf{U}\\in \\mathbb{R}^{D\\times k}$ for which:\n",
    "\n",
    "\n",
    "$$\\arg\\min_{\\mbf{U}} \\left\\|  \\mbf{X} - \\mbf{U}\\mbf{U}^T\\mbf{X}\\right\\|_2^2 \\\\\n",
    "\\text{subject to} \\quad \\mbf{U}^T\\mbf{U} = \\mbf{I_k}\n",
    "$$\n",
    "\n",
    "- Both interpretations lead to the same results:\n",
    "    - To compute $\\mbf{U}$ you have to compute Eigendecomposition of covariance matrix $\\frac{1}{N}\\mbf{X}\\mbf{X}^T$"
   ]
  },
  {
   "cell_type": "markdown",
   "metadata": {},
   "source": [
    "![immagine.png](attachment:immagine.png)"
   ]
  },
  {
   "cell_type": "markdown",
   "metadata": {},
   "source": [
    "# Matrix Calculus\n",
    "Part of these lectures are taken from:\n",
    "\n",
    "- [CS229 LinAlg](http://cs229.stanford.edu/summer2019/cs229-linalg.pdf)\n",
    "- [CS229 Calculus Recap](https://www.youtube.com/watch?v=b0HvwszmqcQ)\n",
    "- [Dive Into Deep Learning - Math Appendix](https://d2l.ai/chapter_appendix-mathematics-for-deep-learning/single-variable-calculus.html)"
   ]
  },
  {
   "cell_type": "markdown",
   "metadata": {},
   "source": [
    "# Basic example: scalar to scalar\n",
    "\n",
    "- **Function:** $f:\\mathbb{R} \\mapsto\\mathbb{R}$\n",
    "- **Example:** $f(x) = x^2$ \n",
    "- **Value taken (output):** scalar $\\mathbb{R}$ \n",
    "- **First Derivative:** $f(x)^{\\prime}$: $2x\\in\\mathbb{R}$\n",
    "- **Second Derivative:** $f(x)^{\\prime\\prime}$: $2\\in\\mathbb{R}$       "
   ]
  },
  {
   "cell_type": "markdown",
   "metadata": {},
   "source": [
    "# Vector to scalar\n",
    "\n",
    "- **Function:** $f:\\mathbb{R}^d \\mapsto\\mathbb{R}$\n",
    "- **Example:** Loss or cost function\n",
    "- **Value taken (output):** scalar $\\mathbb{R}$ \n",
    "- **First Derivative:** $f(x)^{\\prime}$: $\\mathbb{R}^d$ **Gradient**\n",
    "- **Second Derivative:** $f(x)^{\\prime\\prime}$: $\\mathbb{R}^{d\\times d}$ **Hessian** - Square and Symmetric Matrix"
   ]
  },
  {
   "cell_type": "markdown",
   "metadata": {},
   "source": [
    "# Vector to vector\n",
    "\n",
    "- **Function:** $f:\\mathbb{R}^d \\mapsto\\mathbb{R}^p$\n",
    "- **Example:** projection / neural network layer / classifier input vector to 1...N classes\n",
    "- **Value taken (output):** vector $\\mathbb{R}^p$ \n",
    "- **First Derivative:** $f(x)^{\\prime}$: $\\mathbb{R}^{d\\times p}$ **Jacobian**\n",
    "- **Second Derivative:** $f(x)^{\\prime\\prime}$: $\\mathbb{R}^{d\\times d \\times p}$ **Tensor of second derivative** (high order tensor)\n",
    "<br/><br/>\n",
    "\n",
    "- Informally: a **tensor** is a generalization of matrices in N-D dimensions\n",
    " - Ex: if you stack N `256x256` images you get `Nx256x256` which is a tensor."
   ]
  },
  {
   "cell_type": "markdown",
   "metadata": {},
   "source": [
    "# Why Calculus?\n",
    "\n",
    "\n",
    "- Let's take a complex function $$f(x) = \\sin(x^x)$$ over the $[0, 3]$. \n",
    "- Its behaviour is not simple to understand."
   ]
  },
  {
   "cell_type": "code",
   "execution_count": 6,
   "metadata": {},
   "outputs": [
    {
     "data": {
      "image/png": "[encoded data removed]",
      "text/plain": [
       "<Figure size 640x480 with 1 Axes>"
      ]
     },
     "metadata": {},
     "output_type": "display_data"
    }
   ],
   "source": [
    "x_big = np.arange(0.01, 3.01, 0.01)\n",
    "ys = np.sin(x_big**x_big)\n",
    "_ = plt.plot(x_big, ys, 'b-')\n",
    "plt.xlabel('x');plt.ylabel('y');\n",
    "_ = plt.axis('equal')"
   ]
  },
  {
   "cell_type": "markdown",
   "metadata": {},
   "source": [
    "- At this large scale, the function’s behavior is not simple. \n",
    "- However, if we **reduce our range to something smaller like**  $[1.75, 2.25]$ , we see that the graph becomes much simpler.\n",
    "- You can think as if we are zooming into a small part of it"
   ]
  },
  {
   "cell_type": "code",
   "execution_count": 7,
   "metadata": {},
   "outputs": [
    {
     "data": {
      "image/png": "[encoded data removed]",
      "text/plain": [
       "<Figure size 640x480 with 1 Axes>"
      ]
     },
     "metadata": {},
     "output_type": "display_data"
    }
   ],
   "source": [
    "x_med = np.arange(1.75, 2.25, 0.001)\n",
    "ys = np.sin(x_med**x_med)\n",
    "_ = plt.plot(x_med, ys, 'b-')\n",
    "plt.xlabel('x');plt.ylabel('y');\n",
    "_ = plt.axis('equal')"
   ]
  },
  {
   "cell_type": "markdown",
   "metadata": {},
   "source": [
    "Taking this to an extreme, if we zoom into a **tiny segment**, the behavior becomes far simpler: **it is just a straight line.**"
   ]
  },
  {
   "cell_type": "code",
   "execution_count": 8,
   "metadata": {},
   "outputs": [
    {
     "data": {
      "image/png": "[encoded data removed]",
      "text/plain": [
       "<Figure size 640x480 with 1 Axes>"
      ]
     },
     "metadata": {},
     "output_type": "display_data"
    }
   ],
   "source": [
    "x_small = np.arange(2.0, 2.01, 0.0001)\n",
    "ys = np.sin(x_small**x_small)\n",
    "_ = plt.plot(x_small, ys, 'b-')\n",
    "plt.xlabel('x');plt.ylabel('y');\n",
    "_ = plt.axis('equal')"
   ]
  },
  {
   "cell_type": "markdown",
   "metadata": {},
   "source": [
    "- This is the key observation of single variable calculus: **the behavior of familiar functions can be modeled by a line in a small enough range.**  "
   ]
  },
  {
   "cell_type": "markdown",
   "metadata": {},
   "source": [
    "- This means that for most functions, it is reasonable to expect that as **we shift the $x$ value of the function by a little bit**, the **output $f(x)$ will also be shifted** by a little bit."
   ]
  },
  {
   "cell_type": "markdown",
   "metadata": {},
   "source": [
    "- The only question we need to answer is, _\"How large is the change in the output compared to the change in the input?  Is it half as large?  Twice as large?\"_"
   ]
  },
  {
   "cell_type": "markdown",
   "metadata": {},
   "source": [
    "Thus, we can consider the ratio of the change in the output of a function for a small change in the input of the function.  We can write this formally as\n",
    "\n",
    "$$\n",
    "\\frac{L(x+\\epsilon) - L(x)}{(x+\\epsilon) - x} = \\frac{L(x+\\epsilon) - L(x)}{\\epsilon}.\n",
    "$$"
   ]
  },
  {
   "cell_type": "markdown",
   "metadata": {},
   "source": [
    "$$\\frac{df}{dx}(x) = \\lim_{\\epsilon \\rightarrow 0}\\frac{f(x+\\epsilon) - f(x)}{\\epsilon}.$$\n",
    "\n",
    "Different texts will use different notations for the derivative. For instance, all of the below notations indicate the same thing:\n",
    "\n",
    "$$\n",
    "\\frac{df}{dx} = \\frac{d}{dx}f = f' = \\nabla_xf = D_xf = f_x.\n",
    "$$"
   ]
  },
  {
   "cell_type": "markdown",
   "metadata": {},
   "source": [
    "## Finite Difference\n",
    "\n",
    "- Take a value $\\mbf{x}$ and see how the function $f(\\mbf{x}+\\epsilon)$ changes in the neighborhood of that value under small perturbation $\\epsilon$."
   ]
  },
  {
   "cell_type": "markdown",
   "metadata": {},
   "source": [
    "- Is this a good method?"
   ]
  },
  {
   "cell_type": "markdown",
   "metadata": {},
   "source": [
    "- NO! Super slow, there is no optimization."
   ]
  },
  {
   "cell_type": "markdown",
   "metadata": {},
   "source": [
    "### Linear Approximation\n",
    "\n",
    "When working with derivatives, it is often useful to geometrically interpret the approximation used above.  In particular, note that the equation \n",
    "\n",
    "$$\n",
    "f(x+\\epsilon) \\approx f(x) + \\epsilon \\frac{df}{dx}(x),\n",
    "$$"
   ]
  },
  {
   "cell_type": "markdown",
   "metadata": {},
   "source": [
    "### Linear Approximation\n",
    "Approximates the value of $f$ by:\n",
    "- a line which passes through the point $(x, f(x))$\n",
    "- has slope $\\frac{df}{dx}(x)$\n",
    "\n",
    "in a neighbourhood $[-\\epsilon,+\\epsilon]$\n",
    "\n",
    "In this way we say that the derivative gives a linear approximation to the function $f$, as illustrated below:\n",
    "\n",
    "![image.png](attachment:image.png)"
   ]
  },
  {
   "cell_type": "markdown",
   "metadata": {},
   "source": [
    "# Gradient\n",
    "\n",
    "$\\def\\der#1#2{\\frac{\\partial #1}{\\partial #2}}$\n",
    "$\\def\\derr#1#2#3{\\frac{\\partial^2 #1}{\\partial#2\\partial #3}}$\n",
    "\n",
    "- **Function:** $f:\\mathbb{R}^d \\mapsto\\mathbb{R}$\n",
    "\n",
    "$$\\nabla_{\\mbf{x}}f(\\mbf{x}) = \\nabla_{\\mbf{x}}f\\left([x_1,\\ldots,x_d]\\right) = \\left[\\der{f\\left(\\mbf{x}\\right)}{x_1},...,\\der{f\\left(\\mbf{x}\\right)}{x_d} \\right]^T$$\n",
    "\n",
    "- Geometric Interpretation\n",
    "    - **Direction of steepest ascent**.\n",
    "    - The direction to change the input so that the function values go up in $[x,x+\\epsilon]$\n",
    "    \n",
    "    $$f\\Big(\\mbf{x} + \\epsilon\\nabla_{\\mbf{x}}f(\\mbf{x})\\Big) \\ge f(\\mbf{x})$$\n",
    "    - Gradient can be defined for matrices too not only vector $\\nabla_{\\mbf{X}}f(\\mbf{X})$\n",
    "    - Just think of the matrix as a long, stretched vector"
   ]
  },
  {
   "cell_type": "markdown",
   "metadata": {},
   "source": [
    "<img width=\"70%\" src=\"figs/gradients.png\" />\n",
    "\n",
    "[Figure credit](https://people.csail.mit.edu/jsolomon/share/book/numerical_book.pdf)"
   ]
  },
  {
   "cell_type": "markdown",
   "metadata": {},
   "source": [
    "<img width='30%' src=\"https://upload.wikimedia.org/wikipedia/commons/thumb/0/0f/Gradient2.svg/1920px-Gradient2.svg.png\" />\n",
    "\n",
    "The gradient, represented by the blue arrows, denotes the **direction of greatest change of a scalar function**. The values of the function are represented in **grayscale and increase in value from white (low) to dark (high)**.\n",
    "\n",
    "Figure credit Wikipedia"
   ]
  },
  {
   "cell_type": "markdown",
   "metadata": {},
   "source": [
    "## Try it yourself - Gradient of dot product\n",
    "\n",
    "Given the function $f(\\mbf{x};\\mbf{b})= \\mbf{b}^T\\mbf{x}$ parametrized by the vector $\\mbf{b}$ that takes as input a vector $\\mbf{x}$---both vectors in $\\mbf{x}^d$---compute the gradient of x $$\\nabla_\\mbf{x} f(\\mbf{x}) = \\nabla_\\mbf{x} \\mbf{b}^T\\mbf{x}$$"
   ]
  },
  {
   "cell_type": "markdown",
   "metadata": {},
   "source": [
    "# Hessian\n",
    "\n",
    "- **Function:** $f:\\mathbb{R}^d \\mapsto\\mathbb{R}$\n",
    "\n",
    "$$\\nabla^2_{\\mbf{x}}f(\\mbf{x}) = \\nabla^2_{\\mbf{x}}f\\left([x_1,\\ldots,x_d]\\right) =\n",
    "\\begin{bmatrix}\n",
    "\\derr{f\\left(\\mbf{x}\\right)}{x_1}{x_1} & \\ldots & \\derr{f\\left(\\mbf{x}\\right)}{x_1}{x_d} \\\\\n",
    "\\ldots &      & \\ldots \\\\\n",
    "\\derr{f\\left(\\mbf{x}\\right)}{x_d}{x_1} & \\ldots & \\derr{f\\left(\\mbf{x}\\right)}{x_d}{x_d} \\\\\n",
    "\\end{bmatrix}\n",
    "$$\n",
    "\n",
    "- Geometric Interpretation\n",
    "    - **Indicates the curvature of the function** (can tell you if you are close to local minimum/maximum or saddle point)\n",
    "    - Can be interpreted as the **Jacobian matrix of the gradient of the function**\n",
    "    - Symmetric and Square\n"
   ]
  },
  {
   "cell_type": "markdown",
   "metadata": {},
   "source": [
    "# Quadratic Forms\n",
    "\n",
    "\n",
    "Given $\\mbf{A} \\in \\mathbb{R}^{d\\times d}$ symmetric and square and $\\mbf{x} \\in \\mathbb{R}^d$ then a quadratic form is:\n",
    "$$\\mbf{x}^T \\mbf{A}\\mbf{x}$$\n",
    "\n",
    "- It is a vector to scalar function\n",
    "- It is used for characterizing the **definiteness** of matrices\n",
    "- Symmetry of A is not required, actually: just compute $\\frac{1}{2}\\mathbf{x^T}(\\mathbf{A+A^T})\\mathbf{x}$"
   ]
  },
  {
   "cell_type": "markdown",
   "metadata": {},
   "source": [
    "# Definiteness and relation with Eigenvalues\n",
    "\n",
    "- $\\forall \\mbf{x} \\neq 0 \\qquad \\mbf{x}^T \\mbf{A}\\mbf{x} \\gt 0 $ is **positive definite (PD)** - Relation with eigenvalues all positive\n",
    "- $\\forall \\mbf{x} \\neq 0 \\qquad \\mbf{x}^T \\mbf{A}\\mbf{x} \\ge 0 $ is **positive semi-definite (PSD)** - Relation with eigenvalues all non-negative\n",
    "- $\\forall \\mbf{x} \\neq 0 \\qquad \\mbf{x}^T \\mbf{A}\\mbf{x} \\lt 0 $ is **negative definite (ND)** - Relation with eigenvalues all negative\n",
    "- $\\forall \\mbf{x} \\neq 0 \\qquad \\mbf{x}^T \\mbf{A}\\mbf{x} \\le 0 $ is **negative semi-definite (NSD)** - Relation with eigenvalues all non-positive\n",
    "\n",
    "- $\\forall \\mbf{x} \\neq 0 \\qquad \\mbf{x}^T \\mbf{A}\\mbf{x} \\lt, \\gt 0 $ is **indefinite** - Relation with eigenvalues mixed in sign\n",
    "\n",
    "<img width='70%' src=\"figs/definitiviness.png\" />"
   ]
  },
  {
   "cell_type": "markdown",
   "metadata": {},
   "source": [
    "### Common Derivatives\n",
    "\n",
    "* **Derivative of constants.** $\\frac{d}{dx}c = 0$.\n",
    "* **Derivative of linear functions.** $\\frac{d}{dx}(ax) = a$.\n",
    "* **Power rule.** $\\frac{d}{dx}x^n = nx^{n-1}$.\n",
    "* **Derivative of exponentials.** $\\frac{d}{dx}e^x = e^x$.\n",
    "* **Derivative of the logarithm.** $\\frac{d}{dx}\\log(x) = \\frac{1}{x}$."
   ]
  },
  {
   "cell_type": "markdown",
   "metadata": {},
   "source": [
    "### Derivative Rules\n",
    "\n",
    "- **Important: Derivation is a linear operator.**\n",
    "1. Derivative of the sum is the sum of derivatives\n",
    "2. Derivative of a scalar product is the scalar product of derivative.\n",
    "\n",
    "* **Sum rule.** $\\qquad\\nabla_{\\mbf{x}} \\left( g(\\mbf{x}) + h(\\mbf{x}) \\right) = \\nabla_{\\mbf{x}}g(\\mbf{x}) + \\nabla_{\\mbf{x}}h(\\mbf{x})  $\n",
    "* **Product rule.** $\\qquad\\nabla_{\\mbf{x}} \\left(g(\\mbf{x})\\cdot h(\\mbf{x})\\right) = \\nabla_{\\mbf{x}}[g(\\mbf{x})]h(\\mbf{x}) + \\nabla_{\\mbf{x}}[h(\\mbf{x})]g(\\mbf{x})$\n",
    "* **Chain rule.** $\\qquad\\nabla_{\\mbf{x}} g(h(\\mbf{x})) = \\nabla_{h(\\mbf{x})} [g(h(\\mbf{x}))]\\cdot\\nabla_{\\mbf{x}}h(\\mbf{x})\\qquad$ **Very important for Deep Learning**"
   ]
  },
  {
   "cell_type": "markdown",
   "metadata": {},
   "source": [
    "## Try it yourself\n",
    "\n",
    "Compute $\\nabla_{\\mbf{x}}\\mbf{x}^T\\mbf{A}\\mbf{x}$.\n",
    "\n",
    "Can be seen as $\\mbf{x}^T\\mbf{f(x)}$ where $\\mbf{f(x)} = \\mbf{A}\\mbf{x}$\n",
    "\n",
    "$\\nabla_{\\mbf{x}}\\mbf{x}^T\\mbf{A}\\mbf{x} = (\\mathbf{A} + \\mathbf{A^T})\\mathbf{x}$"
   ]
  }
 ],
 "metadata": {
  "kernelspec": {
   "display_name": "machine_learning-mnqSl66--py3.12",
   "language": "python",
   "name": "python3"
  },
  "language_info": {
   "codemirror_mode": {
    "name": "ipython",
    "version": 3
   },
   "file_extension": ".py",
   "mimetype": "text/x-python",
   "name": "python",
   "nbconvert_exporter": "python",
   "pygments_lexer": "ipython3",
   "version": "3.12.3"
  }
 },
 "nbformat": 4,
 "nbformat_minor": 2
}
