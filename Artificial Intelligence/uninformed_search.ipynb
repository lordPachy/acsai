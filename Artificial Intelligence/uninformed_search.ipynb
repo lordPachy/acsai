{
  "nbformat": 4,
  "nbformat_minor": 0,
  "metadata": {
    "colab": {
      "provenance": []
    },
    "kernelspec": {
      "name": "python3",
      "display_name": "Python 3"
    },
    "language_info": {
      "name": "python"
    }
  },
  "cells": [
    {
      "cell_type": "code",
      "source": [
        "from __future__ import annotations\n",
        "from typing import Protocol, List, TypeVar, Optional\n",
        "import collections\n",
        "\n",
        "T = TypeVar('T')\n",
        "Location = TypeVar('Location')\n",
        "\n",
        "class Graph(Protocol):\n",
        "    \"\"\"A protocol for representing graphs.\"\"\"\n",
        "    def neighbors(self, id: Location) -> List[Location]:\n",
        "        \"\"\"Returns a list of neighbors for the given location ID.\"\"\"\n",
        "        raise NotImplementedError\n",
        "\n",
        "class SimpleGraph(Graph):\n",
        "    \"\"\"A simple graph implementation.\"\"\"\n",
        "    def __init__(self) -> None:\n",
        "        self.edges: dict[Location, List[Location]] = {}\n",
        "\n",
        "    def neighbors(self, id: Location) -> List[Location]:\n",
        "        \"\"\"Returns a list of neighbors for the given location ID.\"\"\"\n",
        "        return self.edges.get(id, [])\n"
      ],
      "metadata": {
        "id": "3HByUG5YYWrz"
      },
      "execution_count": null,
      "outputs": []
    },
    {
      "cell_type": "code",
      "source": [
        "# Create example graph\n",
        "example_graph: SimpleGraph = SimpleGraph()\n",
        "example_graph.edges = {\n",
        "    'A': ['B'],\n",
        "    'B': ['C'],\n",
        "    'C': ['B', 'D', 'F'],\n",
        "    'D': ['C', 'E'],\n",
        "    'E': ['F'],\n",
        "    'F': [],\n",
        "}"
      ],
      "metadata": {
        "id": "9dJ5OzfE6sni"
      },
      "execution_count": null,
      "outputs": []
    },
    {
      "cell_type": "code",
      "source": [
        "class Queue:\n",
        "    \"\"\"A simple queue implementation using `collections.deque`.\"\"\"\n",
        "    def __init__(self) -> None:\n",
        "        self.elements: collections.deque[T] = collections.deque()\n",
        "\n",
        "    def empty(self) -> bool:\n",
        "        \"\"\"Returns `True` if the queue is empty, `False` otherwise.\"\"\"\n",
        "        return not self.elements\n",
        "\n",
        "    def put(self, x: T) -> None:\n",
        "        \"\"\"Enqueues the given element `x`.\"\"\"\n",
        "        self.elements.append(x)\n",
        "\n",
        "    def get(self) -> T:\n",
        "        \"\"\"Dequeues the first element from the queue.\"\"\"\n",
        "        return self.elements.popleft()\n",
        "\n",
        "\n",
        "def breadth_first_search(graph: Graph, start: Location) -> None:\n",
        "    \"\"\"Performs a breadth-first search on the given graph, starting from the given start location.\"\"\"\n",
        "    frontier: Queue = Queue()\n",
        "    frontier.put(start)\n",
        "\n",
        "    reached: dict[Location, bool] = {start: True}\n",
        "\n",
        "    while not frontier.empty():\n",
        "        current: Location = frontier.get()\n",
        "        print(f\"  Visiting {current}\")\n",
        "\n",
        "        for next_location in graph.neighbors(current):\n",
        "            if next_location not in reached:\n",
        "                frontier.put(next_location)\n",
        "                reached[next_location] = True\n"
      ],
      "metadata": {
        "id": "hEbj6B_ov8v3"
      },
      "execution_count": null,
      "outputs": []
    },
    {
      "cell_type": "code",
      "source": [
        "# Test the breadth-first-search algorithm\n",
        "print('Reachable from A:')\n",
        "breadth_first_search(example_graph, 'A')\n",
        "print('Reachable from E:')\n",
        "breadth_first_search(example_graph, 'E')"
      ],
      "metadata": {
        "id": "D06IIIRWv_r1",
        "outputId": "f6323884-601c-4810-f6f5-74883f995755",
        "colab": {
          "base_uri": "https://localhost:8080/"
        }
      },
      "execution_count": null,
      "outputs": [
        {
          "output_type": "stream",
          "name": "stdout",
          "text": [
            "Reachable from A:\n",
            "  Visiting A\n",
            "  Visiting B\n",
            "  Visiting C\n",
            "  Visiting D\n",
            "  Visiting F\n",
            "  Visiting E\n",
            "Reachable from E:\n",
            "  Visiting E\n",
            "  Visiting F\n"
          ]
        }
      ]
    },
    {
      "cell_type": "code",
      "source": [
        "class Queue:\n",
        "    \"\"\"A simple queue implementation using `collections.deque`.\"\"\"\n",
        "    def __init__(self) -> None:\n",
        "        self.elements: collections.deque[T] = collections.deque()\n",
        "\n",
        "    def empty(self) -> bool:\n",
        "        \"\"\"Returns `True` if the queue is empty, `False` otherwise.\"\"\"\n",
        "        return not self.elements\n",
        "\n",
        "    def put(self, x: T) -> None:\n",
        "        \"\"\"Enqueues the given element `x`.\"\"\"\n",
        "        self.elements.append(x)\n",
        "\n",
        "\n",
        "    def get(self) -> T:\n",
        "        \"\"\"Dequeues the last element from the queue.\"\"\"\n",
        "        return self.elements.pop()\n",
        "\n",
        "def depth_first_search(graph: Graph, start: Location) -> None:\n",
        "    \"\"\"Performs a breadth-first search on the given graph, starting from the given start location.\"\"\"\n",
        "    frontier: Queue = Queue()\n",
        "    frontier.put(start)\n",
        "\n",
        "    reached: dict[Location, bool] = {start: True}\n",
        "\n",
        "    while not frontier.empty():\n",
        "        current: Location = frontier.get()\n",
        "        print(f\"  Visiting {current}\")\n",
        "        for next_location in graph.neighbors(current):\n",
        "            if next_location not in reached:\n",
        "                frontier.put(next_location)\n",
        "                reached[next_location] = True"
      ],
      "metadata": {
        "id": "Q2vHOkmtvRUy"
      },
      "execution_count": null,
      "outputs": []
    },
    {
      "cell_type": "code",
      "source": [
        "# Test the breadth-first-search algorithm\n",
        "print('Reachable from A:')\n",
        "depth_first_search(example_graph, 'A')\n",
        "print('Reachable from E:')\n",
        "depth_first_search(example_graph, 'E')"
      ],
      "metadata": {
        "colab": {
          "base_uri": "https://localhost:8080/"
        },
        "id": "zlP-3T586uSl",
        "outputId": "6ab0e60c-bccd-4fd5-9293-2f39471bb1da"
      },
      "execution_count": null,
      "outputs": [
        {
          "output_type": "stream",
          "name": "stdout",
          "text": [
            "Reachable from A:\n",
            "  Visiting A\n",
            "  Visiting B\n",
            "  Visiting C\n",
            "  Visiting F\n",
            "  Visiting D\n",
            "  Visiting E\n",
            "Reachable from E:\n",
            "  Visiting E\n",
            "  Visiting F\n"
          ]
        }
      ]
    },
    {
      "cell_type": "code",
      "source": [],
      "metadata": {
        "id": "xdRuqHDk19Hm"
      },
      "execution_count": null,
      "outputs": []
    }
  ]
}