{
  "cells": [
    {
      "cell_type": "markdown",
      "metadata": {
        "id": "LZfOhLh6SSbJ"
      },
      "source": [
        "# Imports"
      ]
    },
    {
      "cell_type": "code",
      "execution_count": 81,
      "metadata": {
        "id": "VjugvT2_SLXv"
      },
      "outputs": [],
      "source": [
        "import random\n",
        "import numpy as np\n",
        "from collections import namedtuple\n",
        "import time"
      ]
    },
    {
      "cell_type": "markdown",
      "metadata": {
        "id": "YB9JU62PSX3G"
      },
      "source": [
        "# Game Environment"
      ]
    },
    {
      "cell_type": "code",
      "execution_count": 82,
      "metadata": {
        "colab": {
          "base_uri": "https://localhost:8080/",
          "height": 263
        },
        "id": "7xyvg4EPSam5",
        "outputId": "f321f603-e3d5-4884-a4de-18d783e236ca"
      },
      "outputs": [],
      "source": [
        "class Game:\n",
        "    def __init__(self, initial_state):\n",
        "        self.initial = initial_state\n",
        "\n",
        "    def play(self, players):\n",
        "        state = self.initial\n",
        "        while True:\n",
        "            for player in players:\n",
        "                if self.is_terminal(state): return\n",
        "                move = player(self, state)\n",
        "                state = self.result(state, move)\n",
        "                self.display(state)\n",
        "\n",
        "    def actions(self, state):\n",
        "        raise NotImplementedError\n",
        "\n",
        "    def result(self, state, move):\n",
        "        raise NotImplementedError\n",
        "\n",
        "    def utility(self, state, player):\n",
        "        raise NotImplementedError\n",
        "\n",
        "    def is_terminal(self, state):\n",
        "        return NotImplementedError\n",
        "\n",
        "    def display(self, state):\n",
        "        return NotImplementedError\n",
        "\n",
        "GameState = namedtuple('GameState', ['to_move', 'utility', 'board', 'moves'])\n",
        "\n",
        "class TicTacToe(Game):\n",
        "    def __init__(self, h=3, v=3, k=3):\n",
        "        \"\"\"Initialize TicTacToe with board size and winning condition.\"\"\"\n",
        "        super().__init__(GameState(to_move='X', utility=0, board={},\n",
        "                                   moves=self._all_possible_moves(h, v)))\n",
        "        self.h = h\n",
        "        self.v = v\n",
        "        self.k = k\n",
        "\n",
        "    def _all_possible_moves(self, h, v):\n",
        "        \"\"\"Generate all possible moves on the given board size.\"\"\"\n",
        "        return [(x, y) for x in range(1, h + 1) for y in range(1, v + 1)]\n",
        "\n",
        "    def actions(self, state):\n",
        "        return state.moves\n",
        "\n",
        "    def result(self, state, move):\n",
        "        if move not in state.moves:\n",
        "            return state\n",
        "        board = state.board.copy()\n",
        "        board[move] = state.to_move\n",
        "        moves = list(state.moves)\n",
        "        moves.remove(move)\n",
        "        next_player = 'O' if state.to_move == 'X' else 'X'\n",
        "        return GameState(to_move=next_player,\n",
        "                        utility=self.compute_utility(board, move, state.to_move),\n",
        "                        board=board, moves=moves)\n",
        "\n",
        "    def utility(self, state, player):\n",
        "        return state.utility if player == 'X' else -state.utility\n",
        "\n",
        "    def is_terminal(self, state):\n",
        "        return state.utility != 0 or len(state.moves) == 0\n",
        "\n",
        "    def display(self, state):\n",
        "        board = state.board\n",
        "        for x in range(1, self.h + 1):\n",
        "            for y in range(1, self.v + 1):\n",
        "                print(board.get((x, y), '.'), end=' ')\n",
        "            print()\n",
        "\n",
        "    def compute_utility(self, board, move, player):\n",
        "        \"\"\"If 'X' wins with this move, return 1; if 'O' wins return -1; else return 0.\"\"\"\n",
        "        if (self.k_in_row(board, move, player, (0, 1)) or\n",
        "                self.k_in_row(board, move, player, (1, 0)) or\n",
        "                self.k_in_row(board, move, player, (1, -1)) or\n",
        "                self.k_in_row(board, move, player, (1, 1))):\n",
        "            return +1 if player == 'X' else - 1\n",
        "        else:\n",
        "            return 0\n",
        "\n",
        "    def k_in_row(self, board, move, player, delta_x_y):\n",
        "        \"\"\"Return true if there is a line through move on board for player.\"\"\"\n",
        "        (delta_x, delta_y) = delta_x_y\n",
        "        x, y = move\n",
        "        n = 0  # n is number of moves in row\n",
        "        while board.get((x, y)) == player:\n",
        "            n += 1\n",
        "            x, y = x + delta_x, y + delta_y\n",
        "        x, y = move\n",
        "        while board.get((x, y)) == player:\n",
        "            n += 1\n",
        "            x, y = x - delta_x, y - delta_y\n",
        "        n -= 1  # Because we counted move itself twice\n",
        "        return n >= self.k"
      ]
    },
    {
      "cell_type": "markdown",
      "metadata": {
        "id": "t_m2Zy9jSizp"
      },
      "source": [
        "# MinMax Search"
      ]
    },
    {
      "cell_type": "code",
      "execution_count": 83,
      "metadata": {
        "id": "7nkAxfvm5vxN"
      },
      "outputs": [],
      "source": [
        "MAXVALUE = np.inf\n",
        "MINVALUE = -np.inf\n",
        "def minmax_search(game, state):\n",
        "    player = state.to_move\n",
        "\n",
        "    def max_value(state):\n",
        "        if game.is_terminal(state):\n",
        "            return game.utility(state, player)\n",
        "        \n",
        "        v = MINVALUE\n",
        "\n",
        "        for a in game.actions(state):\n",
        "            v = max(v, min_value(game.result(state, a)))\n",
        "        return v\n",
        "    \n",
        "    def min_value(state):\n",
        "        if game.is_terminal(state):\n",
        "            return game.utility(state, player)\n",
        "        \n",
        "        v = MAXVALUE\n",
        "\n",
        "        for a in game.actions(state):\n",
        "            v = min(v, max_value(game.result(state, a)))\n",
        "        return v\n",
        "    \n",
        "    print(f\"Turn of {player}, available actions {game.actions(state)}\")\n",
        "    return max(game.actions(state), key = lambda a: min_value(game.result(state, a)))\n",
        "\n",
        "def random_player(game, state):\n",
        "    return random.choice(list(game.actions(state)))\n",
        "\n",
        "def player(search_algo):\n",
        "    return lambda game, state:search_algo(game, state)"
      ]
    },
    {
      "cell_type": "code",
      "execution_count": 84,
      "metadata": {},
      "outputs": [
        {
          "name": "stdout",
          "output_type": "stream",
          "text": [
            "Turn of X, available actions [(1, 1), (1, 2), (1, 3), (2, 1), (2, 2), (2, 3), (3, 1), (3, 2), (3, 3)]\n"
          ]
        },
        {
          "name": "stdout",
          "output_type": "stream",
          "text": [
            "X . . \n",
            ". . . \n",
            ". . . \n",
            "X O . \n",
            ". . . \n",
            ". . . \n",
            "Turn of X, available actions [(1, 3), (2, 1), (2, 2), (2, 3), (3, 1), (3, 2), (3, 3)]\n",
            "X O . \n",
            "X . . \n",
            ". . . \n",
            "X O O \n",
            "X . . \n",
            ". . . \n",
            "Turn of X, available actions [(2, 2), (2, 3), (3, 1), (3, 2), (3, 3)]\n",
            "X O O \n",
            "X X . \n",
            ". . . \n",
            "X O O \n",
            "X X . \n",
            ". . O \n",
            "Turn of X, available actions [(2, 3), (3, 1), (3, 2)]\n",
            "X O O \n",
            "X X X \n",
            ". . O \n",
            "Execution time: 1.05 seconds\n"
          ]
        }
      ],
      "source": [
        "start_t = time.time()\n",
        "TicTacToe().play([player(minmax_search), random_player])\n",
        "end_t = time.time()\n",
        "print(f\"Execution time: {end_t-start_t:.2f} seconds\")"
      ]
    },
    {
      "cell_type": "markdown",
      "metadata": {
        "id": "toE_oQpySsNP"
      },
      "source": [
        "# AlphaBeta Pruning"
      ]
    },
    {
      "cell_type": "code",
      "execution_count": 85,
      "metadata": {},
      "outputs": [],
      "source": [
        "MAXVALUE = np.inf\n",
        "MINVALUE = -np.inf\n",
        "def alphabeta_search(game, state):\n",
        "    player = state.to_move\n",
        "\n",
        "    def max_value(state, alpha = MINVALUE, beta = MAXVALUE):\n",
        "        if game.is_terminal(state):\n",
        "            return game.utility(state, player)\n",
        "        \n",
        "        v = MINVALUE\n",
        "\n",
        "        for a in game.actions(state):\n",
        "            v = max(v, min_value(game.result(state, a), alpha, beta))\n",
        "            if v >= beta:\n",
        "                return v\n",
        "            alpha = max(alpha, v)\n",
        "        return v\n",
        "    \n",
        "    def min_value(state, alpha = MINVALUE, beta = MAXVALUE):\n",
        "        if game.is_terminal(state):\n",
        "            return game.utility(state, player)\n",
        "        \n",
        "        v = MAXVALUE\n",
        "\n",
        "        for a in game.actions(state):\n",
        "            v = min(v, max_value(game.result(state, a), alpha, beta))\n",
        "            if v <= alpha:\n",
        "                return v\n",
        "            beta = min(beta, v)\n",
        "        return v\n",
        "    \n",
        "    print(f\"Turn of {player}, available actions {game.actions(state)}\")\n",
        "    return max(game.actions(state), key = lambda a: min_value(game.result(state, a)))\n",
        "\n",
        "def random_player(game, state):\n",
        "    return random.choice(list(game.actions(state)))\n",
        "\n",
        "def player(search_algo):\n",
        "    return lambda game, state:search_algo(game, state)"
      ]
    },
    {
      "cell_type": "code",
      "execution_count": 86,
      "metadata": {},
      "outputs": [
        {
          "name": "stdout",
          "output_type": "stream",
          "text": [
            "Turn of X, available actions [(1, 1), (1, 2), (1, 3), (2, 1), (2, 2), (2, 3), (3, 1), (3, 2), (3, 3)]\n",
            "X . . \n",
            ". . . \n",
            ". . . \n",
            "X . . \n",
            ". . . \n",
            ". O . \n",
            "Turn of X, available actions [(1, 2), (1, 3), (2, 1), (2, 2), (2, 3), (3, 1), (3, 3)]\n",
            "X . X \n",
            ". . . \n",
            ". O . \n",
            "X O X \n",
            ". . . \n",
            ". O . \n",
            "Turn of X, available actions [(2, 1), (2, 2), (2, 3), (3, 1), (3, 3)]\n",
            "X O X \n",
            ". X . \n",
            ". O . \n",
            "X O X \n",
            ". X . \n",
            "O O . \n",
            "Turn of X, available actions [(2, 1), (2, 3), (3, 3)]\n",
            "X O X \n",
            ". X . \n",
            "O O X \n",
            "Execution time: 0.06 seconds\n"
          ]
        }
      ],
      "source": [
        "start_t = time.time()\n",
        "TicTacToe().play([player(alphabeta_search), random_player])\n",
        "end_t = time.time()\n",
        "print(f\"Execution time: {end_t-start_t:.2f} seconds\")"
      ]
    },
    {
      "cell_type": "markdown",
      "metadata": {},
      "source": [
        "# ExpectiMax"
      ]
    },
    {
      "cell_type": "code",
      "execution_count": 87,
      "metadata": {},
      "outputs": [],
      "source": [
        "MINVALUE = -np.inf\n",
        "def expectimax_search(game, state):\n",
        "    player = state.to_move\n",
        "\n",
        "    def exp_value(state):\n",
        "        if game.is_terminal(state):\n",
        "            return game.utility(state, player)\n",
        "        \n",
        "        v = 0\n",
        "\n",
        "        for a in game.actions(state):\n",
        "            p = 1/len(game.actions(state))\n",
        "            v += p * max_value(game.result(state, a))\n",
        "\n",
        "        return v\n",
        "\n",
        "    def max_value(state):\n",
        "        if game.is_terminal(state):\n",
        "            return game.utility(state, player)\n",
        "        \n",
        "        v = MINVALUE\n",
        "\n",
        "        for a in game.actions(state):\n",
        "            v = max(v, exp_value(game.result(state, a)))\n",
        "        return v\n",
        "    \n",
        "    print(f\"Turn of {player}, available actions {game.actions(state)}\")\n",
        "    return max(game.actions(state), key = lambda a: exp_value(game.result(state, a)))\n",
        "\n",
        "def random_player(game, state):\n",
        "    return random.choice(list(game.actions(state)))\n",
        "\n",
        "def player(search_algo):\n",
        "    return lambda game, state:search_algo(game, state)"
      ]
    },
    {
      "cell_type": "code",
      "execution_count": 88,
      "metadata": {},
      "outputs": [
        {
          "name": "stdout",
          "output_type": "stream",
          "text": [
            "Turn of X, available actions [(1, 1), (1, 2), (1, 3), (2, 1), (2, 2), (2, 3), (3, 1), (3, 2), (3, 3)]\n",
            "X . . \n",
            ". . . \n",
            ". . . \n",
            "X . O \n",
            ". . . \n",
            ". . . \n",
            "Turn of X, available actions [(1, 2), (2, 1), (2, 2), (2, 3), (3, 1), (3, 2), (3, 3)]\n",
            "X . O \n",
            "X . . \n",
            ". . . \n",
            "X . O \n",
            "X . O \n",
            ". . . \n",
            "Turn of X, available actions [(1, 2), (2, 2), (3, 1), (3, 2), (3, 3)]\n",
            "X . O \n",
            "X . O \n",
            "X . . \n",
            "Execution time: 1.05 seconds\n"
          ]
        }
      ],
      "source": [
        "start_t = time.time()\n",
        "TicTacToe().play([player(expectimax_search), random_player])\n",
        "end_t = time.time()\n",
        "print(f\"Execution time: {end_t-start_t:.2f} seconds\")"
      ]
    },
    {
      "cell_type": "markdown",
      "metadata": {},
      "source": [
        "# AlphaBeta ExpectiMax"
      ]
    },
    {
      "cell_type": "code",
      "execution_count": 89,
      "metadata": {},
      "outputs": [],
      "source": [
        "MAXVALUE = np.inf\n",
        "MINVALUE = -np.inf\n",
        "def abexpectimax_search(game, state):\n",
        "    player = state.to_move\n",
        "\n",
        "    def exp_value(state, alpha = MINVALUE, beta = MAXVALUE):\n",
        "        if game.is_terminal(state):\n",
        "            return game.utility(state, player)\n",
        "        \n",
        "        v = 0\n",
        "\n",
        "        for a in game.actions(state):\n",
        "            p = 1/len(game.actions(state))\n",
        "            v += p * max_value(game.result(state, a), alpha, beta)\n",
        "\n",
        "            if v <= alpha:\n",
        "                return v\n",
        "            beta = min(v, beta)\n",
        "        return v\n",
        "\n",
        "    def max_value(state, alpha = MINVALUE, beta = MAXVALUE):\n",
        "        if game.is_terminal(state):\n",
        "            return game.utility(state, player)\n",
        "        \n",
        "        v = MINVALUE\n",
        "\n",
        "        for a in game.actions(state):\n",
        "            v = max(v, exp_value(game.result(state, a), alpha, beta))\n",
        "            if v >= beta:\n",
        "                return v\n",
        "            alpha = max(v, alpha)\n",
        "        return v\n",
        "    \n",
        "    print(f\"Turn of {player}, available actions {game.actions(state)}\")\n",
        "    return max(game.actions(state), key = lambda a: exp_value(game.result(state, a)))\n",
        "\n",
        "def random_player(game, state):\n",
        "    return random.choice(list(game.actions(state)))\n",
        "\n",
        "def player(search_algo):\n",
        "    return lambda game, state:search_algo(game, state)"
      ]
    },
    {
      "cell_type": "code",
      "execution_count": 90,
      "metadata": {},
      "outputs": [
        {
          "name": "stdout",
          "output_type": "stream",
          "text": [
            "Turn of X, available actions [(1, 1), (1, 2), (1, 3), (2, 1), (2, 2), (2, 3), (3, 1), (3, 2), (3, 3)]\n",
            "X . . \n",
            ". . . \n",
            ". . . \n",
            "Turn of O, available actions [(1, 2), (1, 3), (2, 1), (2, 2), (2, 3), (3, 1), (3, 2), (3, 3)]\n",
            "X . . \n",
            ". . O \n",
            ". . . \n",
            "Turn of X, available actions [(1, 2), (1, 3), (2, 1), (2, 2), (3, 1), (3, 2), (3, 3)]\n",
            "X . X \n",
            ". . O \n",
            ". . . \n",
            "Turn of O, available actions [(1, 2), (2, 1), (2, 2), (3, 1), (3, 2), (3, 3)]\n",
            "X O X \n",
            ". . O \n",
            ". . . \n",
            "Turn of X, available actions [(2, 1), (2, 2), (3, 1), (3, 2), (3, 3)]\n",
            "X O X \n",
            ". . O \n",
            "X . . \n",
            "Turn of O, available actions [(2, 1), (2, 2), (3, 2), (3, 3)]\n",
            "X O X \n",
            "O . O \n",
            "X . . \n",
            "Turn of X, available actions [(2, 2), (3, 2), (3, 3)]\n",
            "X O X \n",
            "O X O \n",
            "X . . \n",
            "Execution time: 0.05 seconds\n"
          ]
        }
      ],
      "source": [
        "start_t = time.time()\n",
        "TicTacToe().play([player(abexpectimax_search), player(abexpectimax_search)])\n",
        "end_t = time.time()\n",
        "print(f\"Execution time: {end_t-start_t:.2f} seconds\")"
      ]
    },
    {
      "cell_type": "markdown",
      "metadata": {},
      "source": [
        "# MCTS"
      ]
    },
    {
      "cell_type": "code",
      "execution_count": 91,
      "metadata": {},
      "outputs": [
        {
          "ename": "IndentationError",
          "evalue": "expected an indented block after function definition on line 29 (2000076853.py, line 31)",
          "output_type": "error",
          "traceback": [
            "\u001b[0;36m  Cell \u001b[0;32mIn[91], line 31\u001b[0;36m\u001b[0m\n\u001b[0;31m    def simulation():\u001b[0m\n\u001b[0m    ^\u001b[0m\n\u001b[0;31mIndentationError\u001b[0m\u001b[0;31m:\u001b[0m expected an indented block after function definition on line 29\n"
          ]
        }
      ],
      "source": [
        "from collections import defaultdict\n",
        "MAXVALUE = np.inf\n",
        "MINVALUE = -np.inf\n",
        "\n",
        "def mcts(game, state, n_simulations, depth_simulation):\n",
        "    player = state.to_move\n",
        "\n",
        "    played = defaultdict(int)\n",
        "    won = defaultdict(int)\n",
        "\n",
        "    def U(state):\n",
        "        return won[state]\n",
        "    \n",
        "    def N(state):\n",
        "        return played[state]\n",
        "    \n",
        "    def UCB1(state, trade_off):\n",
        "        promising = U(state)/N(state)\n",
        "        uncertain = trade_off * np.sqrt(1/N(state))\n",
        "\n",
        "        return promising + uncertain\n",
        "\n",
        "\n",
        "    def selection(state, depth_simulation):\n",
        "        if game.is_terminal(state):\n",
        "            return game.utility(state, player)\n",
        "        elif depth_simulation == 0:\n",
        "            return expansion(state)\n",
        "\n",
        "        ucb_selected = max(game.actions())\n",
        "        \n",
        "    \n",
        "    def expansion():\n",
        "\n",
        "    def simulation():\n",
        "\n",
        "    def backpropagation():\n",
        "\n",
        "\n",
        "    \n",
        "    print(f\"Turn of {player}, available actions {game.actions(state)}\")\n",
        "    return max(game.actions(state), key = lambda a: selection(game.result(state, a)))\n",
        "\n",
        "def random_player(game, state):\n",
        "    return random.choice(list(game.actions(state)))\n",
        "\n",
        "def player(search_algo):\n",
        "    return lambda game, state:search_algo(game, state)"
      ]
    },
    {
      "cell_type": "code",
      "execution_count": null,
      "metadata": {},
      "outputs": [
        {
          "name": "stdout",
          "output_type": "stream",
          "text": [
            "Turn of X, available actions [(1, 1), (1, 2), (1, 3), (2, 1), (2, 2), (2, 3), (3, 1), (3, 2), (3, 3)]\n",
            "X . . \n",
            ". . . \n",
            ". . . \n",
            "X . . \n",
            "O . . \n",
            ". . . \n",
            "Turn of X, available actions [(1, 2), (1, 3), (2, 2), (2, 3), (3, 1), (3, 2), (3, 3)]\n",
            "X X . \n",
            "O . . \n",
            ". . . \n",
            "X X . \n",
            "O . . \n",
            ". O . \n",
            "Turn of X, available actions [(1, 3), (2, 2), (2, 3), (3, 1), (3, 3)]\n",
            "X X X \n",
            "O . . \n",
            ". O . \n",
            "Execution time: 1.06 seconds\n"
          ]
        }
      ],
      "source": [
        "start_t = time.time()\n",
        "TicTacToe().play([player(mcts), random_player])\n",
        "end_t = time.time()\n",
        "print(f\"Execution time: {end_t-start_t:.2f} seconds\")"
      ]
    }
  ],
  "metadata": {
    "colab": {
      "provenance": []
    },
    "kernelspec": {
      "display_name": "Python 3",
      "name": "python3"
    },
    "language_info": {
      "codemirror_mode": {
        "name": "ipython",
        "version": 3
      },
      "file_extension": ".py",
      "mimetype": "text/x-python",
      "name": "python",
      "nbconvert_exporter": "python",
      "pygments_lexer": "ipython3",
      "version": "3.12.2"
    }
  },
  "nbformat": 4,
  "nbformat_minor": 0
}
