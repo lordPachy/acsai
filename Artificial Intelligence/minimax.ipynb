{
  "cells": [
    {
      "cell_type": "markdown",
      "metadata": {
        "id": "LZfOhLh6SSbJ"
      },
      "source": [
        "# Imports"
      ]
    },
    {
      "cell_type": "code",
      "execution_count": 11,
      "metadata": {
        "id": "VjugvT2_SLXv"
      },
      "outputs": [],
      "source": [
        "import random\n",
        "import numpy as np\n",
        "from collections import namedtuple"
      ]
    },
    {
      "cell_type": "markdown",
      "metadata": {
        "id": "YB9JU62PSX3G"
      },
      "source": [
        "# Game Environment"
      ]
    },
    {
      "cell_type": "code",
      "execution_count": 12,
      "metadata": {
        "colab": {
          "base_uri": "https://localhost:8080/",
          "height": 263
        },
        "id": "7xyvg4EPSam5",
        "outputId": "f321f603-e3d5-4884-a4de-18d783e236ca"
      },
      "outputs": [],
      "source": [
        "class Game:\n",
        "    def __init__(self, initial_state):\n",
        "        self.initial = initial_state\n",
        "\n",
        "    def play(self, players):\n",
        "        state = self.initial\n",
        "        while True:\n",
        "            for player in players:\n",
        "                if self.is_terminal(state): return\n",
        "                move = player(self, state)\n",
        "                state = self.result(state, move)\n",
        "                self.display(state)\n",
        "\n",
        "    def actions(self, state):\n",
        "        raise NotImplementedError\n",
        "\n",
        "    def result(self, state, move):\n",
        "        raise NotImplementedError\n",
        "\n",
        "    def utility(self, state, player):\n",
        "        raise NotImplementedError\n",
        "\n",
        "    def is_terminal(self, state):\n",
        "        return NotImplementedError\n",
        "\n",
        "    def display(self, state):\n",
        "        return NotImplementedError\n",
        "\n",
        "GameState = namedtuple('GameState', ['to_move', 'utility', 'board', 'moves'])\n",
        "\n",
        "class TicTacToe(Game):\n",
        "    def __init__(self, h=3, v=3, k=3):\n",
        "        \"\"\"Initialize TicTacToe with board size and winning condition.\"\"\"\n",
        "        super().__init__(GameState(to_move='X', utility=0, board={},\n",
        "                                   moves=self._all_possible_moves(h, v)))\n",
        "        self.h = h\n",
        "        self.v = v\n",
        "        self.k = k\n",
        "\n",
        "    def _all_possible_moves(self, h, v):\n",
        "        \"\"\"Generate all possible moves on the given board size.\"\"\"\n",
        "        return [(x, y) for x in range(1, h + 1) for y in range(1, v + 1)]\n",
        "\n",
        "    def actions(self, state):\n",
        "        return state.moves\n",
        "\n",
        "    def result(self, state, move):\n",
        "        if move not in state.moves:\n",
        "            return state\n",
        "        board = state.board.copy()\n",
        "        board[move] = state.to_move\n",
        "        moves = list(state.moves)\n",
        "        moves.remove(move)\n",
        "        next_player = 'O' if state.to_move == 'X' else 'X'\n",
        "        return GameState(to_move=next_player,\n",
        "                        utility=self.compute_utility(board, move, state.to_move),\n",
        "                        board=board, moves=moves)\n",
        "\n",
        "    def utility(self, state, player):\n",
        "        return state.utility if player == 'X' else -state.utility\n",
        "\n",
        "    def is_terminal(self, state):\n",
        "        return state.utility != 0 or len(state.moves) == 0\n",
        "\n",
        "    def display(self, state):\n",
        "        board = state.board\n",
        "        for x in range(1, self.h + 1):\n",
        "            for y in range(1, self.v + 1):\n",
        "                print(board.get((x, y), '.'), end=' ')\n",
        "            print()\n",
        "\n",
        "    def compute_utility(self, board, move, player):\n",
        "        \"\"\"If 'X' wins with this move, return 1; if 'O' wins return -1; else return 0.\"\"\"\n",
        "        if (self.k_in_row(board, move, player, (0, 1)) or\n",
        "                self.k_in_row(board, move, player, (1, 0)) or\n",
        "                self.k_in_row(board, move, player, (1, -1)) or\n",
        "                self.k_in_row(board, move, player, (1, 1))):\n",
        "            return +1 if player == 'X' else - 1\n",
        "        else:\n",
        "            return 0\n",
        "\n",
        "    def k_in_row(self, board, move, player, delta_x_y):\n",
        "        \"\"\"Return true if there is a line through move on board for player.\"\"\"\n",
        "        (delta_x, delta_y) = delta_x_y\n",
        "        x, y = move\n",
        "        n = 0  # n is number of moves in row\n",
        "        while board.get((x, y)) == player:\n",
        "            n += 1\n",
        "            x, y = x + delta_x, y + delta_y\n",
        "        x, y = move\n",
        "        while board.get((x, y)) == player:\n",
        "            n += 1\n",
        "            x, y = x - delta_x, y - delta_y\n",
        "        n -= 1  # Because we counted move itself twice\n",
        "        return n >= self.k"
      ]
    },
    {
      "cell_type": "markdown",
      "metadata": {
        "id": "t_m2Zy9jSizp"
      },
      "source": [
        "# MinMax Search"
      ]
    },
    {
      "cell_type": "code",
      "execution_count": 13,
      "metadata": {
        "id": "7nkAxfvm5vxN"
      },
      "outputs": [],
      "source": [
        "MAXVALUE = np.inf\n",
        "MINVALUE = -np.inf\n",
        "def minmax_search(game, state):\n",
        "    player = state.to_move\n",
        "\n",
        "    def max_value(state):\n",
        "        if game.is_terminal(state):\n",
        "            return game.utility(state, player)\n",
        "        \n",
        "        v = MINVALUE\n",
        "\n",
        "        for a in game.actions(state):\n",
        "            v = max(v, min_value(game.result(state, a)))\n",
        "        return v\n",
        "    \n",
        "    def min_value(state):\n",
        "        if game.is_terminal(state):\n",
        "            return game.utility(state, player)\n",
        "        \n",
        "        v = MAXVALUE\n",
        "\n",
        "        for a in game.actions(state):\n",
        "            v = min(v, max_value(game.result(state, a)))\n",
        "        return v\n",
        "    \n",
        "    print(f\"Turn of {player}, available actions {game.actions(state)}\")\n",
        "    return max(game.actions(state), key = lambda a: min_value(game.result(state, a)))\n",
        "\n",
        "def random_player(game, state):\n",
        "    return random.choice(list(game.actions(state)))\n",
        "\n",
        "def player(search_algo):\n",
        "    return lambda game, state:search_algo(game, state)"
      ]
    },
    {
      "cell_type": "code",
      "execution_count": 14,
      "metadata": {},
      "outputs": [
        {
          "name": "stdout",
          "output_type": "stream",
          "text": [
            "Turn of X, available actions [(1, 1), (1, 2), (1, 3), (2, 1), (2, 2), (2, 3), (3, 1), (3, 2), (3, 3)]\n",
            "X . . \n",
            ". . . \n",
            ". . . \n",
            "X O . \n",
            ". . . \n",
            ". . . \n",
            "Turn of X, available actions [(1, 3), (2, 1), (2, 2), (2, 3), (3, 1), (3, 2), (3, 3)]\n",
            "X O . \n",
            "X . . \n",
            ". . . \n",
            "X O O \n",
            "X . . \n",
            ". . . \n",
            "Turn of X, available actions [(2, 2), (2, 3), (3, 1), (3, 2), (3, 3)]\n",
            "X O O \n",
            "X X . \n",
            ". . . \n",
            "X O O \n",
            "X X O \n",
            ". . . \n",
            "Turn of X, available actions [(3, 1), (3, 2), (3, 3)]\n",
            "X O O \n",
            "X X O \n",
            "X . . \n"
          ]
        }
      ],
      "source": [
        "TicTacToe().play([player(minmax_search), random_player])"
      ]
    },
    {
      "cell_type": "markdown",
      "metadata": {
        "id": "toE_oQpySsNP"
      },
      "source": [
        "# AlphaBeta Pruning"
      ]
    },
    {
      "cell_type": "code",
      "execution_count": null,
      "metadata": {},
      "outputs": [],
      "source": [
        "MAXVALUE = np.inf\n",
        "MINVALUE = -np.inf\n",
        "def minmax_search(game, state):\n",
        "    player = state.to_move\n",
        "\n",
        "    def max_value(state):\n",
        "        if game.is_terminal(state):\n",
        "            return game.utility(state, player)\n",
        "        \n",
        "        v = MINVALUE\n",
        "\n",
        "        for a in game.actions(state):\n",
        "            v = max(v, min_value(game.result(state, a)))\n",
        "        return v\n",
        "    \n",
        "    def min_value(state):\n",
        "        if game.is_terminal(state):\n",
        "            return game.utility(state, player)\n",
        "        \n",
        "        v = MAXVALUE\n",
        "\n",
        "        for a in game.actions(state):\n",
        "            v = min(v, max_value(game.result(state, a)))\n",
        "        return v\n",
        "    \n",
        "    print(f\"Turn of {player}, available actions {game.actions(state)}\")\n",
        "    return max(game.actions(state), key = lambda a: min_value(game.result(state, a)))\n",
        "\n",
        "def random_player(game, state):\n",
        "    return random.choice(list(game.actions(state)))\n",
        "\n",
        "def player(search_algo):\n",
        "    return lambda game, state:search_algo(game, state)"
      ]
    },
    {
      "cell_type": "code",
      "execution_count": null,
      "metadata": {},
      "outputs": [],
      "source": [
        "TicTacToe().play([player(minmax_search), random_player])"
      ]
    }
  ],
  "metadata": {
    "colab": {
      "provenance": []
    },
    "kernelspec": {
      "display_name": "Python 3",
      "name": "python3"
    },
    "language_info": {
      "codemirror_mode": {
        "name": "ipython",
        "version": 3
      },
      "file_extension": ".py",
      "mimetype": "text/x-python",
      "name": "python",
      "nbconvert_exporter": "python",
      "pygments_lexer": "ipython3",
      "version": "3.10.13"
    }
  },
  "nbformat": 4,
  "nbformat_minor": 0
}
