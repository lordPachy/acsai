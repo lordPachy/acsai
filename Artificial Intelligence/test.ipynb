{
 "cells": [
  {
   "cell_type": "code",
   "execution_count": 13,
   "metadata": {},
   "outputs": [],
   "source": [
    "from __future__ import annotations\n",
    "from typing import Protocol, List, TypeVar, Optional\n",
    "import collections\n",
    "\n",
    "T = TypeVar('T')\n",
    "Location = TypeVar('Location')\n",
    "\n",
    "class Graph(Protocol):\n",
    "    def neighbour(self, id: Location) ->List [Location]:\n",
    "        pass\n",
    "\n",
    "class SimpleGraph(Graph):\n",
    "    def __init__(self) -> None:\n",
    "        self.edges : {Location, List[Location]} = {}\n",
    "\n",
    "def neighbour(self, id: Location) ->List[Location]:\n",
    "    return self.edges.ge(id, [])"
   ]
  },
  {
   "cell_type": "code",
   "execution_count": 14,
   "metadata": {},
   "outputs": [],
   "source": [
    "class Queue:\n",
    "    def __init__(self) -> None:\n",
    "        self.elements: collections.deque[T] = collections.deque()\n",
    "\n",
    "    def empty(self) -> bool:\n",
    "        return not self.elements\n",
    "    \n",
    "    def put(self, x: T) -> None:\n",
    "        self.elements.append(x)\n",
    "\n",
    "    def get(self) -> T:\n",
    "        return self.elements.popleft()"
   ]
  },
  {
   "cell_type": "code",
   "execution_count": 15,
   "metadata": {},
   "outputs": [],
   "source": [
    "example_graph = SimpleGraph()"
   ]
  },
  {
   "cell_type": "code",
   "execution_count": 16,
   "metadata": {},
   "outputs": [],
   "source": [
    "example_graph.edges = {\n",
    "    'A': ['B'],\n",
    "    'B': ['C'],\n",
    "    'C': ['B', \"D\", \"F\"],\n",
    "    \"D\": [\"C\", \"E\"],\n",
    "    \"E\": [\"F\"],\n",
    "    \"F\": []\n",
    "}"
   ]
  },
  {
   "cell_type": "code",
   "execution_count": 17,
   "metadata": {},
   "outputs": [],
   "source": [
    "def bfs(graph: Graph, start: Location) -> None:\n",
    "    frontier = Queue()\n",
    "    frontier.put(start)\n",
    "\n",
    "    reached: dict[Location, bool] = {start: True}\n",
    "\n",
    "    while not frontier.empty():\n",
    "        current: Location = frontier.get()\n",
    "        print(f\"Visiting {current}\")\n",
    "\n",
    "        for next_location in graph.neighbour(current):\n",
    "            if next_location not in reached:\n",
    "                frontier.put(next_location)\n",
    "                reached[next_location] = True"
   ]
  },
  {
   "cell_type": "code",
   "execution_count": 18,
   "metadata": {},
   "outputs": [
    {
     "name": "stdout",
     "output_type": "stream",
     "text": [
      "Visiting A\n"
     ]
    },
    {
     "ename": "TypeError",
     "evalue": "'NoneType' object is not iterable",
     "output_type": "error",
     "traceback": [
      "\u001b[0;31m---------------------------------------------------------------------------\u001b[0m",
      "\u001b[0;31mTypeError\u001b[0m                                 Traceback (most recent call last)",
      "Cell \u001b[0;32mIn[18], line 1\u001b[0m\n\u001b[0;32m----> 1\u001b[0m \u001b[43mbfs\u001b[49m\u001b[43m(\u001b[49m\u001b[43mexample_graph\u001b[49m\u001b[43m,\u001b[49m\u001b[43m \u001b[49m\u001b[38;5;124;43m\"\u001b[39;49m\u001b[38;5;124;43mA\u001b[39;49m\u001b[38;5;124;43m\"\u001b[39;49m\u001b[43m)\u001b[49m\n",
      "Cell \u001b[0;32mIn[17], line 11\u001b[0m, in \u001b[0;36mbfs\u001b[0;34m(graph, start)\u001b[0m\n\u001b[1;32m      8\u001b[0m current: Location \u001b[38;5;241m=\u001b[39m frontier\u001b[38;5;241m.\u001b[39mget()\n\u001b[1;32m      9\u001b[0m \u001b[38;5;28mprint\u001b[39m(\u001b[38;5;124mf\u001b[39m\u001b[38;5;124m\"\u001b[39m\u001b[38;5;124mVisiting \u001b[39m\u001b[38;5;132;01m{\u001b[39;00mcurrent\u001b[38;5;132;01m}\u001b[39;00m\u001b[38;5;124m\"\u001b[39m)\n\u001b[0;32m---> 11\u001b[0m \u001b[38;5;28;01mfor\u001b[39;00m next_location \u001b[38;5;129;01min\u001b[39;00m graph\u001b[38;5;241m.\u001b[39mneighbour(current):\n\u001b[1;32m     12\u001b[0m     \u001b[38;5;28;01mif\u001b[39;00m next_location \u001b[38;5;129;01mnot\u001b[39;00m \u001b[38;5;129;01min\u001b[39;00m reached:\n\u001b[1;32m     13\u001b[0m         frontier\u001b[38;5;241m.\u001b[39mput(next_location)\n",
      "\u001b[0;31mTypeError\u001b[0m: 'NoneType' object is not iterable"
     ]
    }
   ],
   "source": [
    "bfs(example_graph, \"A\")"
   ]
  }
 ],
 "metadata": {
  "kernelspec": {
   "display_name": "ailab",
   "language": "python",
   "name": "python3"
  },
  "language_info": {
   "codemirror_mode": {
    "name": "ipython",
    "version": 3
   },
   "file_extension": ".py",
   "mimetype": "text/x-python",
   "name": "python",
   "nbconvert_exporter": "python",
   "pygments_lexer": "ipython3",
   "version": "3.1.undefined"
  }
 },
 "nbformat": 4,
 "nbformat_minor": 2
}
