{
 "cells": [
  {
   "cell_type": "markdown",
   "metadata": {},
   "source": [
    "# Imports"
   ]
  },
  {
   "cell_type": "code",
   "execution_count": 200,
   "metadata": {},
   "outputs": [],
   "source": [
    "import torch\n",
    "import matplotlib.pyplot as plt\n",
    "import numpy as np\n",
    "from IPython.display import clear_output\n",
    "import time\n",
    "%matplotlib inline\n",
    "set_seed = torch.manual_seed(0)"
   ]
  },
  {
   "cell_type": "markdown",
   "metadata": {},
   "source": [
    "# Data generator"
   ]
  },
  {
   "cell_type": "code",
   "execution_count": 201,
   "metadata": {},
   "outputs": [],
   "source": [
    "def regression_data_generator(n, k=2):\n",
    "    '''\n",
    "    n is the number of samples per minibatch\n",
    "    k is the dimensionality of each vector x\n",
    "    '''\n",
    "    x = torch.rand(n, k) #x is nxk\n",
    "    w = torch.tensor([10.0, -6.0])       #parameter initialization\n",
    "\n",
    "    y = torch.tensor([torch.dot(w, v_i) for v_i in x])\n",
    "\n",
    "    return x, y"
   ]
  },
  {
   "cell_type": "markdown",
   "metadata": {},
   "source": [
    "# Model\n"
   ]
  },
  {
   "cell_type": "code",
   "execution_count": 202,
   "metadata": {},
   "outputs": [],
   "source": [
    "class Regression_model:\n",
    "    def __init__(self, k = 2, sigma = 0.01):\n",
    "        self.W = torch.normal(mean=0,\n",
    "                              std=sigma,\n",
    "                              size=(k,),\n",
    "                              requires_grad=True)\n",
    "        self.b = torch.zeros(size=(1,), requires_grad=True)\n",
    "        \n",
    "    def forward(self, x):\n",
    "        return x@(self.W.reshape((x.shape[-1], 1))) + self.b"
   ]
  },
  {
   "cell_type": "markdown",
   "metadata": {},
   "source": [
    "# Loss"
   ]
  },
  {
   "cell_type": "code",
   "execution_count": 203,
   "metadata": {},
   "outputs": [],
   "source": [
    "def l2_loss(y, y_hat):\n",
    "    '''\n",
    "    Remember that y (true value) and y_hat (prediction) are nxk\n",
    "    '''\n",
    "    \n",
    "    l = (y_hat-torch.reshape(y, y_hat.shape)) ** 2 / 2\n",
    "    return l.mean()"
   ]
  },
  {
   "cell_type": "markdown",
   "metadata": {},
   "source": [
    "# Optimizer"
   ]
  },
  {
   "cell_type": "code",
   "execution_count": 204,
   "metadata": {},
   "outputs": [],
   "source": [
    "class SGD:\n",
    "    def __init__(self, parameters, lr = 0.01):\n",
    "        self.lr = lr\n",
    "        self.parameters = parameters\n",
    "\n",
    "    def step(self):\n",
    "        for p in self.parameters:\n",
    "            p -= self.lr * p.grad\n",
    "\n",
    "    def zero_grad(self):\n",
    "        for p in self.parameters:\n",
    "            if p.grad is not None:\n",
    "                p.grad.zero_()"
   ]
  },
  {
   "cell_type": "markdown",
   "metadata": {},
   "source": [
    "# Trainer"
   ]
  },
  {
   "cell_type": "code",
   "execution_count": 205,
   "metadata": {},
   "outputs": [],
   "source": [
    "class Trainer:\n",
    "    def __init__(self, model, loss, optimizer, iterations = 20, epochs = 5):\n",
    "        self.model = model\n",
    "        self.loss = loss\n",
    "        self.optimizer = optimizer\n",
    "        self.iterations = iterations\n",
    "        self.epochs = epochs\n",
    "\n",
    "    def live_plot(self, x, y, figsize=(7,5), title=''):\n",
    "        '''\n",
    "        It plots only the average loss per epoch.\n",
    "        '''\n",
    "        clear_output(wait=True)         # This is needed for live updates\n",
    "        plt.figure(figsize=figsize)\n",
    "        x = [float(i) for i in x]\n",
    "        y = [float(i) for i in y]\n",
    "        \n",
    "        if len(x) > 1:\n",
    "            plt.scatter(x,y, label='axis y', color='k') \n",
    "\n",
    "        plt.title(title)\n",
    "        plt.grid(True)\n",
    "        plt.xlabel('Epoch')\n",
    "        plt.ylabel('Loss')\n",
    "        plt.show()\n",
    "        \n",
    "    def fit_model(self, data_generator):\n",
    "        '''\n",
    "        A function that creates the training data,\n",
    "        optimizes the model and plots the results.\n",
    "        '''\n",
    "        x, y = data_generator(self.iterations)\n",
    "        train_loss = np.array([])\n",
    "\n",
    "        for i in range(self.epochs):\n",
    "            y_hat = self.model.forward(x)\n",
    "            loss = self.loss(y, y_hat)\n",
    "            train_loss = np.append(train_loss, loss.item())   # this is needed for plotting\n",
    "\n",
    "            self.optimizer.zero_grad()\n",
    "            with torch.no_grad():\n",
    "                loss.backward()\n",
    "                self.optimizer.step()\n",
    "\n",
    "            # Updating the training plot\n",
    "            self.live_plot(np.arange(i+1), train_loss, title=\"Training loss\")        "
   ]
  },
  {
   "cell_type": "markdown",
   "metadata": {},
   "source": [
    "# Training tests\n"
   ]
  },
  {
   "cell_type": "code",
   "execution_count": 206,
   "metadata": {},
   "outputs": [
    {
     "data": {
      "image/png": "[encoded data removed]",
      "text/plain": [
       "<Figure size 700x500 with 1 Axes>"
      ]
     },
     "metadata": {},
     "output_type": "display_data"
    }
   ],
   "source": [
    "model = Regression_model()\n",
    "optimizer = SGD([model.W, model.b])\n",
    "trainer = Trainer(model, l2_loss, optimizer, epochs=50)\n",
    "\n",
    "trainer.fit_model(regression_data_generator)"
   ]
  }
 ],
 "metadata": {
  "kernelspec": {
   "display_name": "dlcourse-BfLxQsIA-py3.11",
   "language": "python",
   "name": "python3"
  },
  "language_info": {
   "codemirror_mode": {
    "name": "ipython",
    "version": 3
   },
   "file_extension": ".py",
   "mimetype": "text/x-python",
   "name": "python",
   "nbconvert_exporter": "python",
   "pygments_lexer": "ipython3",
   "version": "3.11.10"
  }
 },
 "nbformat": 4,
 "nbformat_minor": 2
}
