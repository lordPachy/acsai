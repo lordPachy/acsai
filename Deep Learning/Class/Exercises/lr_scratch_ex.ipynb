{
 "cells": [
  {
   "cell_type": "markdown",
   "metadata": {},
   "source": [
    "# Imports"
   ]
  },
  {
   "cell_type": "code",
   "execution_count": 195,
   "metadata": {},
   "outputs": [],
   "source": [
    "import torch\n",
    "set_seed = torch.manual_seed(0)"
   ]
  },
  {
   "cell_type": "markdown",
   "metadata": {},
   "source": [
    "# Data generator"
   ]
  },
  {
   "cell_type": "code",
   "execution_count": 196,
   "metadata": {},
   "outputs": [],
   "source": [
    "def regression_data_generator(n, k=2):\n",
    "    '''\n",
    "    n is the number of samples per minibatch\n",
    "    k is the dimensionality of each vector x\n",
    "    '''\n",
    "\n",
    "    x = torch.rand(n, k) #x is nxk\n",
    "    w = torch.tensor([10.0, -6.0])       #parameter initialization\n",
    "\n",
    "    y = torch.tensor([torch.dot(w, v_i) for v_i in x])\n",
    "\n",
    "    return x, y"
   ]
  },
  {
   "cell_type": "markdown",
   "metadata": {},
   "source": [
    "# Model\n"
   ]
  },
  {
   "cell_type": "code",
   "execution_count": 197,
   "metadata": {},
   "outputs": [],
   "source": [
    "class Regression_model:\n",
    "    def __init__(self, k = 2, sigma = 0.01):\n",
    "        self.W = torch.normal(mean=0,\n",
    "                              std=sigma,\n",
    "                              size=(k,),\n",
    "                              requires_grad=True)\n",
    "        self.b = torch.zeros(size=(1,), requires_grad=True)\n",
    "        \n",
    "    def forward(self, x):\n",
    "        return x@(self.W.reshape((-1, 1))) + self.b"
   ]
  },
  {
   "cell_type": "markdown",
   "metadata": {},
   "source": [
    "# Loss"
   ]
  },
  {
   "cell_type": "code",
   "execution_count": 198,
   "metadata": {},
   "outputs": [],
   "source": [
    "def l2_loss(y, y_hat):\n",
    "    '''\n",
    "    Remember that y (true value) and y_hat (prediction) are nxk\n",
    "    '''\n",
    "    \n",
    "    l = (y_hat-torch.reshape(y, y_hat.shape)) ** 2 / 2\n",
    "    return l.mean()"
   ]
  },
  {
   "cell_type": "markdown",
   "metadata": {},
   "source": [
    "# Optimizer"
   ]
  },
  {
   "cell_type": "code",
   "execution_count": 199,
   "metadata": {},
   "outputs": [],
   "source": [
    "class SGD:\n",
    "    def __init__(self, parameters, lr = 0.01):\n",
    "        self.lr = lr\n",
    "        self.parameters = parameters\n",
    "\n",
    "    def step(self):\n",
    "        for p in self.parameters:\n",
    "            p -= self.lr * p.grad\n",
    "\n",
    "    def zero_grad(self):\n",
    "        for p in self.parameters:\n",
    "            if p.grad is not None:\n",
    "                p.grad.zero_()"
   ]
  },
  {
   "cell_type": "markdown",
   "metadata": {},
   "source": [
    "# Trainer"
   ]
  },
  {
   "cell_type": "code",
   "execution_count": 204,
   "metadata": {},
   "outputs": [],
   "source": [
    "class Trainer:\n",
    "    def __init__(self, model, loss, optimizer, iterations = 20):\n",
    "        self.model = model\n",
    "        self.loss = loss\n",
    "        self.optimizer = optimizer\n",
    "        self.iterations = iterations\n",
    "\n",
    "    def fit_epoch(self, data_generator):\n",
    "        loss = 0\n",
    "        x, y = data_generator(self.iterations)\n",
    "        y_hat = self.model.forward(x)\n",
    "        loss += self.loss(y, y_hat)\n",
    "        self.optimizer.zero_grad()\n",
    "        with torch.no_grad():\n",
    "            loss.backward()\n",
    "            self.optimizer.step()\n",
    "\n",
    "        return loss"
   ]
  },
  {
   "cell_type": "markdown",
   "metadata": {},
   "source": [
    "# Training tests\n"
   ]
  },
  {
   "cell_type": "code",
   "execution_count": 205,
   "metadata": {},
   "outputs": [
    {
     "name": "stdout",
     "output_type": "stream",
     "text": [
      "[tensor(4.6078, grad_fn=<AddBackward0>), tensor(8.3818, grad_fn=<AddBackward0>), tensor(5.9978, grad_fn=<AddBackward0>), tensor(8.2849, grad_fn=<AddBackward0>), tensor(6.4236, grad_fn=<AddBackward0>)]\n"
     ]
    }
   ],
   "source": [
    "model = Regression_model()\n",
    "optimizer = SGD([model.W, model.b])\n",
    "trainer = Trainer(model, l2_loss, optimizer)\n",
    "\n",
    "\n",
    "loss = []\n",
    "for i in range(5):      #5 epochs\n",
    "    loss.append(trainer.fit_epoch(regression_data_generator))\n",
    "print(loss)"
   ]
  }
 ],
 "metadata": {
  "kernelspec": {
   "display_name": "dlcourse-BfLxQsIA-py3.11",
   "language": "python",
   "name": "python3"
  },
  "language_info": {
   "codemirror_mode": {
    "name": "ipython",
    "version": 3
   },
   "file_extension": ".py",
   "mimetype": "text/x-python",
   "name": "python",
   "nbconvert_exporter": "python",
   "pygments_lexer": "ipython3",
   "version": "3.11.10"
  }
 },
 "nbformat": 4,
 "nbformat_minor": 2
}
