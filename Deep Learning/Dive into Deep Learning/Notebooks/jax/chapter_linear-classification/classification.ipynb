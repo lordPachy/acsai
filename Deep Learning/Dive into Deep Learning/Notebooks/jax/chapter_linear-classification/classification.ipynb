{
 "cells": [
  {
   "cell_type": "markdown",
   "id": "5bf3e85a",
   "metadata": {
    "origin_pos": 1
   },
   "source": [
    "# The Base Classification Model\n",
    ":label:`sec_classification`\n",
    "\n",
    "You may have noticed that the implementations from scratch and the concise implementation using framework functionality were quite similar in the case of regression. The same is true for classification. Since many models in this book deal with classification, it is worth adding functionalities to support this setting specifically. This section provides a base class for classification models to simplify future code.\n"
   ]
  },
  {
   "cell_type": "code",
   "execution_count": 1,
   "id": "02e410a3",
   "metadata": {
    "execution": {
     "iopub.execute_input": "2023-08-18T07:22:36.868162Z",
     "iopub.status.busy": "2023-08-18T07:22:36.867485Z",
     "iopub.status.idle": "2023-08-18T07:22:45.179803Z",
     "shell.execute_reply": "2023-08-18T07:22:45.178899Z"
    },
    "origin_pos": 5,
    "tab": [
     "jax"
    ]
   },
   "outputs": [
    {
     "name": "stdout",
     "output_type": "stream",
     "text": [
      "No GPU/TPU found, falling back to CPU. (Set TF_CPP_MIN_LOG_LEVEL=0 and rerun for more info.)\n"
     ]
    }
   ],
   "source": [
    "from functools import partial\n",
    "import jax\n",
    "import optax\n",
    "from jax import numpy as jnp\n",
    "from d2l import jax as d2l"
   ]
  },
  {
   "cell_type": "markdown",
   "id": "cd21109c",
   "metadata": {
    "origin_pos": 6
   },
   "source": [
    "## The `Classifier` Class\n"
   ]
  },
  {
   "cell_type": "markdown",
   "id": "28be0f73",
   "metadata": {
    "origin_pos": 8,
    "tab": [
     "jax"
    ]
   },
   "source": [
    "We define the `Classifier` class below. In the `validation_step` we report both the loss value and the classification accuracy on a validation batch. We draw an update for every `num_val_batches` batches. This has the benefit of generating the averaged loss and accuracy on the whole validation data. These average numbers are not exactly correct if the last batch contains fewer examples, but we ignore this minor difference to keep the code simple.\n",
    "\n",
    "We also redefine the `training_step` method for JAX since all models that will\n",
    "subclass `Classifier` later will have a loss that returns auxiliary data.\n",
    "This auxiliary data can be used for models with batch normalization\n",
    "(to be explained in :numref:`sec_batch_norm`), while in all other cases\n",
    "we will make the loss also return a placeholder (empty dictionary) to\n",
    "represent the auxiliary data.\n"
   ]
  },
  {
   "cell_type": "code",
   "execution_count": 2,
   "id": "50eb8f81",
   "metadata": {
    "execution": {
     "iopub.execute_input": "2023-08-18T07:22:45.183879Z",
     "iopub.status.busy": "2023-08-18T07:22:45.183119Z",
     "iopub.status.idle": "2023-08-18T07:22:45.190482Z",
     "shell.execute_reply": "2023-08-18T07:22:45.189677Z"
    },
    "origin_pos": 10,
    "tab": [
     "jax"
    ]
   },
   "outputs": [],
   "source": [
    "class Classifier(d2l.Module):  #@save\n",
    "    \"\"\"The base class of classification models.\"\"\"\n",
    "    def training_step(self, params, batch, state):\n",
    "        # Here value is a tuple since models with BatchNorm layers require\n",
    "        # the loss to return auxiliary data\n",
    "        value, grads = jax.value_and_grad(\n",
    "            self.loss, has_aux=True)(params, batch[:-1], batch[-1], state)\n",
    "        l, _ = value\n",
    "        self.plot(\"loss\", l, train=True)\n",
    "        return value, grads\n",
    "\n",
    "    def validation_step(self, params, batch, state):\n",
    "        # Discard the second returned value. It is used for training models\n",
    "        # with BatchNorm layers since loss also returns auxiliary data\n",
    "        l, _ = self.loss(params, batch[:-1], batch[-1], state)\n",
    "        self.plot('loss', l, train=False)\n",
    "        self.plot('acc', self.accuracy(params, batch[:-1], batch[-1], state),\n",
    "                  train=False)"
   ]
  },
  {
   "cell_type": "markdown",
   "id": "f98167d6",
   "metadata": {
    "origin_pos": 11
   },
   "source": [
    "By default we use a stochastic gradient descent optimizer, operating on minibatches, just as we did in the context of linear regression.\n"
   ]
  },
  {
   "cell_type": "code",
   "execution_count": 3,
   "id": "289977c0",
   "metadata": {
    "execution": {
     "iopub.execute_input": "2023-08-18T07:22:45.193764Z",
     "iopub.status.busy": "2023-08-18T07:22:45.193137Z",
     "iopub.status.idle": "2023-08-18T07:22:45.197159Z",
     "shell.execute_reply": "2023-08-18T07:22:45.196318Z"
    },
    "origin_pos": 15,
    "tab": [
     "jax"
    ]
   },
   "outputs": [],
   "source": [
    "@d2l.add_to_class(d2l.Module)  #@save\n",
    "def configure_optimizers(self):\n",
    "    return optax.sgd(self.lr)"
   ]
  },
  {
   "cell_type": "markdown",
   "id": "c0e2dffe",
   "metadata": {
    "origin_pos": 16
   },
   "source": [
    "## Accuracy\n",
    "\n",
    "Given the predicted probability distribution `y_hat`,\n",
    "we typically choose the class with the highest predicted probability\n",
    "whenever we must output a hard prediction.\n",
    "Indeed, many applications require that we make a choice.\n",
    "For instance, Gmail must categorize an email into \"Primary\", \"Social\", \"Updates\", \"Forums\", or \"Spam\".\n",
    "It might estimate probabilities internally,\n",
    "but at the end of the day it has to choose one among the classes.\n",
    "\n",
    "When predictions are consistent with the label class `y`, they are correct.\n",
    "The classification accuracy is the fraction of all predictions that are correct.\n",
    "Although it can be difficult to optimize accuracy directly (it is not differentiable),\n",
    "it is often the performance measure that we care about the most. It is often *the*\n",
    "relevant quantity in benchmarks. As such, we will nearly always report it when training classifiers.\n",
    "\n",
    "Accuracy is computed as follows.\n",
    "First, if `y_hat` is a matrix,\n",
    "we assume that the second dimension stores prediction scores for each class.\n",
    "We use `argmax` to obtain the predicted class by the index for the largest entry in each row.\n",
    "Then we [**compare the predicted class with the ground truth `y` elementwise.**]\n",
    "Since the equality operator `==` is sensitive to data types,\n",
    "we convert `y_hat`'s data type to match that of `y`.\n",
    "The result is a tensor containing entries of 0 (false) and 1 (true).\n",
    "Taking the sum yields the number of correct predictions.\n"
   ]
  },
  {
   "cell_type": "code",
   "execution_count": 4,
   "id": "953246ff",
   "metadata": {
    "attributes": {
     "classes": [],
     "id": "",
     "n": "9"
    },
    "execution": {
     "iopub.execute_input": "2023-08-18T07:22:45.200419Z",
     "iopub.status.busy": "2023-08-18T07:22:45.199886Z",
     "iopub.status.idle": "2023-08-18T07:22:45.205457Z",
     "shell.execute_reply": "2023-08-18T07:22:45.204607Z"
    },
    "origin_pos": 18,
    "tab": [
     "jax"
    ]
   },
   "outputs": [],
   "source": [
    "@d2l.add_to_class(Classifier)  #@save\n",
    "@partial(jax.jit, static_argnums=(0, 5))\n",
    "def accuracy(self, params, X, Y, state, averaged=True):\n",
    "    \"\"\"Compute the number of correct predictions.\"\"\"\n",
    "    Y_hat = state.apply_fn({'params': params,\n",
    "                            'batch_stats': state.batch_stats},  # BatchNorm Only\n",
    "                           *X)\n",
    "    Y_hat = Y_hat.reshape((-1, Y_hat.shape[-1]))\n",
    "    preds = Y_hat.argmax(axis=1).astype(Y.dtype)\n",
    "    compare = (preds == Y.reshape(-1)).astype(jnp.float32)\n",
    "    return compare.mean() if averaged else compare"
   ]
  },
  {
   "cell_type": "markdown",
   "id": "71b2c132",
   "metadata": {
    "origin_pos": 20
   },
   "source": [
    "## Summary\n",
    "\n",
    "Classification is a sufficiently common problem that it warrants its own convenience functions. Of central importance in classification is the *accuracy* of the classifier. Note that while we often care primarily about accuracy, we train classifiers to optimize a variety of other objectives for statistical and computational reasons. However, regardless of which loss function was minimized during training, it is useful to have a convenience method for assessing the accuracy of our classifier empirically. \n",
    "\n",
    "\n",
    "## Exercises\n",
    "\n",
    "1. Denote by $L_\\textrm{v}$ the validation loss, and let $L_\\textrm{v}^\\textrm{q}$ be its quick and dirty estimate computed by the loss function averaging in this section. Lastly, denote by $l_\\textrm{v}^\\textrm{b}$ the loss on the last minibatch. Express $L_\\textrm{v}$ in terms of $L_\\textrm{v}^\\textrm{q}$, $l_\\textrm{v}^\\textrm{b}$, and the sample and minibatch sizes.\n",
    "1. Show that the quick and dirty estimate $L_\\textrm{v}^\\textrm{q}$ is unbiased. That is, show that $E[L_\\textrm{v}] = E[L_\\textrm{v}^\\textrm{q}]$. Why would you still want to use $L_\\textrm{v}$ instead?\n",
    "1. Given a multiclass classification loss, denoting by $l(y,y')$ the penalty of estimating $y'$ when we see $y$ and given a probabilty $p(y \\mid x)$, formulate the rule for an optimal selection of $y'$. Hint: express the expected loss, using $l$ and $p(y \\mid x)$.\n"
   ]
  },
  {
   "cell_type": "markdown",
   "id": "9258feaf",
   "metadata": {
    "origin_pos": 24,
    "tab": [
     "jax"
    ]
   },
   "source": [
    "[Discussions](https://discuss.d2l.ai/t/17981)\n"
   ]
  }
 ],
 "metadata": {
  "language_info": {
   "name": "python"
  },
  "required_libs": []
 },
 "nbformat": 4,
 "nbformat_minor": 5
}