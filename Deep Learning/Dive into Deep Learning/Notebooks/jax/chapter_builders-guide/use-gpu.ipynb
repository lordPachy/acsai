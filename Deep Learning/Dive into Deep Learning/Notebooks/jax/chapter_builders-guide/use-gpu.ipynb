{
 "cells": [
  {
   "cell_type": "markdown",
   "id": "1c5b145b",
   "metadata": {
    "origin_pos": 1
   },
   "source": [
    "# GPUs\n",
    ":label:`sec_use_gpu`\n",
    "\n",
    "In :numref:`tab_intro_decade`, we illustrated the rapid growth\n",
    "of computation over the past two decades.\n",
    "In a nutshell, GPU performance has increased\n",
    "by a factor of 1000 every decade since 2000.\n",
    "This offers great opportunities but it also suggests\n",
    "that there was significant demand for such performance.\n",
    "\n",
    "\n",
    "In this section, we begin to discuss how to harness\n",
    "this computational performance for your research.\n",
    "First by using a single GPU and at a later point,\n",
    "how to use multiple GPUs and multiple servers (with multiple GPUs).\n",
    "\n",
    "Specifically, we will discuss how\n",
    "to use a single NVIDIA GPU for calculations.\n",
    "First, make sure you have at least one NVIDIA GPU installed.\n",
    "Then, download the [NVIDIA driver and CUDA](https://developer.nvidia.com/cuda-downloads)\n",
    "and follow the prompts to set the appropriate path.\n",
    "Once these preparations are complete,\n",
    "the `nvidia-smi` command can be used\n",
    "to (**view the graphics card information**).\n"
   ]
  },
  {
   "cell_type": "markdown",
   "id": "883df329",
   "metadata": {
    "origin_pos": 4
   },
   "source": [
    "To run the programs in this section,\n",
    "you need at least two GPUs.\n",
    "Note that this might be extravagant for most desktop computers\n",
    "but it is easily available in the cloud, e.g.,\n",
    "by using the AWS EC2 multi-GPU instances.\n",
    "Almost all other sections do *not* require multiple GPUs, but here we simply wish to illustrate data flow between different devices.\n"
   ]
  },
  {
   "cell_type": "code",
   "execution_count": 1,
   "id": "7cc83a96",
   "metadata": {
    "execution": {
     "iopub.execute_input": "2023-08-18T06:56:22.178679Z",
     "iopub.status.busy": "2023-08-18T06:56:22.178178Z",
     "iopub.status.idle": "2023-08-18T06:56:33.433396Z",
     "shell.execute_reply": "2023-08-18T06:56:33.432505Z"
    },
    "origin_pos": 8,
    "tab": [
     "jax"
    ]
   },
   "outputs": [],
   "source": [
    "import jax\n",
    "from flax import linen as nn\n",
    "from jax import numpy as jnp\n",
    "from d2l import jax as d2l"
   ]
  },
  {
   "cell_type": "markdown",
   "id": "66f2f568",
   "metadata": {
    "origin_pos": 9
   },
   "source": [
    "## [**Computing Devices**]\n",
    "\n",
    "We can specify devices, such as CPUs and GPUs,\n",
    "for storage and calculation.\n",
    "By default, tensors are created in the main memory\n",
    "and then the CPU is used for calculations.\n"
   ]
  },
  {
   "cell_type": "code",
   "execution_count": 2,
   "id": "39840a1b",
   "metadata": {
    "execution": {
     "iopub.execute_input": "2023-08-18T06:56:33.437735Z",
     "iopub.status.busy": "2023-08-18T06:56:33.436752Z",
     "iopub.status.idle": "2023-08-18T06:56:33.444328Z",
     "shell.execute_reply": "2023-08-18T06:56:33.443549Z"
    },
    "origin_pos": 13,
    "tab": [
     "jax"
    ]
   },
   "outputs": [
    {
     "data": {
      "text/plain": [
       "(CpuDevice(id=0), gpu(id=0), gpu(id=1))"
      ]
     },
     "execution_count": 2,
     "metadata": {},
     "output_type": "execute_result"
    }
   ],
   "source": [
    "def cpu():  #@save\n",
    "    \"\"\"Get the CPU device.\"\"\"\n",
    "    return jax.devices('cpu')[0]\n",
    "\n",
    "def gpu(i=0):  #@save\n",
    "    \"\"\"Get a GPU device.\"\"\"\n",
    "    return jax.devices('gpu')[i]\n",
    "\n",
    "cpu(), gpu(), gpu(1)"
   ]
  },
  {
   "cell_type": "markdown",
   "id": "2026d9ff",
   "metadata": {
    "origin_pos": 14
   },
   "source": [
    "We can (**query the number of available GPUs.**)\n"
   ]
  },
  {
   "cell_type": "code",
   "execution_count": 3,
   "id": "1aa86306",
   "metadata": {
    "execution": {
     "iopub.execute_input": "2023-08-18T06:56:33.447715Z",
     "iopub.status.busy": "2023-08-18T06:56:33.447035Z",
     "iopub.status.idle": "2023-08-18T06:56:33.452439Z",
     "shell.execute_reply": "2023-08-18T06:56:33.451689Z"
    },
    "origin_pos": 16,
    "tab": [
     "jax"
    ]
   },
   "outputs": [
    {
     "data": {
      "text/plain": [
       "2"
      ]
     },
     "execution_count": 3,
     "metadata": {},
     "output_type": "execute_result"
    }
   ],
   "source": [
    "def num_gpus():  #@save\n",
    "    \"\"\"Get the number of available GPUs.\"\"\"\n",
    "    try:\n",
    "        return jax.device_count('gpu')\n",
    "    except:\n",
    "        return 0  # No GPU backend found\n",
    "\n",
    "num_gpus()"
   ]
  },
  {
   "cell_type": "markdown",
   "id": "f89f3a5a",
   "metadata": {
    "origin_pos": 17
   },
   "source": [
    "Now we [**define two convenient functions that allow us\n",
    "to run code even if the requested GPUs do not exist.**]\n"
   ]
  },
  {
   "cell_type": "code",
   "execution_count": 4,
   "id": "ef9dd92b",
   "metadata": {
    "execution": {
     "iopub.execute_input": "2023-08-18T06:56:33.455721Z",
     "iopub.status.busy": "2023-08-18T06:56:33.455094Z",
     "iopub.status.idle": "2023-08-18T06:56:33.461352Z",
     "shell.execute_reply": "2023-08-18T06:56:33.460599Z"
    },
    "origin_pos": 18,
    "tab": [
     "jax"
    ]
   },
   "outputs": [
    {
     "data": {
      "text/plain": [
       "(gpu(id=0), CpuDevice(id=0), [gpu(id=0), gpu(id=1)])"
      ]
     },
     "execution_count": 4,
     "metadata": {},
     "output_type": "execute_result"
    }
   ],
   "source": [
    "def try_gpu(i=0):  #@save\n",
    "    \"\"\"Return gpu(i) if exists, otherwise return cpu().\"\"\"\n",
    "    if num_gpus() >= i + 1:\n",
    "        return gpu(i)\n",
    "    return cpu()\n",
    "\n",
    "def try_all_gpus():  #@save\n",
    "    \"\"\"Return all available GPUs, or [cpu(),] if no GPU exists.\"\"\"\n",
    "    return [gpu(i) for i in range(num_gpus())]\n",
    "\n",
    "try_gpu(), try_gpu(10), try_all_gpus()"
   ]
  },
  {
   "cell_type": "markdown",
   "id": "91e1ecc7",
   "metadata": {
    "origin_pos": 19
   },
   "source": [
    "## Tensors and GPUs\n"
   ]
  },
  {
   "cell_type": "markdown",
   "id": "71818dc8",
   "metadata": {
    "origin_pos": 22,
    "tab": [
     "jax"
    ]
   },
   "source": [
    "By default, tensors are created on the GPU/TPU if they are available,\n",
    "else CPU is used if not available.\n",
    "We can [**query the device where the tensor is located.**]\n"
   ]
  },
  {
   "cell_type": "code",
   "execution_count": 5,
   "id": "264b6cf9",
   "metadata": {
    "execution": {
     "iopub.execute_input": "2023-08-18T06:56:33.464606Z",
     "iopub.status.busy": "2023-08-18T06:56:33.464073Z",
     "iopub.status.idle": "2023-08-18T06:56:33.470457Z",
     "shell.execute_reply": "2023-08-18T06:56:33.469635Z"
    },
    "origin_pos": 26,
    "tab": [
     "jax"
    ]
   },
   "outputs": [
    {
     "data": {
      "text/plain": [
       "gpu(id=0)"
      ]
     },
     "execution_count": 5,
     "metadata": {},
     "output_type": "execute_result"
    }
   ],
   "source": [
    "x = jnp.array([1, 2, 3])\n",
    "x.device()"
   ]
  },
  {
   "cell_type": "markdown",
   "id": "5f4022a9",
   "metadata": {
    "origin_pos": 27
   },
   "source": [
    "It is important to note that whenever we want\n",
    "to operate on multiple terms,\n",
    "they need to be on the same device.\n",
    "For instance, if we sum two tensors,\n",
    "we need to make sure that both arguments\n",
    "live on the same device---otherwise the framework\n",
    "would not know where to store the result\n",
    "or even how to decide where to perform the computation.\n",
    "\n",
    "### Storage on the GPU\n",
    "\n",
    "There are several ways to [**store a tensor on the GPU.**]\n",
    "For example, we can specify a storage device when creating a tensor.\n",
    "Next, we create the tensor variable `X` on the first `gpu`.\n",
    "The tensor created on a GPU only consumes the memory of this GPU.\n",
    "We can use the `nvidia-smi` command to view GPU memory usage.\n",
    "In general, we need to make sure that we do not create data that exceeds the GPU memory limit.\n"
   ]
  },
  {
   "cell_type": "code",
   "execution_count": 6,
   "id": "51f75169",
   "metadata": {
    "execution": {
     "iopub.execute_input": "2023-08-18T06:56:33.473607Z",
     "iopub.status.busy": "2023-08-18T06:56:33.473087Z",
     "iopub.status.idle": "2023-08-18T06:56:33.549960Z",
     "shell.execute_reply": "2023-08-18T06:56:33.549142Z"
    },
    "origin_pos": 31,
    "tab": [
     "jax"
    ]
   },
   "outputs": [
    {
     "data": {
      "text/plain": [
       "Array([[1., 1., 1.],\n",
       "       [1., 1., 1.]], dtype=float32)"
      ]
     },
     "execution_count": 6,
     "metadata": {},
     "output_type": "execute_result"
    }
   ],
   "source": [
    "# By default JAX puts arrays to GPUs or TPUs if available\n",
    "X = jax.device_put(jnp.ones((2, 3)), try_gpu())\n",
    "X"
   ]
  },
  {
   "cell_type": "markdown",
   "id": "e439ad9e",
   "metadata": {
    "origin_pos": 32
   },
   "source": [
    "Assuming that you have at least two GPUs, the following code will (**create a random tensor, `Y`, on the second GPU.**)\n"
   ]
  },
  {
   "cell_type": "code",
   "execution_count": 7,
   "id": "e6e32fed",
   "metadata": {
    "execution": {
     "iopub.execute_input": "2023-08-18T06:56:33.553492Z",
     "iopub.status.busy": "2023-08-18T06:56:33.552914Z",
     "iopub.status.idle": "2023-08-18T06:56:33.906526Z",
     "shell.execute_reply": "2023-08-18T06:56:33.905656Z"
    },
    "origin_pos": 36,
    "tab": [
     "jax"
    ]
   },
   "outputs": [
    {
     "data": {
      "text/plain": [
       "Array([[0.57450044, 0.09968603, 0.7419659 ],\n",
       "       [0.8941783 , 0.59656656, 0.45325184]], dtype=float32)"
      ]
     },
     "execution_count": 7,
     "metadata": {},
     "output_type": "execute_result"
    }
   ],
   "source": [
    "Y = jax.device_put(jax.random.uniform(jax.random.PRNGKey(0), (2, 3)),\n",
    "                   try_gpu(1))\n",
    "Y"
   ]
  },
  {
   "cell_type": "markdown",
   "id": "ac3a6f11",
   "metadata": {
    "origin_pos": 37
   },
   "source": [
    "### Copying\n",
    "\n",
    "[**If we want to compute `X + Y`,\n",
    "we need to decide where to perform this operation.**]\n",
    "For instance, as shown in :numref:`fig_copyto`,\n",
    "we can transfer `X` to the second GPU\n",
    "and perform the operation there.\n",
    "*Do not* simply add `X` and `Y`,\n",
    "since this will result in an exception.\n",
    "The runtime engine would not know what to do:\n",
    "it cannot find data on the same device and it fails.\n",
    "Since `Y` lives on the second GPU,\n",
    "we need to move `X` there before we can add the two.\n",
    "\n",
    "![Copy data to perform an operation on the same device.](../img/copyto.svg)\n",
    ":label:`fig_copyto`\n"
   ]
  },
  {
   "cell_type": "code",
   "execution_count": 8,
   "id": "b0cb4ab2",
   "metadata": {
    "execution": {
     "iopub.execute_input": "2023-08-18T06:56:33.910019Z",
     "iopub.status.busy": "2023-08-18T06:56:33.909432Z",
     "iopub.status.idle": "2023-08-18T06:56:33.914840Z",
     "shell.execute_reply": "2023-08-18T06:56:33.914078Z"
    },
    "origin_pos": 41,
    "tab": [
     "jax"
    ]
   },
   "outputs": [
    {
     "name": "stdout",
     "output_type": "stream",
     "text": [
      "[[1. 1. 1.]\n",
      " [1. 1. 1.]]\n",
      "[[1. 1. 1.]\n",
      " [1. 1. 1.]]\n"
     ]
    }
   ],
   "source": [
    "Z = jax.device_put(X, try_gpu(1))\n",
    "print(X)\n",
    "print(Z)"
   ]
  },
  {
   "cell_type": "markdown",
   "id": "56f1dfab",
   "metadata": {
    "origin_pos": 42
   },
   "source": [
    "Now that [**the data (both `Z` and `Y`) are on the same GPU), we can add them up.**]\n"
   ]
  },
  {
   "cell_type": "code",
   "execution_count": 9,
   "id": "8ce9ac09",
   "metadata": {
    "execution": {
     "iopub.execute_input": "2023-08-18T06:56:33.918135Z",
     "iopub.status.busy": "2023-08-18T06:56:33.917508Z",
     "iopub.status.idle": "2023-08-18T06:56:34.023454Z",
     "shell.execute_reply": "2023-08-18T06:56:34.022554Z"
    },
    "origin_pos": 43,
    "tab": [
     "jax"
    ]
   },
   "outputs": [
    {
     "data": {
      "text/plain": [
       "Array([[1.5745004, 1.099686 , 1.7419659],\n",
       "       [1.8941783, 1.5965666, 1.4532518]], dtype=float32)"
      ]
     },
     "execution_count": 9,
     "metadata": {},
     "output_type": "execute_result"
    }
   ],
   "source": [
    "Y + Z"
   ]
  },
  {
   "cell_type": "markdown",
   "id": "91eb88ee",
   "metadata": {
    "origin_pos": 47,
    "tab": [
     "jax"
    ]
   },
   "source": [
    "Imagine that your variable `Z` already lives on your second GPU.\n",
    "What happens if we still call `Z2 = Z` under the same device scope?\n",
    "It will return `Z` instead of making a copy and allocating new memory.\n"
   ]
  },
  {
   "cell_type": "code",
   "execution_count": 10,
   "id": "232b2142",
   "metadata": {
    "execution": {
     "iopub.execute_input": "2023-08-18T06:56:34.026952Z",
     "iopub.status.busy": "2023-08-18T06:56:34.026343Z",
     "iopub.status.idle": "2023-08-18T06:56:34.031710Z",
     "shell.execute_reply": "2023-08-18T06:56:34.030902Z"
    },
    "origin_pos": 51,
    "tab": [
     "jax"
    ]
   },
   "outputs": [
    {
     "data": {
      "text/plain": [
       "False"
      ]
     },
     "execution_count": 10,
     "metadata": {},
     "output_type": "execute_result"
    }
   ],
   "source": [
    "Z2 = jax.device_put(Z, try_gpu(1))\n",
    "Z2 is Z"
   ]
  },
  {
   "cell_type": "markdown",
   "id": "6fd0b2bf",
   "metadata": {
    "origin_pos": 52
   },
   "source": [
    "### Side Notes\n",
    "\n",
    "People use GPUs to do machine learning\n",
    "because they expect them to be fast.\n",
    "But transferring variables between devices is slow: much slower than computation.\n",
    "So we want you to be 100% certain\n",
    "that you want to do something slow before we let you do it.\n",
    "If the deep learning framework just did the copy automatically\n",
    "without crashing then you might not realize\n",
    "that you had written some slow code.\n",
    "\n",
    "Transferring data is not only slow, it also makes parallelization a lot more difficult,\n",
    "since we have to wait for data to be sent (or rather to be received)\n",
    "before we can proceed with more operations.\n",
    "This is why copy operations should be taken with great care.\n",
    "As a rule of thumb, many small operations\n",
    "are much worse than one big operation.\n",
    "Moreover, several operations at a time\n",
    "are much better than many single operations interspersed in the code\n",
    "unless you know what you are doing.\n",
    "This is the case since such operations can block if one device\n",
    "has to wait for the other before it can do something else.\n",
    "It is a bit like ordering your coffee in a queue\n",
    "rather than pre-ordering it by phone\n",
    "and finding out that it is ready when you are.\n",
    "\n",
    "Last, when we print tensors or convert tensors to the NumPy format,\n",
    "if the data is not in the main memory,\n",
    "the framework will copy it to the main memory first,\n",
    "resulting in additional transmission overhead.\n",
    "Even worse, it is now subject to the dreaded global interpreter lock\n",
    "that makes everything wait for Python to complete.\n",
    "\n",
    "\n",
    "## [**Neural Networks and GPUs**]\n",
    "\n",
    "Similarly, a neural network model can specify devices.\n",
    "The following code puts the model parameters on the GPU.\n"
   ]
  },
  {
   "cell_type": "code",
   "execution_count": 11,
   "id": "17c4ffd0",
   "metadata": {
    "execution": {
     "iopub.execute_input": "2023-08-18T06:56:34.035037Z",
     "iopub.status.busy": "2023-08-18T06:56:34.034358Z",
     "iopub.status.idle": "2023-08-18T06:56:35.062877Z",
     "shell.execute_reply": "2023-08-18T06:56:35.061954Z"
    },
    "origin_pos": 56,
    "tab": [
     "jax"
    ]
   },
   "outputs": [],
   "source": [
    "net = nn.Sequential([nn.Dense(1)])\n",
    "\n",
    "key1, key2 = jax.random.split(jax.random.PRNGKey(0))\n",
    "x = jax.random.normal(key1, (10,))  # Dummy input\n",
    "params = net.init(key2, x)  # Initialization call"
   ]
  },
  {
   "cell_type": "markdown",
   "id": "57693c47",
   "metadata": {
    "origin_pos": 57
   },
   "source": [
    "We will see many more examples of\n",
    "how to run models on GPUs in the following chapters,\n",
    "simply because the models will become somewhat more computationally intensive.\n",
    "\n",
    "For example, when the input is a tensor on the GPU, the model will calculate the result on the same GPU.\n"
   ]
  },
  {
   "cell_type": "code",
   "execution_count": 12,
   "id": "8ae0a08c",
   "metadata": {
    "execution": {
     "iopub.execute_input": "2023-08-18T06:56:35.066701Z",
     "iopub.status.busy": "2023-08-18T06:56:35.066112Z",
     "iopub.status.idle": "2023-08-18T06:56:35.077557Z",
     "shell.execute_reply": "2023-08-18T06:56:35.076777Z"
    },
    "origin_pos": 59,
    "tab": [
     "jax"
    ]
   },
   "outputs": [
    {
     "data": {
      "text/plain": [
       "Array([-1.2849933], dtype=float32)"
      ]
     },
     "execution_count": 12,
     "metadata": {},
     "output_type": "execute_result"
    }
   ],
   "source": [
    "net.apply(params, x)"
   ]
  },
  {
   "cell_type": "markdown",
   "id": "3cf441b1",
   "metadata": {
    "origin_pos": 60
   },
   "source": [
    "Let's (**confirm that the model parameters are stored on the same GPU.**)\n"
   ]
  },
  {
   "cell_type": "code",
   "execution_count": 13,
   "id": "e251397e",
   "metadata": {
    "execution": {
     "iopub.execute_input": "2023-08-18T06:56:35.080904Z",
     "iopub.status.busy": "2023-08-18T06:56:35.080226Z",
     "iopub.status.idle": "2023-08-18T06:56:35.084741Z",
     "shell.execute_reply": "2023-08-18T06:56:35.083954Z"
    },
    "origin_pos": 64,
    "tab": [
     "jax"
    ]
   },
   "outputs": [
    {
     "name": "stdout",
     "output_type": "stream",
     "text": [
      "FrozenDict({\n",
      "    params: {\n",
      "        layers_0: {\n",
      "            bias: gpu(id=0),\n",
      "            kernel: gpu(id=0),\n",
      "        },\n",
      "    },\n",
      "})\n"
     ]
    }
   ],
   "source": [
    "print(jax.tree_util.tree_map(lambda x: x.device(), params))"
   ]
  },
  {
   "cell_type": "markdown",
   "id": "17502c0f",
   "metadata": {
    "origin_pos": 65
   },
   "source": [
    "Let the trainer support GPU.\n"
   ]
  },
  {
   "cell_type": "code",
   "execution_count": 14,
   "id": "8bef7e31",
   "metadata": {
    "execution": {
     "iopub.execute_input": "2023-08-18T06:56:35.087992Z",
     "iopub.status.busy": "2023-08-18T06:56:35.087370Z",
     "iopub.status.idle": "2023-08-18T06:56:35.093020Z",
     "shell.execute_reply": "2023-08-18T06:56:35.091925Z"
    },
    "origin_pos": 68,
    "tab": [
     "jax"
    ]
   },
   "outputs": [],
   "source": [
    "@d2l.add_to_class(d2l.Trainer)  #@save\n",
    "def __init__(self, max_epochs, num_gpus=0, gradient_clip_val=0):\n",
    "    self.save_hyperparameters()\n",
    "    self.gpus = [d2l.gpu(i) for i in range(min(num_gpus, d2l.num_gpus()))]\n",
    "\n",
    "@d2l.add_to_class(d2l.Trainer)  #@save\n",
    "def prepare_batch(self, batch):\n",
    "    if self.gpus:\n",
    "        batch = [jax.device_put(a, self.gpus[0]) for a in batch]\n",
    "    return batch"
   ]
  },
  {
   "cell_type": "markdown",
   "id": "203fe8f4",
   "metadata": {
    "origin_pos": 69
   },
   "source": [
    "In short, as long as all data and parameters are on the same device, we can learn models efficiently. In the following chapters we will see several such examples.\n",
    "\n",
    "## Summary\n",
    "\n",
    "We can specify devices for storage and calculation, such as the CPU or GPU.\n",
    "  By default, data is created in the main memory\n",
    "  and then uses the CPU for calculations.\n",
    "The deep learning framework requires all input data for calculation\n",
    "  to be on the same device,\n",
    "  be it CPU or the same GPU.\n",
    "You can lose significant performance by moving data without care.\n",
    "  A typical mistake is as follows: computing the loss\n",
    "  for every minibatch on the GPU and reporting it back\n",
    "  to the user on the command line (or logging it in a NumPy `ndarray`)\n",
    "  will trigger a global interpreter lock which stalls all GPUs.\n",
    "  It is much better to allocate memory\n",
    "  for logging inside the GPU and only move larger logs.\n",
    "\n",
    "## Exercises\n",
    "\n",
    "1. Try a larger computation task, such as the multiplication of large matrices,\n",
    "   and see the difference in speed between the CPU and GPU.\n",
    "   What about a task with a small number of calculations?\n",
    "1. How should we read and write model parameters on the GPU?\n",
    "1. Measure the time it takes to compute 1000\n",
    "   matrix--matrix multiplications of $100 \\times 100$ matrices\n",
    "   and log the Frobenius norm of the output matrix one result at a time. Compare it with keeping a log on the GPU and transferring only the final result.\n",
    "1. Measure how much time it takes to perform two matrix--matrix multiplications\n",
    "   on two GPUs at the same time. Compare it with computing in in sequence\n",
    "   on one GPU. Hint: you should see almost linear scaling.\n"
   ]
  },
  {
   "cell_type": "markdown",
   "id": "5c3bb543",
   "metadata": {
    "origin_pos": 73,
    "tab": [
     "jax"
    ]
   },
   "source": [
    "[Discussions](https://discuss.d2l.ai/t/17995)\n"
   ]
  }
 ],
 "metadata": {
  "language_info": {
   "name": "python"
  },
  "required_libs": []
 },
 "nbformat": 4,
 "nbformat_minor": 5
}