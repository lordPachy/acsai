{
 "cells": [
  {
   "cell_type": "markdown",
   "id": "5a329550",
   "metadata": {
    "origin_pos": 1
   },
   "source": [
    "# File I/O\n",
    "\n",
    "So far we have discussed how to process data and how\n",
    "to build, train, and test deep learning models.\n",
    "However, at some point we will hopefully be happy enough\n",
    "with the learned models that we will want\n",
    "to save the results for later use in various contexts\n",
    "(perhaps even to make predictions in deployment).\n",
    "Additionally, when running a long training process,\n",
    "the best practice is to periodically save intermediate results (checkpointing)\n",
    "to ensure that we do not lose several days' worth of computation\n",
    "if we trip over the power cord of our server.\n",
    "Thus it is time to learn how to load and store\n",
    "both individual weight vectors and entire models.\n",
    "This section addresses both issues.\n"
   ]
  },
  {
   "cell_type": "code",
   "execution_count": 1,
   "id": "8828b3eb",
   "metadata": {
    "execution": {
     "iopub.execute_input": "2023-08-18T07:16:12.535207Z",
     "iopub.status.busy": "2023-08-18T07:16:12.534652Z",
     "iopub.status.idle": "2023-08-18T07:16:18.104709Z",
     "shell.execute_reply": "2023-08-18T07:16:18.103824Z"
    },
    "origin_pos": 5,
    "tab": [
     "jax"
    ]
   },
   "outputs": [
    {
     "name": "stdout",
     "output_type": "stream",
     "text": [
      "WARNING:absl:GlobalAsyncCheckpointManager is not imported correctly. Checkpointing of GlobalDeviceArrays will not be available.To use the feature, install tensorstore.\n"
     ]
    },
    {
     "name": "stdout",
     "output_type": "stream",
     "text": [
      "WARNING:jax._src.xla_bridge:No GPU/TPU found, falling back to CPU. (Set TF_CPP_MIN_LOG_LEVEL=0 and rerun for more info.)\n"
     ]
    }
   ],
   "source": [
    "import flax\n",
    "import jax\n",
    "from flax import linen as nn\n",
    "from flax.training import checkpoints\n",
    "from jax import numpy as jnp\n",
    "from d2l import jax as d2l"
   ]
  },
  {
   "cell_type": "markdown",
   "id": "96756b3d",
   "metadata": {
    "origin_pos": 6
   },
   "source": [
    "## (**Loading and Saving Tensors**)\n",
    "\n",
    "For individual tensors, we can directly\n",
    "invoke the `load` and `save` functions\n",
    "to read and write them respectively.\n",
    "Both functions require that we supply a name,\n",
    "and `save` requires as input the variable to be saved.\n"
   ]
  },
  {
   "cell_type": "code",
   "execution_count": 2,
   "id": "52cbfc75",
   "metadata": {
    "execution": {
     "iopub.execute_input": "2023-08-18T07:16:18.108821Z",
     "iopub.status.busy": "2023-08-18T07:16:18.108046Z",
     "iopub.status.idle": "2023-08-18T07:16:18.125859Z",
     "shell.execute_reply": "2023-08-18T07:16:18.125026Z"
    },
    "origin_pos": 10,
    "tab": [
     "jax"
    ]
   },
   "outputs": [],
   "source": [
    "x = jnp.arange(4)\n",
    "jnp.save('x-file.npy', x)"
   ]
  },
  {
   "cell_type": "markdown",
   "id": "862610b0",
   "metadata": {
    "origin_pos": 11
   },
   "source": [
    "We can now read the data from the stored file back into memory.\n"
   ]
  },
  {
   "cell_type": "code",
   "execution_count": 3,
   "id": "5909060a",
   "metadata": {
    "execution": {
     "iopub.execute_input": "2023-08-18T07:16:18.129436Z",
     "iopub.status.busy": "2023-08-18T07:16:18.128888Z",
     "iopub.status.idle": "2023-08-18T07:16:18.137391Z",
     "shell.execute_reply": "2023-08-18T07:16:18.136472Z"
    },
    "origin_pos": 15,
    "tab": [
     "jax"
    ]
   },
   "outputs": [
    {
     "data": {
      "text/plain": [
       "Array([0, 1, 2, 3], dtype=int32)"
      ]
     },
     "execution_count": 3,
     "metadata": {},
     "output_type": "execute_result"
    }
   ],
   "source": [
    "x2 = jnp.load('x-file.npy', allow_pickle=True)\n",
    "x2"
   ]
  },
  {
   "cell_type": "markdown",
   "id": "84afd368",
   "metadata": {
    "origin_pos": 16
   },
   "source": [
    "We can [**store a list of tensors and read them back into memory.**]\n"
   ]
  },
  {
   "cell_type": "code",
   "execution_count": 4,
   "id": "b0c9cf8b",
   "metadata": {
    "execution": {
     "iopub.execute_input": "2023-08-18T07:16:18.141596Z",
     "iopub.status.busy": "2023-08-18T07:16:18.140922Z",
     "iopub.status.idle": "2023-08-18T07:16:18.177559Z",
     "shell.execute_reply": "2023-08-18T07:16:18.176748Z"
    },
    "origin_pos": 20,
    "tab": [
     "jax"
    ]
   },
   "outputs": [
    {
     "data": {
      "text/plain": [
       "(Array([0., 1., 2., 3.], dtype=float32),\n",
       " Array([0., 0., 0., 0.], dtype=float32))"
      ]
     },
     "execution_count": 4,
     "metadata": {},
     "output_type": "execute_result"
    }
   ],
   "source": [
    "y = jnp.zeros(4)\n",
    "jnp.save('xy-files.npy', [x, y])\n",
    "x2, y2 = jnp.load('xy-files.npy', allow_pickle=True)\n",
    "(x2, y2)"
   ]
  },
  {
   "cell_type": "markdown",
   "id": "a0850864",
   "metadata": {
    "origin_pos": 21
   },
   "source": [
    "We can even [**write and read a dictionary that maps\n",
    "from strings to tensors.**]\n",
    "This is convenient when we want\n",
    "to read or write all the weights in a model.\n"
   ]
  },
  {
   "cell_type": "code",
   "execution_count": 5,
   "id": "af2de6aa",
   "metadata": {
    "execution": {
     "iopub.execute_input": "2023-08-18T07:16:18.181040Z",
     "iopub.status.busy": "2023-08-18T07:16:18.180389Z",
     "iopub.status.idle": "2023-08-18T07:16:18.188384Z",
     "shell.execute_reply": "2023-08-18T07:16:18.187635Z"
    },
    "origin_pos": 25,
    "tab": [
     "jax"
    ]
   },
   "outputs": [
    {
     "data": {
      "text/plain": [
       "array({'x': Array([0, 1, 2, 3], dtype=int32), 'y': Array([0., 0., 0., 0.], dtype=float32)},\n",
       "      dtype=object)"
      ]
     },
     "execution_count": 5,
     "metadata": {},
     "output_type": "execute_result"
    }
   ],
   "source": [
    "mydict = {'x': x, 'y': y}\n",
    "jnp.save('mydict.npy', mydict)\n",
    "mydict2 = jnp.load('mydict.npy', allow_pickle=True)\n",
    "mydict2"
   ]
  },
  {
   "cell_type": "markdown",
   "id": "2e1ade55",
   "metadata": {
    "origin_pos": 26
   },
   "source": [
    "## [**Loading and Saving Model Parameters**]\n",
    "\n",
    "Saving individual weight vectors (or other tensors) is useful,\n",
    "but it gets very tedious if we want to save\n",
    "(and later load) an entire model.\n",
    "After all, we might have hundreds of\n",
    "parameter groups sprinkled throughout.\n",
    "For this reason the deep learning framework provides built-in functionalities\n",
    "to load and save entire networks.\n",
    "An important detail to note is that this\n",
    "saves model *parameters* and not the entire model.\n",
    "For example, if we have a 3-layer MLP,\n",
    "we need to specify the architecture separately.\n",
    "The reason for this is that the models themselves can contain arbitrary code,\n",
    "hence they cannot be serialized as naturally.\n",
    "Thus, in order to reinstate a model, we need\n",
    "to generate the architecture in code\n",
    "and then load the parameters from disk.\n",
    "(**Let's start with our familiar MLP.**)\n"
   ]
  },
  {
   "cell_type": "code",
   "execution_count": 6,
   "id": "588805b8",
   "metadata": {
    "execution": {
     "iopub.execute_input": "2023-08-18T07:16:18.191703Z",
     "iopub.status.busy": "2023-08-18T07:16:18.191094Z",
     "iopub.status.idle": "2023-08-18T07:16:19.162940Z",
     "shell.execute_reply": "2023-08-18T07:16:19.161972Z"
    },
    "origin_pos": 30,
    "tab": [
     "jax"
    ]
   },
   "outputs": [],
   "source": [
    "class MLP(nn.Module):\n",
    "    def setup(self):\n",
    "        self.hidden = nn.Dense(256)\n",
    "        self.output = nn.Dense(10)\n",
    "\n",
    "    def __call__(self, x):\n",
    "        return self.output(nn.relu(self.hidden(x)))\n",
    "\n",
    "net = MLP()\n",
    "X = jax.random.normal(jax.random.PRNGKey(d2l.get_seed()), (2, 20))\n",
    "Y, params = net.init_with_output(jax.random.PRNGKey(d2l.get_seed()), X)"
   ]
  },
  {
   "cell_type": "markdown",
   "id": "3188195f",
   "metadata": {
    "origin_pos": 31
   },
   "source": [
    "Next, we [**store the parameters of the model as a file**] with the name \"mlp.params\".\n"
   ]
  },
  {
   "cell_type": "code",
   "execution_count": 7,
   "id": "309ef3b6",
   "metadata": {
    "execution": {
     "iopub.execute_input": "2023-08-18T07:16:19.166954Z",
     "iopub.status.busy": "2023-08-18T07:16:19.166317Z",
     "iopub.status.idle": "2023-08-18T07:16:19.172967Z",
     "shell.execute_reply": "2023-08-18T07:16:19.172211Z"
    },
    "origin_pos": 35,
    "tab": [
     "jax"
    ]
   },
   "outputs": [
    {
     "data": {
      "text/plain": [
       "'ckpt_dir/checkpoint_1'"
      ]
     },
     "execution_count": 7,
     "metadata": {},
     "output_type": "execute_result"
    }
   ],
   "source": [
    "checkpoints.save_checkpoint('ckpt_dir', params, step=1, overwrite=True)"
   ]
  },
  {
   "cell_type": "markdown",
   "id": "fdf0001c",
   "metadata": {
    "origin_pos": 36
   },
   "source": [
    "To recover the model, we instantiate a clone\n",
    "of the original MLP model.\n",
    "Instead of randomly initializing the model parameters,\n",
    "we [**read the parameters stored in the file directly**].\n"
   ]
  },
  {
   "cell_type": "code",
   "execution_count": 8,
   "id": "ce0f2c6b",
   "metadata": {
    "execution": {
     "iopub.execute_input": "2023-08-18T07:16:19.176371Z",
     "iopub.status.busy": "2023-08-18T07:16:19.175734Z",
     "iopub.status.idle": "2023-08-18T07:16:19.181371Z",
     "shell.execute_reply": "2023-08-18T07:16:19.180621Z"
    },
    "origin_pos": 40,
    "tab": [
     "jax"
    ]
   },
   "outputs": [],
   "source": [
    "clone = MLP()\n",
    "cloned_params = flax.core.freeze(checkpoints.restore_checkpoint('ckpt_dir',\n",
    "                                                                target=None))"
   ]
  },
  {
   "cell_type": "markdown",
   "id": "9df072d5",
   "metadata": {
    "origin_pos": 41
   },
   "source": [
    "Since both instances have the same model parameters,\n",
    "the computational result of the same input `X` should be the same.\n",
    "Let's verify this.\n"
   ]
  },
  {
   "cell_type": "code",
   "execution_count": 9,
   "id": "b634c260",
   "metadata": {
    "execution": {
     "iopub.execute_input": "2023-08-18T07:16:19.184603Z",
     "iopub.status.busy": "2023-08-18T07:16:19.184070Z",
     "iopub.status.idle": "2023-08-18T07:16:19.225259Z",
     "shell.execute_reply": "2023-08-18T07:16:19.224437Z"
    },
    "origin_pos": 43,
    "tab": [
     "jax"
    ]
   },
   "outputs": [
    {
     "data": {
      "text/plain": [
       "Array([[ True,  True,  True,  True,  True,  True,  True,  True,  True,\n",
       "         True],\n",
       "       [ True,  True,  True,  True,  True,  True,  True,  True,  True,\n",
       "         True]], dtype=bool)"
      ]
     },
     "execution_count": 9,
     "metadata": {},
     "output_type": "execute_result"
    }
   ],
   "source": [
    "Y_clone = clone.apply(cloned_params, X)\n",
    "Y_clone == Y"
   ]
  },
  {
   "cell_type": "markdown",
   "id": "5231a4f5",
   "metadata": {
    "origin_pos": 44
   },
   "source": [
    "## Summary\n",
    "\n",
    "The `save` and `load` functions can be used to perform file I/O for tensor objects.\n",
    "We can save and load the entire sets of parameters for a network via a parameter dictionary.\n",
    "Saving the architecture has to be done in code rather than in parameters.\n",
    "\n",
    "## Exercises\n",
    "\n",
    "1. Even if there is no need to deploy trained models to a different device, what are the practical benefits of storing model parameters?\n",
    "1. Assume that we want to reuse only parts of a network to be incorporated into a network having a different architecture. How would you go about using, say the first two layers from a previous network in a new network?\n",
    "1. How would you go about saving the network architecture and parameters? What restrictions would you impose on the architecture?\n"
   ]
  },
  {
   "cell_type": "markdown",
   "id": "9754ff15",
   "metadata": {
    "origin_pos": 48,
    "tab": [
     "jax"
    ]
   },
   "source": [
    "[Discussions](https://discuss.d2l.ai/t/17994)\n"
   ]
  }
 ],
 "metadata": {
  "language_info": {
   "name": "python"
  },
  "required_libs": []
 },
 "nbformat": 4,
 "nbformat_minor": 5
}