{
 "cells": [
  {
   "cell_type": "markdown",
   "id": "15fa165f",
   "metadata": {
    "origin_pos": 1
   },
   "source": [
    "# Parameter Initialization\n",
    "\n",
    "Now that we know how to access the parameters,\n",
    "let's look at how to initialize them properly.\n",
    "We discussed the need for proper initialization in :numref:`sec_numerical_stability`.\n",
    "The deep learning framework provides default random initializations to its layers.\n",
    "However, we often want to initialize our weights\n",
    "according to various other protocols. The framework provides most commonly\n",
    "used protocols, and also allows to create a custom initializer.\n"
   ]
  },
  {
   "cell_type": "code",
   "execution_count": 1,
   "id": "abbb112e",
   "metadata": {
    "execution": {
     "iopub.execute_input": "2023-08-18T07:21:57.678949Z",
     "iopub.status.busy": "2023-08-18T07:21:57.678358Z",
     "iopub.status.idle": "2023-08-18T07:22:05.537728Z",
     "shell.execute_reply": "2023-08-18T07:22:05.536828Z"
    },
    "origin_pos": 5,
    "tab": [
     "jax"
    ]
   },
   "outputs": [
    {
     "name": "stdout",
     "output_type": "stream",
     "text": [
      "No GPU/TPU found, falling back to CPU. (Set TF_CPP_MIN_LOG_LEVEL=0 and rerun for more info.)\n"
     ]
    }
   ],
   "source": [
    "import jax\n",
    "from flax import linen as nn\n",
    "from jax import numpy as jnp\n",
    "from d2l import jax as d2l"
   ]
  },
  {
   "cell_type": "markdown",
   "id": "9d82ac5d",
   "metadata": {
    "origin_pos": 9,
    "tab": [
     "jax"
    ]
   },
   "source": [
    "By default, Flax initializes weights using `jax.nn.initializers.lecun_normal`,\n",
    "i.e., by drawing samples from a truncated normal distribution centered on 0 with\n",
    "the standard deviation set as the squared root of $1 / \\textrm{fan}_{\\textrm{in}}$\n",
    "where `fan_in` is the number of input units in the weight tensor. The bias\n",
    "parameters are all set to zero.\n",
    "Jax's `nn.initializers` module provides a variety\n",
    "of preset initialization methods.\n"
   ]
  },
  {
   "cell_type": "code",
   "execution_count": 2,
   "id": "dae168a5",
   "metadata": {
    "execution": {
     "iopub.execute_input": "2023-08-18T07:22:05.541589Z",
     "iopub.status.busy": "2023-08-18T07:22:05.540827Z",
     "iopub.status.idle": "2023-08-18T07:22:06.385905Z",
     "shell.execute_reply": "2023-08-18T07:22:06.384784Z"
    },
    "origin_pos": 13,
    "tab": [
     "jax"
    ]
   },
   "outputs": [
    {
     "data": {
      "text/plain": [
       "(2, 1)"
      ]
     },
     "execution_count": 2,
     "metadata": {},
     "output_type": "execute_result"
    }
   ],
   "source": [
    "net = nn.Sequential([nn.Dense(8), nn.relu, nn.Dense(1)])\n",
    "X = jax.random.uniform(d2l.get_key(), (2, 4))\n",
    "params = net.init(d2l.get_key(), X)\n",
    "net.apply(params, X).shape"
   ]
  },
  {
   "cell_type": "markdown",
   "id": "b4caad6a",
   "metadata": {
    "origin_pos": 14
   },
   "source": [
    "## [**Built-in Initialization**]\n",
    "\n",
    "Let's begin by calling on built-in initializers.\n",
    "The code below initializes all weight parameters\n",
    "as Gaussian random variables\n",
    "with standard deviation 0.01, while bias parameters are cleared to zero.\n"
   ]
  },
  {
   "cell_type": "code",
   "execution_count": 3,
   "id": "626a1a5c",
   "metadata": {
    "execution": {
     "iopub.execute_input": "2023-08-18T07:22:06.389763Z",
     "iopub.status.busy": "2023-08-18T07:22:06.389150Z",
     "iopub.status.idle": "2023-08-18T07:22:06.803075Z",
     "shell.execute_reply": "2023-08-18T07:22:06.802140Z"
    },
    "origin_pos": 18,
    "tab": [
     "jax"
    ]
   },
   "outputs": [
    {
     "data": {
      "text/plain": [
       "(Array([-0.00944084,  0.01526781,  0.01000232,  0.01020786], dtype=float32),\n",
       " Array(0., dtype=float32))"
      ]
     },
     "execution_count": 3,
     "metadata": {},
     "output_type": "execute_result"
    }
   ],
   "source": [
    "weight_init = nn.initializers.normal(0.01)\n",
    "bias_init = nn.initializers.zeros\n",
    "\n",
    "net = nn.Sequential([nn.Dense(8, kernel_init=weight_init, bias_init=bias_init),\n",
    "                     nn.relu,\n",
    "                     nn.Dense(1, kernel_init=weight_init, bias_init=bias_init)])\n",
    "\n",
    "params = net.init(jax.random.PRNGKey(d2l.get_seed()), X)\n",
    "layer_0 = params['params']['layers_0']\n",
    "layer_0['kernel'][:, 0], layer_0['bias'][0]"
   ]
  },
  {
   "cell_type": "markdown",
   "id": "6e528f30",
   "metadata": {
    "origin_pos": 19
   },
   "source": [
    "We can also initialize all the parameters\n",
    "to a given constant value (say, 1).\n"
   ]
  },
  {
   "cell_type": "code",
   "execution_count": 4,
   "id": "488359c2",
   "metadata": {
    "execution": {
     "iopub.execute_input": "2023-08-18T07:22:06.806652Z",
     "iopub.status.busy": "2023-08-18T07:22:06.805973Z",
     "iopub.status.idle": "2023-08-18T07:22:06.846152Z",
     "shell.execute_reply": "2023-08-18T07:22:06.845344Z"
    },
    "origin_pos": 23,
    "tab": [
     "jax"
    ]
   },
   "outputs": [
    {
     "data": {
      "text/plain": [
       "(Array([1., 1., 1., 1.], dtype=float32), Array(0., dtype=float32))"
      ]
     },
     "execution_count": 4,
     "metadata": {},
     "output_type": "execute_result"
    }
   ],
   "source": [
    "weight_init = nn.initializers.constant(1)\n",
    "\n",
    "net = nn.Sequential([nn.Dense(8, kernel_init=weight_init, bias_init=bias_init),\n",
    "                     nn.relu,\n",
    "                     nn.Dense(1, kernel_init=weight_init, bias_init=bias_init)])\n",
    "\n",
    "params = net.init(jax.random.PRNGKey(d2l.get_seed()), X)\n",
    "layer_0 = params['params']['layers_0']\n",
    "layer_0['kernel'][:, 0], layer_0['bias'][0]"
   ]
  },
  {
   "cell_type": "markdown",
   "id": "0cff6454",
   "metadata": {
    "origin_pos": 24
   },
   "source": [
    "[**We can also apply different initializers for certain blocks.**]\n",
    "For example, below we initialize the first layer\n",
    "with the Xavier initializer\n",
    "and initialize the second layer\n",
    "to a constant value of 42.\n"
   ]
  },
  {
   "cell_type": "code",
   "execution_count": 5,
   "id": "c62725cd",
   "metadata": {
    "execution": {
     "iopub.execute_input": "2023-08-18T07:22:06.849529Z",
     "iopub.status.busy": "2023-08-18T07:22:06.848961Z",
     "iopub.status.idle": "2023-08-18T07:22:06.996054Z",
     "shell.execute_reply": "2023-08-18T07:22:06.995205Z"
    },
    "origin_pos": 28,
    "tab": [
     "jax"
    ]
   },
   "outputs": [
    {
     "data": {
      "text/plain": [
       "(Array([-0.3472612 , -0.14502545,  0.5215495 , -0.6690141 ], dtype=float32),\n",
       " Array([[42.],\n",
       "        [42.],\n",
       "        [42.],\n",
       "        [42.],\n",
       "        [42.],\n",
       "        [42.],\n",
       "        [42.],\n",
       "        [42.]], dtype=float32))"
      ]
     },
     "execution_count": 5,
     "metadata": {},
     "output_type": "execute_result"
    }
   ],
   "source": [
    "net = nn.Sequential([nn.Dense(8, kernel_init=nn.initializers.xavier_uniform(),\n",
    "                              bias_init=bias_init),\n",
    "                     nn.relu,\n",
    "                     nn.Dense(1, kernel_init=nn.initializers.constant(42),\n",
    "                              bias_init=bias_init)])\n",
    "\n",
    "params = net.init(jax.random.PRNGKey(d2l.get_seed()), X)\n",
    "params['params']['layers_0']['kernel'][:, 0], params['params']['layers_2']['kernel']"
   ]
  },
  {
   "cell_type": "markdown",
   "id": "daaad56f",
   "metadata": {
    "origin_pos": 29
   },
   "source": [
    "### [**Custom Initialization**]\n",
    "\n",
    "Sometimes, the initialization methods we need\n",
    "are not provided by the deep learning framework.\n",
    "In the example below, we define an initializer\n",
    "for any weight parameter $w$ using the following strange distribution:\n",
    "\n",
    "$$\n",
    "\\begin{aligned}\n",
    "    w \\sim \\begin{cases}\n",
    "        U(5, 10) & \\textrm{ with probability } \\frac{1}{4} \\\\\n",
    "            0    & \\textrm{ with probability } \\frac{1}{2} \\\\\n",
    "        U(-10, -5) & \\textrm{ with probability } \\frac{1}{4}\n",
    "    \\end{cases}\n",
    "\\end{aligned}\n",
    "$$\n"
   ]
  },
  {
   "cell_type": "markdown",
   "id": "9220180a",
   "metadata": {
    "origin_pos": 33,
    "tab": [
     "jax"
    ]
   },
   "source": [
    "Jax initialization functions take as arguments the `PRNGKey`, `shape` and\n",
    "`dtype`. Here we implement the function `my_init` that returns a desired\n",
    "tensor given the shape and data type.\n"
   ]
  },
  {
   "cell_type": "code",
   "execution_count": 6,
   "id": "43581145",
   "metadata": {
    "execution": {
     "iopub.execute_input": "2023-08-18T07:22:06.999694Z",
     "iopub.status.busy": "2023-08-18T07:22:06.999019Z",
     "iopub.status.idle": "2023-08-18T07:22:07.215450Z",
     "shell.execute_reply": "2023-08-18T07:22:07.214388Z"
    },
    "origin_pos": 37,
    "tab": [
     "jax"
    ]
   },
   "outputs": [
    {
     "name": "stdout",
     "output_type": "stream",
     "text": [
      "[[ 0.        -9.883148 ]\n",
      " [ 9.662153  -8.952053 ]\n",
      " [-8.446951   8.958147 ]\n",
      " [ 0.         6.0564566]]\n"
     ]
    }
   ],
   "source": [
    "def my_init(key, shape, dtype=jnp.float_):\n",
    "    data = jax.random.uniform(key, shape, minval=-10, maxval=10)\n",
    "    return data * (jnp.abs(data) >= 5)\n",
    "\n",
    "net = nn.Sequential([nn.Dense(8, kernel_init=my_init), nn.relu, nn.Dense(1)])\n",
    "params = net.init(d2l.get_key(), X)\n",
    "print(params['params']['layers_0']['kernel'][:, :2])"
   ]
  },
  {
   "cell_type": "markdown",
   "id": "f8c758d0",
   "metadata": {
    "origin_pos": 39,
    "tab": [
     "jax"
    ]
   },
   "source": [
    "When initializing parameters in JAX and Flax, the the dictionary of parameters\n",
    "returned has a `flax.core.frozen_dict.FrozenDict` type. It is not advisable in\n",
    "the Jax ecosystem to directly alter the values of an array, hence the datatypes\n",
    "are generally immutable. One might use `params.unfreeze()` to make changes.\n"
   ]
  },
  {
   "cell_type": "markdown",
   "id": "95219143",
   "metadata": {
    "origin_pos": 43
   },
   "source": [
    "## Summary\n",
    "\n",
    "We can initialize parameters using built-in and custom initializers.\n",
    "\n",
    "## Exercises\n",
    "\n",
    "Look up the online documentation for more built-in initializers.\n"
   ]
  },
  {
   "cell_type": "markdown",
   "id": "23fb0478",
   "metadata": {
    "origin_pos": 47,
    "tab": [
     "jax"
    ]
   },
   "source": [
    "[Discussions](https://discuss.d2l.ai/t/17991)\n"
   ]
  }
 ],
 "metadata": {
  "language_info": {
   "name": "python"
  },
  "required_libs": []
 },
 "nbformat": 4,
 "nbformat_minor": 5
}