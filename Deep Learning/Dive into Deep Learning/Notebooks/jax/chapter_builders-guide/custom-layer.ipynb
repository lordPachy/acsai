{
 "cells": [
  {
   "cell_type": "markdown",
   "id": "e9a3fab2",
   "metadata": {
    "origin_pos": 1
   },
   "source": [
    "# Custom Layers\n",
    "\n",
    "One factor behind deep learning's success\n",
    "is the availability of a wide range of layers\n",
    "that can be composed in creative ways\n",
    "to design architectures suitable\n",
    "for a wide variety of tasks.\n",
    "For instance, researchers have invented layers\n",
    "specifically for handling images, text,\n",
    "looping over sequential data,\n",
    "and\n",
    "performing dynamic programming.\n",
    "Sooner or later, you will need\n",
    "a layer that does not exist yet in the deep learning framework.\n",
    "In these cases, you must build a custom layer.\n",
    "In this section, we show you how.\n"
   ]
  },
  {
   "cell_type": "code",
   "execution_count": 1,
   "id": "b08735cb",
   "metadata": {
    "execution": {
     "iopub.execute_input": "2023-08-18T07:21:31.567100Z",
     "iopub.status.busy": "2023-08-18T07:21:31.566394Z",
     "iopub.status.idle": "2023-08-18T07:21:39.295590Z",
     "shell.execute_reply": "2023-08-18T07:21:39.294623Z"
    },
    "origin_pos": 5,
    "tab": [
     "jax"
    ]
   },
   "outputs": [
    {
     "name": "stdout",
     "output_type": "stream",
     "text": [
      "No GPU/TPU found, falling back to CPU. (Set TF_CPP_MIN_LOG_LEVEL=0 and rerun for more info.)\n"
     ]
    }
   ],
   "source": [
    "import jax\n",
    "from flax import linen as nn\n",
    "from jax import numpy as jnp\n",
    "from d2l import jax as d2l"
   ]
  },
  {
   "cell_type": "markdown",
   "id": "d4313b1a",
   "metadata": {
    "origin_pos": 6
   },
   "source": [
    "## (**Layers without Parameters**)\n",
    "\n",
    "To start, we construct a custom layer\n",
    "that does not have any parameters of its own.\n",
    "This should look familiar if you recall our\n",
    "introduction to modules in :numref:`sec_model_construction`.\n",
    "The following `CenteredLayer` class simply\n",
    "subtracts the mean from its input.\n",
    "To build it, we simply need to inherit\n",
    "from the base layer class and implement the forward propagation function.\n"
   ]
  },
  {
   "cell_type": "code",
   "execution_count": 2,
   "id": "24c395f9",
   "metadata": {
    "execution": {
     "iopub.execute_input": "2023-08-18T07:21:39.300620Z",
     "iopub.status.busy": "2023-08-18T07:21:39.299820Z",
     "iopub.status.idle": "2023-08-18T07:21:39.304850Z",
     "shell.execute_reply": "2023-08-18T07:21:39.304066Z"
    },
    "origin_pos": 10,
    "tab": [
     "jax"
    ]
   },
   "outputs": [],
   "source": [
    "class CenteredLayer(nn.Module):\n",
    "    def __call__(self, X):\n",
    "        return X - X.mean()"
   ]
  },
  {
   "cell_type": "markdown",
   "id": "fbe6b80a",
   "metadata": {
    "origin_pos": 11
   },
   "source": [
    "Let's verify that our layer works as intended by feeding some data through it.\n"
   ]
  },
  {
   "cell_type": "code",
   "execution_count": 3,
   "id": "c2be2335",
   "metadata": {
    "execution": {
     "iopub.execute_input": "2023-08-18T07:21:39.308756Z",
     "iopub.status.busy": "2023-08-18T07:21:39.308210Z",
     "iopub.status.idle": "2023-08-18T07:21:39.348414Z",
     "shell.execute_reply": "2023-08-18T07:21:39.347589Z"
    },
    "origin_pos": 12,
    "tab": [
     "jax"
    ]
   },
   "outputs": [
    {
     "data": {
      "text/plain": [
       "Array([-2., -1.,  0.,  1.,  2.], dtype=float32)"
      ]
     },
     "execution_count": 3,
     "metadata": {},
     "output_type": "execute_result"
    }
   ],
   "source": [
    "layer = CenteredLayer()\n",
    "layer(jnp.array([1.0, 2, 3, 4, 5]))"
   ]
  },
  {
   "cell_type": "markdown",
   "id": "04a579a9",
   "metadata": {
    "origin_pos": 13
   },
   "source": [
    "We can now [**incorporate our layer as a component\n",
    "in constructing more complex models.**]\n"
   ]
  },
  {
   "cell_type": "code",
   "execution_count": 4,
   "id": "3ce9ec81",
   "metadata": {
    "execution": {
     "iopub.execute_input": "2023-08-18T07:21:39.352028Z",
     "iopub.status.busy": "2023-08-18T07:21:39.351443Z",
     "iopub.status.idle": "2023-08-18T07:21:39.355659Z",
     "shell.execute_reply": "2023-08-18T07:21:39.354800Z"
    },
    "origin_pos": 17,
    "tab": [
     "jax"
    ]
   },
   "outputs": [],
   "source": [
    "net = nn.Sequential([nn.Dense(128), CenteredLayer()])"
   ]
  },
  {
   "cell_type": "markdown",
   "id": "28b3932d",
   "metadata": {
    "origin_pos": 18
   },
   "source": [
    "As an extra sanity check, we can send random data\n",
    "through the network and check that the mean is in fact 0.\n",
    "Because we are dealing with floating point numbers,\n",
    "we may still see a very small nonzero number\n",
    "due to quantization.\n"
   ]
  },
  {
   "cell_type": "markdown",
   "id": "34734eee",
   "metadata": {
    "origin_pos": 19,
    "tab": [
     "jax"
    ]
   },
   "source": [
    "Here we utilize the `init_with_output` method which returns both the output of\n",
    "the network as well as the parameters. In this case we only focus on the\n",
    "output.\n"
   ]
  },
  {
   "cell_type": "code",
   "execution_count": 5,
   "id": "304692c0",
   "metadata": {
    "execution": {
     "iopub.execute_input": "2023-08-18T07:21:39.359006Z",
     "iopub.status.busy": "2023-08-18T07:21:39.358453Z",
     "iopub.status.idle": "2023-08-18T07:21:40.010518Z",
     "shell.execute_reply": "2023-08-18T07:21:40.009600Z"
    },
    "origin_pos": 22,
    "tab": [
     "jax"
    ]
   },
   "outputs": [
    {
     "data": {
      "text/plain": [
       "Array(5.5879354e-09, dtype=float32)"
      ]
     },
     "execution_count": 5,
     "metadata": {},
     "output_type": "execute_result"
    }
   ],
   "source": [
    "Y, _ = net.init_with_output(d2l.get_key(), jax.random.uniform(d2l.get_key(),\n",
    "                                                              (4, 8)))\n",
    "Y.mean()"
   ]
  },
  {
   "cell_type": "markdown",
   "id": "80c97012",
   "metadata": {
    "origin_pos": 23
   },
   "source": [
    "## [**Layers with Parameters**]\n",
    "\n",
    "Now that we know how to define simple layers,\n",
    "let's move on to defining layers with parameters\n",
    "that can be adjusted through training.\n",
    "We can use built-in functions to create parameters, which\n",
    "provide some basic housekeeping functionality.\n",
    "In particular, they govern access, initialization,\n",
    "sharing, saving, and loading model parameters.\n",
    "This way, among other benefits, we will not need to write\n",
    "custom serialization routines for every custom layer.\n",
    "\n",
    "Now let's implement our own version of the  fully connected layer.\n",
    "Recall that this layer requires two parameters,\n",
    "one to represent the weight and the other for the bias.\n",
    "In this implementation, we bake in the ReLU activation as a default.\n",
    "This layer requires two input arguments: `in_units` and `units`, which\n",
    "denote the number of inputs and outputs, respectively.\n"
   ]
  },
  {
   "cell_type": "code",
   "execution_count": 6,
   "id": "2da2434a",
   "metadata": {
    "execution": {
     "iopub.execute_input": "2023-08-18T07:21:40.014374Z",
     "iopub.status.busy": "2023-08-18T07:21:40.013776Z",
     "iopub.status.idle": "2023-08-18T07:21:40.020803Z",
     "shell.execute_reply": "2023-08-18T07:21:40.019846Z"
    },
    "origin_pos": 27,
    "tab": [
     "jax"
    ]
   },
   "outputs": [],
   "source": [
    "class MyDense(nn.Module):\n",
    "    in_units: int\n",
    "    units: int\n",
    "\n",
    "    def setup(self):\n",
    "        self.weight = self.param('weight', nn.initializers.normal(stddev=1),\n",
    "                                 (self.in_units, self.units))\n",
    "        self.bias = self.param('bias', nn.initializers.zeros, self.units)\n",
    "\n",
    "    def __call__(self, X):\n",
    "        linear = jnp.matmul(X, self.weight) + self.bias\n",
    "        return nn.relu(linear)"
   ]
  },
  {
   "cell_type": "markdown",
   "id": "dd1b83e6",
   "metadata": {
    "origin_pos": 28,
    "tab": [
     "jax"
    ]
   },
   "source": [
    "Next, we instantiate the `MyDense` class\n",
    "and access its model parameters.\n"
   ]
  },
  {
   "cell_type": "code",
   "execution_count": 7,
   "id": "f1c7cac1",
   "metadata": {
    "execution": {
     "iopub.execute_input": "2023-08-18T07:21:40.024170Z",
     "iopub.status.busy": "2023-08-18T07:21:40.023584Z",
     "iopub.status.idle": "2023-08-18T07:21:40.308263Z",
     "shell.execute_reply": "2023-08-18T07:21:40.307273Z"
    },
    "origin_pos": 33,
    "tab": [
     "jax"
    ]
   },
   "outputs": [
    {
     "data": {
      "text/plain": [
       "FrozenDict({\n",
       "    params: {\n",
       "        weight: Array([[ 0.457323  ,  0.48909545, -0.69718534],\n",
       "               [ 0.39462337, -1.9821982 ,  0.26406184],\n",
       "               [-1.2466857 , -0.6145607 , -0.48282492],\n",
       "               [-0.25153905,  0.48479155,  0.35480422],\n",
       "               [-1.6592307 ,  0.8844818 ,  1.2634686 ]], dtype=float32),\n",
       "        bias: Array([0., 0., 0.], dtype=float32),\n",
       "    },\n",
       "})"
      ]
     },
     "execution_count": 7,
     "metadata": {},
     "output_type": "execute_result"
    }
   ],
   "source": [
    "dense = MyDense(5, 3)\n",
    "params = dense.init(d2l.get_key(), jnp.zeros((3, 5)))\n",
    "params"
   ]
  },
  {
   "cell_type": "markdown",
   "id": "d01bed50",
   "metadata": {
    "origin_pos": 34
   },
   "source": [
    "We can [**directly carry out forward propagation calculations using custom layers.**]\n"
   ]
  },
  {
   "cell_type": "code",
   "execution_count": 8,
   "id": "947a5463",
   "metadata": {
    "execution": {
     "iopub.execute_input": "2023-08-18T07:21:40.311889Z",
     "iopub.status.busy": "2023-08-18T07:21:40.311580Z",
     "iopub.status.idle": "2023-08-18T07:21:40.528129Z",
     "shell.execute_reply": "2023-08-18T07:21:40.527188Z"
    },
    "origin_pos": 38,
    "tab": [
     "jax"
    ]
   },
   "outputs": [
    {
     "data": {
      "text/plain": [
       "Array([[0.       , 0.       , 0.       ],\n",
       "       [0.       , 0.       , 0.6575615]], dtype=float32)"
      ]
     },
     "execution_count": 8,
     "metadata": {},
     "output_type": "execute_result"
    }
   ],
   "source": [
    "dense.apply(params, jax.random.uniform(d2l.get_key(),\n",
    "                                       (2, 5)))"
   ]
  },
  {
   "cell_type": "markdown",
   "id": "895b54df",
   "metadata": {
    "origin_pos": 39
   },
   "source": [
    "We can also (**construct models using custom layers.**)\n",
    "Once we have that we can use it just like the built-in fully connected layer.\n"
   ]
  },
  {
   "cell_type": "code",
   "execution_count": 9,
   "id": "f1c3e62e",
   "metadata": {
    "execution": {
     "iopub.execute_input": "2023-08-18T07:21:40.532252Z",
     "iopub.status.busy": "2023-08-18T07:21:40.531476Z",
     "iopub.status.idle": "2023-08-18T07:21:41.208430Z",
     "shell.execute_reply": "2023-08-18T07:21:41.207546Z"
    },
    "origin_pos": 43,
    "tab": [
     "jax"
    ]
   },
   "outputs": [
    {
     "data": {
      "text/plain": [
       "Array([[5.096267],\n",
       "       [4.02948 ]], dtype=float32)"
      ]
     },
     "execution_count": 9,
     "metadata": {},
     "output_type": "execute_result"
    }
   ],
   "source": [
    "net = nn.Sequential([MyDense(64, 8), MyDense(8, 1)])\n",
    "Y, _ = net.init_with_output(d2l.get_key(), jax.random.uniform(d2l.get_key(),\n",
    "                                                              (2, 64)))\n",
    "Y"
   ]
  },
  {
   "cell_type": "markdown",
   "id": "4c73fc0e",
   "metadata": {
    "origin_pos": 44
   },
   "source": [
    "## Summary\n",
    "\n",
    "We can design custom layers via the basic layer class. This allows us to define flexible new layers that behave differently from any existing layers in the library.\n",
    "Once defined, custom layers can be invoked in arbitrary contexts and architectures.\n",
    "Layers can have local parameters, which can be created through built-in functions.\n",
    "\n",
    "\n",
    "## Exercises\n",
    "\n",
    "1. Design a layer that takes an input and computes a tensor reduction,\n",
    "   i.e., it returns $y_k = \\sum_{i, j} W_{ijk} x_i x_j$.\n",
    "1. Design a layer that returns the leading half of the Fourier coefficients of the data.\n"
   ]
  },
  {
   "cell_type": "markdown",
   "id": "45b732ed",
   "metadata": {
    "origin_pos": 48,
    "tab": [
     "jax"
    ]
   },
   "source": [
    "[Discussions](https://discuss.d2l.ai/t/17993)\n"
   ]
  }
 ],
 "metadata": {
  "language_info": {
   "name": "python"
  },
  "required_libs": []
 },
 "nbformat": 4,
 "nbformat_minor": 5
}