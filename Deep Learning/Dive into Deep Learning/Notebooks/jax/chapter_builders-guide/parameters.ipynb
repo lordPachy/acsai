{
 "cells": [
  {
   "cell_type": "markdown",
   "id": "96f4c1a9",
   "metadata": {
    "origin_pos": 1
   },
   "source": [
    "# Parameter Management\n",
    "\n",
    "Once we have chosen an architecture\n",
    "and set our hyperparameters,\n",
    "we proceed to the training loop,\n",
    "where our goal is to find parameter values\n",
    "that minimize our loss function.\n",
    "After training, we will need these parameters\n",
    "in order to make future predictions.\n",
    "Additionally, we will sometimes wish\n",
    "to extract the parameters\n",
    "perhaps to reuse them in some other context,\n",
    "to save our model to disk so that\n",
    "it may be executed in other software,\n",
    "or for examination in the hope of\n",
    "gaining scientific understanding.\n",
    "\n",
    "Most of the time, we will be able\n",
    "to ignore the nitty-gritty details\n",
    "of how parameters are declared\n",
    "and manipulated, relying on deep learning frameworks\n",
    "to do the heavy lifting.\n",
    "However, when we move away from\n",
    "stacked architectures with standard layers,\n",
    "we will sometimes need to get into the weeds\n",
    "of declaring and manipulating parameters.\n",
    "In this section, we cover the following:\n",
    "\n",
    "* Accessing parameters for debugging, diagnostics, and visualizations.\n",
    "* Sharing parameters across different model components.\n"
   ]
  },
  {
   "cell_type": "code",
   "execution_count": 1,
   "id": "3a77cbe2",
   "metadata": {
    "execution": {
     "iopub.execute_input": "2023-08-18T07:18:36.781011Z",
     "iopub.status.busy": "2023-08-18T07:18:36.780728Z",
     "iopub.status.idle": "2023-08-18T07:18:42.432044Z",
     "shell.execute_reply": "2023-08-18T07:18:42.431165Z"
    },
    "origin_pos": 5,
    "tab": [
     "jax"
    ]
   },
   "outputs": [
    {
     "name": "stdout",
     "output_type": "stream",
     "text": [
      "No GPU/TPU found, falling back to CPU. (Set TF_CPP_MIN_LOG_LEVEL=0 and rerun for more info.)\n"
     ]
    }
   ],
   "source": [
    "import jax\n",
    "from flax import linen as nn\n",
    "from jax import numpy as jnp\n",
    "from d2l import jax as d2l"
   ]
  },
  {
   "cell_type": "markdown",
   "id": "b5926284",
   "metadata": {
    "origin_pos": 6
   },
   "source": [
    "(**We start by focusing on an MLP with one hidden layer.**)\n"
   ]
  },
  {
   "cell_type": "code",
   "execution_count": 2,
   "id": "d3221879",
   "metadata": {
    "execution": {
     "iopub.execute_input": "2023-08-18T07:18:42.437237Z",
     "iopub.status.busy": "2023-08-18T07:18:42.436342Z",
     "iopub.status.idle": "2023-08-18T07:18:43.253323Z",
     "shell.execute_reply": "2023-08-18T07:18:43.252405Z"
    },
    "origin_pos": 10,
    "tab": [
     "jax"
    ]
   },
   "outputs": [
    {
     "data": {
      "text/plain": [
       "(2, 1)"
      ]
     },
     "execution_count": 2,
     "metadata": {},
     "output_type": "execute_result"
    }
   ],
   "source": [
    "net = nn.Sequential([nn.Dense(8), nn.relu, nn.Dense(1)])\n",
    "\n",
    "X = jax.random.uniform(d2l.get_key(), (2, 4))\n",
    "params = net.init(d2l.get_key(), X)\n",
    "net.apply(params, X).shape"
   ]
  },
  {
   "cell_type": "markdown",
   "id": "1be1a250",
   "metadata": {
    "origin_pos": 11
   },
   "source": [
    "## [**Parameter Access**]\n",
    ":label:`subsec_param-access`\n",
    "\n",
    "Let's start with how to access parameters\n",
    "from the models that you already know.\n"
   ]
  },
  {
   "cell_type": "markdown",
   "id": "f1445b5d",
   "metadata": {
    "origin_pos": 13,
    "tab": [
     "jax"
    ]
   },
   "source": [
    "Flax and JAX decouple the model and the parameters as you\n",
    "might have observed in the models defined previously.\n",
    "When a model is defined via the `Sequential` class,\n",
    "we first need to initialize the network to generate\n",
    "the parameters dictionary. We can access\n",
    "any layer's parameters through the keys of this dictionary.\n"
   ]
  },
  {
   "cell_type": "markdown",
   "id": "006c54ae",
   "metadata": {
    "origin_pos": 14
   },
   "source": [
    "We can inspect the parameters of the second fully connected layer as follows.\n"
   ]
  },
  {
   "cell_type": "code",
   "execution_count": 3,
   "id": "23601e15",
   "metadata": {
    "execution": {
     "iopub.execute_input": "2023-08-18T07:18:43.257976Z",
     "iopub.status.busy": "2023-08-18T07:18:43.257677Z",
     "iopub.status.idle": "2023-08-18T07:18:43.263728Z",
     "shell.execute_reply": "2023-08-18T07:18:43.262961Z"
    },
    "origin_pos": 18,
    "tab": [
     "jax"
    ]
   },
   "outputs": [
    {
     "data": {
      "text/plain": [
       "FrozenDict({\n",
       "    kernel: Array([[-0.5666766 ],\n",
       "           [-0.2169885 ],\n",
       "           [ 0.37719882],\n",
       "           [-0.2976346 ],\n",
       "           [ 0.15896064],\n",
       "           [ 0.72404635],\n",
       "           [-0.44518152],\n",
       "           [-0.08496901]], dtype=float32),\n",
       "    bias: Array([0.], dtype=float32),\n",
       "})"
      ]
     },
     "execution_count": 3,
     "metadata": {},
     "output_type": "execute_result"
    }
   ],
   "source": [
    "params['params']['layers_2']"
   ]
  },
  {
   "cell_type": "markdown",
   "id": "6092417c",
   "metadata": {
    "origin_pos": 19
   },
   "source": [
    "We can see that this fully connected layer\n",
    "contains two parameters,\n",
    "corresponding to that layer's\n",
    "weights and biases, respectively.\n",
    "\n",
    "\n",
    "### [**Targeted Parameters**]\n",
    "\n",
    "Note that each parameter is represented\n",
    "as an instance of the parameter class.\n",
    "To do anything useful with the parameters,\n",
    "we first need to access the underlying numerical values.\n",
    "There are several ways to do this.\n",
    "Some are simpler while others are more general.\n",
    "The following code extracts the bias\n",
    "from the second neural network layer, which returns a parameter class instance, and\n",
    "further accesses that parameter's value.\n"
   ]
  },
  {
   "cell_type": "code",
   "execution_count": 4,
   "id": "0b1b6bd7",
   "metadata": {
    "execution": {
     "iopub.execute_input": "2023-08-18T07:18:43.268256Z",
     "iopub.status.busy": "2023-08-18T07:18:43.267969Z",
     "iopub.status.idle": "2023-08-18T07:18:43.273414Z",
     "shell.execute_reply": "2023-08-18T07:18:43.272547Z"
    },
    "origin_pos": 23,
    "tab": [
     "jax"
    ]
   },
   "outputs": [
    {
     "data": {
      "text/plain": [
       "(jaxlib.xla_extension.ArrayImpl, Array([0.], dtype=float32))"
      ]
     },
     "execution_count": 4,
     "metadata": {},
     "output_type": "execute_result"
    }
   ],
   "source": [
    "bias = params['params']['layers_2']['bias']\n",
    "type(bias), bias"
   ]
  },
  {
   "cell_type": "markdown",
   "id": "bf00e37b",
   "metadata": {
    "origin_pos": 25,
    "tab": [
     "jax"
    ]
   },
   "source": [
    "Unlike the other frameworks, JAX does not keep a track of the gradients over the\n",
    "neural network parameters, instead the parameters and the network are decoupled.\n",
    "It allows the user to express their computation as a\n",
    "Python function, and use the `grad` transformation for the same purpose.\n"
   ]
  },
  {
   "cell_type": "markdown",
   "id": "1e152176",
   "metadata": {
    "origin_pos": 28
   },
   "source": [
    "### [**All Parameters at Once**]\n",
    "\n",
    "When we need to perform operations on all parameters,\n",
    "accessing them one-by-one can grow tedious.\n",
    "The situation can grow especially unwieldy\n",
    "when we work with more complex, e.g., nested, modules,\n",
    "since we would need to recurse\n",
    "through the entire tree to extract\n",
    "each sub-module's parameters. Below we demonstrate accessing the parameters of all layers.\n"
   ]
  },
  {
   "cell_type": "code",
   "execution_count": 5,
   "id": "43f63e8e",
   "metadata": {
    "execution": {
     "iopub.execute_input": "2023-08-18T07:18:43.277966Z",
     "iopub.status.busy": "2023-08-18T07:18:43.277412Z",
     "iopub.status.idle": "2023-08-18T07:18:43.282827Z",
     "shell.execute_reply": "2023-08-18T07:18:43.282042Z"
    },
    "origin_pos": 32,
    "tab": [
     "jax"
    ]
   },
   "outputs": [
    {
     "data": {
      "text/plain": [
       "FrozenDict({\n",
       "    params: {\n",
       "        layers_0: {\n",
       "            bias: (8,),\n",
       "            kernel: (4, 8),\n",
       "        },\n",
       "        layers_2: {\n",
       "            bias: (1,),\n",
       "            kernel: (8, 1),\n",
       "        },\n",
       "    },\n",
       "})"
      ]
     },
     "execution_count": 5,
     "metadata": {},
     "output_type": "execute_result"
    }
   ],
   "source": [
    "jax.tree_util.tree_map(lambda x: x.shape, params)"
   ]
  },
  {
   "cell_type": "markdown",
   "id": "b6a8566b",
   "metadata": {
    "origin_pos": 33
   },
   "source": [
    "## [**Tied Parameters**]\n",
    "\n",
    "Often, we want to share parameters across multiple layers.\n",
    "Let's see how to do this elegantly.\n",
    "In the following we allocate a fully connected layer\n",
    "and then use its parameters specifically\n",
    "to set those of another layer.\n",
    "Here we need to run the forward propagation\n",
    "`net(X)` before accessing the parameters.\n"
   ]
  },
  {
   "cell_type": "code",
   "execution_count": 6,
   "id": "ddea0014",
   "metadata": {
    "execution": {
     "iopub.execute_input": "2023-08-18T07:18:43.287588Z",
     "iopub.status.busy": "2023-08-18T07:18:43.287055Z",
     "iopub.status.idle": "2023-08-18T07:18:43.539293Z",
     "shell.execute_reply": "2023-08-18T07:18:43.538427Z"
    },
    "origin_pos": 37,
    "tab": [
     "jax"
    ]
   },
   "outputs": [
    {
     "name": "stdout",
     "output_type": "stream",
     "text": [
      "True\n"
     ]
    }
   ],
   "source": [
    "# We need to give the shared layer a name so that we can refer to its\n",
    "# parameters\n",
    "shared = nn.Dense(8)\n",
    "net = nn.Sequential([nn.Dense(8), nn.relu,\n",
    "                     shared, nn.relu,\n",
    "                     shared, nn.relu,\n",
    "                     nn.Dense(1)])\n",
    "\n",
    "params = net.init(jax.random.PRNGKey(d2l.get_seed()), X)\n",
    "\n",
    "# Check whether the parameters are different\n",
    "print(len(params['params']) == 3)"
   ]
  },
  {
   "cell_type": "markdown",
   "id": "452b9ad4",
   "metadata": {
    "origin_pos": 38
   },
   "source": [
    "This example shows that the parameters\n",
    "of the second and third layer are tied.\n",
    "They are not just equal, they are\n",
    "represented by the same exact tensor.\n",
    "Thus, if we change one of the parameters,\n",
    "the other one changes, too.\n"
   ]
  },
  {
   "cell_type": "markdown",
   "id": "950e596a",
   "metadata": {
    "origin_pos": 40
   },
   "source": [
    "## Summary\n",
    "\n",
    "We have several ways of accessing and tying model parameters.\n",
    "\n",
    "\n",
    "## Exercises\n",
    "\n",
    "1. Use the `NestMLP` model defined in :numref:`sec_model_construction` and access the parameters of the various layers.\n",
    "1. Construct an MLP containing a shared parameter layer and train it. During the training process, observe the model parameters and gradients of each layer.\n",
    "1. Why is sharing parameters a good idea?\n"
   ]
  },
  {
   "cell_type": "markdown",
   "id": "8baa6b64",
   "metadata": {
    "origin_pos": 44,
    "tab": [
     "jax"
    ]
   },
   "source": [
    "[Discussions](https://discuss.d2l.ai/t/17990)\n"
   ]
  }
 ],
 "metadata": {
  "language_info": {
   "name": "python"
  },
  "required_libs": []
 },
 "nbformat": 4,
 "nbformat_minor": 5
}