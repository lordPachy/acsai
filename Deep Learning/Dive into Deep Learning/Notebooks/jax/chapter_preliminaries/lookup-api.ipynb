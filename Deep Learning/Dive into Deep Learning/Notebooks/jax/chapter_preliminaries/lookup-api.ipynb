{
 "cells": [
  {
   "cell_type": "markdown",
   "id": "294350e1",
   "metadata": {
    "origin_pos": 1
   },
   "source": [
    "# Documentation\n"
   ]
  },
  {
   "cell_type": "code",
   "execution_count": 1,
   "id": "667e78c8",
   "metadata": {
    "execution": {
     "iopub.execute_input": "2023-08-18T07:15:25.051496Z",
     "iopub.status.busy": "2023-08-18T07:15:25.050902Z",
     "iopub.status.idle": "2023-08-18T07:15:25.613812Z",
     "shell.execute_reply": "2023-08-18T07:15:25.612923Z"
    },
    "origin_pos": 8,
    "tab": [
     "jax"
    ]
   },
   "outputs": [],
   "source": [
    "import jax"
   ]
  },
  {
   "cell_type": "markdown",
   "id": "3d975b83",
   "metadata": {
    "origin_pos": 9
   },
   "source": [
    "## Functions and Classes in a Module\n",
    "\n",
    "To know which functions and classes can be called in a module,\n",
    "we invoke the `dir` function. For instance, we can\n",
    "(**query all properties in the module for generating random numbers**):\n"
   ]
  },
  {
   "cell_type": "code",
   "execution_count": 2,
   "id": "1ed14eb0",
   "metadata": {
    "execution": {
     "iopub.execute_input": "2023-08-18T07:15:25.617979Z",
     "iopub.status.busy": "2023-08-18T07:15:25.617343Z",
     "iopub.status.idle": "2023-08-18T07:15:25.622013Z",
     "shell.execute_reply": "2023-08-18T07:15:25.621187Z"
    },
    "origin_pos": 13,
    "tab": [
     "jax"
    ]
   },
   "outputs": [
    {
     "name": "stdout",
     "output_type": "stream",
     "text": [
      "['KeyArray', 'PRNGKey', 'PRNGKeyArray', '_PRNGKeyArray', '__builtins__', '__cached__', '__doc__', '__file__', '__loader__', '__name__', '__package__', '__spec__', 'ball', 'bernoulli', 'beta', 'bits', 'categorical', 'cauchy', 'chisquare', 'choice', 'default_prng_impl', 'dirichlet', 'double_sided_maxwell', 'exponential', 'f', 'fold_in', 'gamma', 'generalized_normal', 'geometric', 'gumbel', 'key', 'key_data', 'laplace', 'loggamma', 'logistic', 'maxwell', 'multivariate_normal', 'normal', 'orthogonal', 'pareto', 'permutation', 'poisson', 'rademacher', 'randint', 'random_gamma_p', 'rayleigh', 'rbg_key', 'shuffle', 'split', 't', 'threefry2x32_key', 'threefry2x32_p', 'threefry_2x32', 'truncated_normal', 'typing', 'uniform', 'unsafe_rbg_key', 'wald', 'weibull_min']\n"
     ]
    }
   ],
   "source": [
    "print(dir(jax.random))"
   ]
  },
  {
   "cell_type": "markdown",
   "id": "bf2e2751",
   "metadata": {
    "origin_pos": 14
   },
   "source": [
    "Generally, we can ignore functions that start and end with `__` (special objects in Python) \n",
    "or functions that start with a single `_`(usually internal functions). \n",
    "Based on the remaining function or attribute names, \n",
    "we might hazard a guess that this module offers \n",
    "various methods for generating random numbers, \n",
    "including sampling from the uniform distribution (`uniform`), \n",
    "normal distribution (`normal`), and multinomial distribution (`multinomial`).\n",
    "\n",
    "## Specific Functions and Classes\n",
    "\n",
    "For specific instructions on how to use a given function or class,\n",
    "we can invoke the  `help` function. As an example, let's\n",
    "[**explore the usage instructions for tensors' `ones` function**].\n"
   ]
  },
  {
   "cell_type": "code",
   "execution_count": 3,
   "id": "38ca868c",
   "metadata": {
    "execution": {
     "iopub.execute_input": "2023-08-18T07:15:25.625518Z",
     "iopub.status.busy": "2023-08-18T07:15:25.624859Z",
     "iopub.status.idle": "2023-08-18T07:15:25.629442Z",
     "shell.execute_reply": "2023-08-18T07:15:25.628653Z"
    },
    "origin_pos": 18,
    "tab": [
     "jax"
    ]
   },
   "outputs": [
    {
     "name": "stdout",
     "output_type": "stream",
     "text": [
      "Help on function ones in module jax._src.numpy.lax_numpy:\n",
      "\n",
      "ones(shape: Any, dtype: Union[Any, str, numpy.dtype, jax._src.SupportsDType, NoneType] = None) -> jax.Array\n",
      "    Return a new array of given shape and type, filled with ones.\n",
      "    \n",
      "    LAX-backend implementation of :func:`numpy.ones`.\n",
      "    \n",
      "    *Original docstring below.*\n",
      "    \n",
      "    Parameters\n",
      "    ----------\n",
      "    shape : int or sequence of ints\n",
      "        Shape of the new array, e.g., ``(2, 3)`` or ``2``.\n",
      "    dtype : data-type, optional\n",
      "        The desired data-type for the array, e.g., `numpy.int8`.  Default is\n",
      "        `numpy.float64`.\n",
      "    \n",
      "    Returns\n",
      "    -------\n",
      "    out : ndarray\n",
      "        Array of ones with the given shape, dtype, and order.\n",
      "\n"
     ]
    }
   ],
   "source": [
    "help(jax.numpy.ones)"
   ]
  },
  {
   "cell_type": "markdown",
   "id": "6bb77f99",
   "metadata": {
    "origin_pos": 19
   },
   "source": [
    "From the documentation, we can see that the `ones` function \n",
    "creates a new tensor with the specified shape \n",
    "and sets all the elements to the value of 1. \n",
    "Whenever possible, you should (**run a quick test**) \n",
    "to confirm your interpretation:\n"
   ]
  },
  {
   "cell_type": "code",
   "execution_count": 4,
   "id": "7382d201",
   "metadata": {
    "execution": {
     "iopub.execute_input": "2023-08-18T07:15:25.633209Z",
     "iopub.status.busy": "2023-08-18T07:15:25.632538Z",
     "iopub.status.idle": "2023-08-18T07:15:26.772230Z",
     "shell.execute_reply": "2023-08-18T07:15:26.771396Z"
    },
    "origin_pos": 23,
    "tab": [
     "jax"
    ]
   },
   "outputs": [
    {
     "name": "stdout",
     "output_type": "stream",
     "text": [
      "No GPU/TPU found, falling back to CPU. (Set TF_CPP_MIN_LOG_LEVEL=0 and rerun for more info.)\n"
     ]
    },
    {
     "data": {
      "text/plain": [
       "Array([1., 1., 1., 1.], dtype=float32)"
      ]
     },
     "execution_count": 4,
     "metadata": {},
     "output_type": "execute_result"
    }
   ],
   "source": [
    "jax.numpy.ones(4)"
   ]
  },
  {
   "cell_type": "markdown",
   "id": "dbab8139",
   "metadata": {
    "origin_pos": 24
   },
   "source": [
    "In the Jupyter notebook, we can use `?` to display the document in another\n",
    "window. For example, `list?` will create content\n",
    "that is almost identical to `help(list)`,\n",
    "displaying it in a new browser window.\n",
    "In addition, if we use two question marks, such as `list??`,\n",
    "the Python code implementing the function will also be displayed.\n",
    "\n",
    "The official documentation provides plenty of descriptions and examples that are beyond this book. \n",
    "We emphasize important use cases \n",
    "that will get you started quickly with practical problems, \n",
    "rather than completeness of coverage. \n",
    "We also encourage you to study the source code of the libraries \n",
    "to see examples of high-quality implementations of production code. \n",
    "By doing this you will become a better engineer \n",
    "in addition to becoming a better scientist.\n"
   ]
  },
  {
   "cell_type": "markdown",
   "id": "d361a91c",
   "metadata": {
    "origin_pos": 28,
    "tab": [
     "jax"
    ]
   },
   "source": [
    "[Discussions](https://discuss.d2l.ai/t/17972)\n"
   ]
  }
 ],
 "metadata": {
  "language_info": {
   "name": "python"
  },
  "required_libs": []
 },
 "nbformat": 4,
 "nbformat_minor": 5
}