{
 "cells": [
  {
   "cell_type": "markdown",
   "id": "75d47fd3",
   "metadata": {
    "origin_pos": 1
   },
   "source": [
    "# Automatic Differentiation\n",
    ":label:`sec_autograd`\n",
    "\n",
    "Recall from :numref:`sec_calculus` \n",
    "that calculating derivatives is the crucial step\n",
    "in all the optimization algorithms\n",
    "that we will use to train deep networks.\n",
    "While the calculations are straightforward,\n",
    "working them out by hand can be tedious and error-prone, \n",
    "and these issues only grow\n",
    "as our models become more complex.\n",
    "\n",
    "Fortunately all modern deep learning frameworks\n",
    "take this work off our plates\n",
    "by offering *automatic differentiation*\n",
    "(often shortened to *autograd*). \n",
    "As we pass data through each successive function,\n",
    "the framework builds a *computational graph* \n",
    "that tracks how each value depends on others.\n",
    "To calculate derivatives, \n",
    "automatic differentiation \n",
    "works backwards through this graph\n",
    "applying the chain rule. \n",
    "The computational algorithm for applying the chain rule\n",
    "in this fashion is called *backpropagation*.\n",
    "\n",
    "While autograd libraries have become\n",
    "a hot concern over the past decade,\n",
    "they have a long history. \n",
    "In fact the earliest references to autograd\n",
    "date back over half of a century :cite:`Wengert.1964`.\n",
    "The core ideas behind modern backpropagation\n",
    "date to a PhD thesis from 1980 :cite:`Speelpenning.1980`\n",
    "and were further developed in the late 1980s :cite:`Griewank.1989`.\n",
    "While backpropagation has become the default method \n",
    "for computing gradients, it is not the only option. \n",
    "For instance, the Julia programming language employs \n",
    "forward propagation :cite:`Revels.Lubin.Papamarkou.2016`. \n",
    "Before exploring methods, \n",
    "let's first master the autograd package.\n"
   ]
  },
  {
   "cell_type": "code",
   "execution_count": 1,
   "id": "c9880827",
   "metadata": {
    "execution": {
     "iopub.execute_input": "2023-08-18T07:21:50.640599Z",
     "iopub.status.busy": "2023-08-18T07:21:50.639819Z",
     "iopub.status.idle": "2023-08-18T07:21:51.222094Z",
     "shell.execute_reply": "2023-08-18T07:21:51.221051Z"
    },
    "origin_pos": 5,
    "tab": [
     "jax"
    ]
   },
   "outputs": [],
   "source": [
    "from jax import numpy as jnp"
   ]
  },
  {
   "cell_type": "markdown",
   "id": "afd76656",
   "metadata": {
    "origin_pos": 6
   },
   "source": [
    "## A Simple Function\n",
    "\n",
    "Let's assume that we are interested\n",
    "in (**differentiating the function\n",
    "$y = 2\\mathbf{x}^{\\top}\\mathbf{x}$\n",
    "with respect to the column vector $\\mathbf{x}$.**)\n",
    "To start, we assign `x` an initial value.\n"
   ]
  },
  {
   "cell_type": "code",
   "execution_count": 2,
   "id": "31ea84d4",
   "metadata": {
    "execution": {
     "iopub.execute_input": "2023-08-18T07:21:51.226502Z",
     "iopub.status.busy": "2023-08-18T07:21:51.225686Z",
     "iopub.status.idle": "2023-08-18T07:21:54.409864Z",
     "shell.execute_reply": "2023-08-18T07:21:54.408983Z"
    },
    "origin_pos": 10,
    "tab": [
     "jax"
    ]
   },
   "outputs": [
    {
     "name": "stdout",
     "output_type": "stream",
     "text": [
      "No GPU/TPU found, falling back to CPU. (Set TF_CPP_MIN_LOG_LEVEL=0 and rerun for more info.)\n"
     ]
    },
    {
     "data": {
      "text/plain": [
       "Array([0., 1., 2., 3.], dtype=float32)"
      ]
     },
     "execution_count": 2,
     "metadata": {},
     "output_type": "execute_result"
    }
   ],
   "source": [
    "x = jnp.arange(4.0)\n",
    "x"
   ]
  },
  {
   "cell_type": "markdown",
   "id": "f657f1c1",
   "metadata": {
    "origin_pos": 15
   },
   "source": [
    "(**We now calculate our function of `x` and assign the result to `y`.**)\n"
   ]
  },
  {
   "cell_type": "code",
   "execution_count": 3,
   "id": "1c12fd29",
   "metadata": {
    "execution": {
     "iopub.execute_input": "2023-08-18T07:21:54.413834Z",
     "iopub.status.busy": "2023-08-18T07:21:54.413239Z",
     "iopub.status.idle": "2023-08-18T07:21:54.453257Z",
     "shell.execute_reply": "2023-08-18T07:21:54.452381Z"
    },
    "origin_pos": 19,
    "tab": [
     "jax"
    ]
   },
   "outputs": [
    {
     "data": {
      "text/plain": [
       "Array(28., dtype=float32)"
      ]
     },
     "execution_count": 3,
     "metadata": {},
     "output_type": "execute_result"
    }
   ],
   "source": [
    "y = lambda x: 2 * jnp.dot(x, x)\n",
    "y(x)"
   ]
  },
  {
   "cell_type": "markdown",
   "id": "0145185a",
   "metadata": {
    "origin_pos": 23,
    "tab": [
     "jax"
    ]
   },
   "source": [
    "[**We can now take the gradient of `y`\n",
    "with respect to `x`**] by passing through the\n",
    "`grad` transform.\n"
   ]
  },
  {
   "cell_type": "code",
   "execution_count": 4,
   "id": "07cef871",
   "metadata": {
    "execution": {
     "iopub.execute_input": "2023-08-18T07:21:54.457156Z",
     "iopub.status.busy": "2023-08-18T07:21:54.456499Z",
     "iopub.status.idle": "2023-08-18T07:21:54.545500Z",
     "shell.execute_reply": "2023-08-18T07:21:54.544621Z"
    },
    "origin_pos": 27,
    "tab": [
     "jax"
    ]
   },
   "outputs": [
    {
     "data": {
      "text/plain": [
       "Array([ 0.,  4.,  8., 12.], dtype=float32)"
      ]
     },
     "execution_count": 4,
     "metadata": {},
     "output_type": "execute_result"
    }
   ],
   "source": [
    "from jax import grad\n",
    "\n",
    "# The `grad` transform returns a Python function that\n",
    "# computes the gradient of the original function\n",
    "x_grad = grad(y)(x)\n",
    "x_grad"
   ]
  },
  {
   "cell_type": "markdown",
   "id": "a7e3f5b5",
   "metadata": {
    "origin_pos": 28
   },
   "source": [
    "(**We already know that the gradient of the function $y = 2\\mathbf{x}^{\\top}\\mathbf{x}$\n",
    "with respect to $\\mathbf{x}$ should be $4\\mathbf{x}$.**)\n",
    "We can now verify that the automatic gradient computation\n",
    "and the expected result are identical.\n"
   ]
  },
  {
   "cell_type": "code",
   "execution_count": 5,
   "id": "4665d423",
   "metadata": {
    "execution": {
     "iopub.execute_input": "2023-08-18T07:21:54.549540Z",
     "iopub.status.busy": "2023-08-18T07:21:54.548937Z",
     "iopub.status.idle": "2023-08-18T07:21:54.583206Z",
     "shell.execute_reply": "2023-08-18T07:21:54.582315Z"
    },
    "origin_pos": 32,
    "tab": [
     "jax"
    ]
   },
   "outputs": [
    {
     "data": {
      "text/plain": [
       "Array([ True,  True,  True,  True], dtype=bool)"
      ]
     },
     "execution_count": 5,
     "metadata": {},
     "output_type": "execute_result"
    }
   ],
   "source": [
    "x_grad == 4 * x"
   ]
  },
  {
   "cell_type": "code",
   "execution_count": 6,
   "id": "7da3f06a",
   "metadata": {
    "execution": {
     "iopub.execute_input": "2023-08-18T07:21:54.586997Z",
     "iopub.status.busy": "2023-08-18T07:21:54.586405Z",
     "iopub.status.idle": "2023-08-18T07:21:54.623229Z",
     "shell.execute_reply": "2023-08-18T07:21:54.622321Z"
    },
    "origin_pos": 39,
    "tab": [
     "jax"
    ]
   },
   "outputs": [
    {
     "data": {
      "text/plain": [
       "Array([1., 1., 1., 1.], dtype=float32)"
      ]
     },
     "execution_count": 6,
     "metadata": {},
     "output_type": "execute_result"
    }
   ],
   "source": [
    "y = lambda x: x.sum()\n",
    "grad(y)(x)"
   ]
  },
  {
   "cell_type": "markdown",
   "id": "3093ddaa",
   "metadata": {
    "origin_pos": 40
   },
   "source": [
    "## Backward for Non-Scalar Variables\n",
    "\n",
    "When `y` is a vector, \n",
    "the most natural representation \n",
    "of the derivative of  `y`\n",
    "with respect to a vector `x` \n",
    "is a matrix called the *Jacobian*\n",
    "that contains the partial derivatives\n",
    "of each component of `y` \n",
    "with respect to each component of `x`.\n",
    "Likewise, for higher-order `y` and `x`,\n",
    "the result of differentiation could be an even higher-order tensor.\n",
    "\n",
    "While Jacobians do show up in some\n",
    "advanced machine learning techniques,\n",
    "more commonly we want to sum up \n",
    "the gradients of each component of `y`\n",
    "with respect to the full vector `x`,\n",
    "yielding a vector of the same shape as `x`.\n",
    "For example, we often have a vector \n",
    "representing the value of our loss function\n",
    "calculated separately for each example among\n",
    "a *batch* of training examples.\n",
    "Here, we just want to (**sum up the gradients\n",
    "computed individually for each example**).\n"
   ]
  },
  {
   "cell_type": "code",
   "execution_count": 7,
   "id": "05058c89",
   "metadata": {
    "execution": {
     "iopub.execute_input": "2023-08-18T07:21:54.626823Z",
     "iopub.status.busy": "2023-08-18T07:21:54.626272Z",
     "iopub.status.idle": "2023-08-18T07:21:54.669002Z",
     "shell.execute_reply": "2023-08-18T07:21:54.668082Z"
    },
    "origin_pos": 47,
    "tab": [
     "jax"
    ]
   },
   "outputs": [
    {
     "data": {
      "text/plain": [
       "Array([0., 2., 4., 6.], dtype=float32)"
      ]
     },
     "execution_count": 7,
     "metadata": {},
     "output_type": "execute_result"
    }
   ],
   "source": [
    "y = lambda x: x * x\n",
    "# grad is only defined for scalar output functions\n",
    "grad(lambda x: y(x).sum())(x)"
   ]
  },
  {
   "cell_type": "markdown",
   "id": "0b77dd96",
   "metadata": {
    "origin_pos": 48
   },
   "source": [
    "## Detaching Computation\n",
    "\n",
    "Sometimes, we wish to [**move some calculations\n",
    "outside of the recorded computational graph.**]\n",
    "For example, say that we use the input \n",
    "to create some auxiliary intermediate terms \n",
    "for which we do not want to compute a gradient. \n",
    "In this case, we need to *detach* \n",
    "the respective computational graph\n",
    "from the final result. \n",
    "The following toy example makes this clearer: \n",
    "suppose we have `z = x * y` and `y = x * x` \n",
    "but we want to focus on the *direct* influence of `x` on `z` \n",
    "rather than the influence conveyed via `y`. \n",
    "In this case, we can create a new variable `u`\n",
    "that takes the same value as `y` \n",
    "but whose *provenance* (how it was created)\n",
    "has been wiped out.\n",
    "Thus `u` has no ancestors in the graph\n",
    "and gradients do not flow through `u` to `x`.\n",
    "For example, taking the gradient of `z = x * u`\n",
    "will yield the result `u`,\n",
    "(not `3 * x * x` as you might have \n",
    "expected since `z = x * x * x`).\n"
   ]
  },
  {
   "cell_type": "code",
   "execution_count": 8,
   "id": "46a3a39b",
   "metadata": {
    "execution": {
     "iopub.execute_input": "2023-08-18T07:21:54.672772Z",
     "iopub.status.busy": "2023-08-18T07:21:54.672169Z",
     "iopub.status.idle": "2023-08-18T07:21:54.723940Z",
     "shell.execute_reply": "2023-08-18T07:21:54.722522Z"
    },
    "origin_pos": 52,
    "tab": [
     "jax"
    ]
   },
   "outputs": [
    {
     "data": {
      "text/plain": [
       "Array([ True,  True,  True,  True], dtype=bool)"
      ]
     },
     "execution_count": 8,
     "metadata": {},
     "output_type": "execute_result"
    }
   ],
   "source": [
    "import jax\n",
    "\n",
    "y = lambda x: x * x\n",
    "# jax.lax primitives are Python wrappers around XLA operations\n",
    "u = jax.lax.stop_gradient(y(x))\n",
    "z = lambda x: u * x\n",
    "\n",
    "grad(lambda x: z(x).sum())(x) == y(x)"
   ]
  },
  {
   "cell_type": "markdown",
   "id": "299ab63f",
   "metadata": {
    "origin_pos": 53
   },
   "source": [
    "Note that while this procedure\n",
    "detaches `y`'s ancestors\n",
    "from the graph leading to `z`, \n",
    "the computational graph leading to `y` \n",
    "persists and thus we can calculate\n",
    "the gradient of `y` with respect to `x`.\n"
   ]
  },
  {
   "cell_type": "code",
   "execution_count": 9,
   "id": "43daaa09",
   "metadata": {
    "execution": {
     "iopub.execute_input": "2023-08-18T07:21:54.728050Z",
     "iopub.status.busy": "2023-08-18T07:21:54.727470Z",
     "iopub.status.idle": "2023-08-18T07:21:54.739751Z",
     "shell.execute_reply": "2023-08-18T07:21:54.738442Z"
    },
    "origin_pos": 57,
    "tab": [
     "jax"
    ]
   },
   "outputs": [
    {
     "data": {
      "text/plain": [
       "Array([ True,  True,  True,  True], dtype=bool)"
      ]
     },
     "execution_count": 9,
     "metadata": {},
     "output_type": "execute_result"
    }
   ],
   "source": [
    "grad(lambda x: y(x).sum())(x) == 2 * x"
   ]
  },
  {
   "cell_type": "markdown",
   "id": "0bc78cf1",
   "metadata": {
    "origin_pos": 58
   },
   "source": [
    "## Gradients and Python Control Flow\n",
    "\n",
    "So far we reviewed cases where the path from input to output \n",
    "was well defined via a function such as `z = x * x * x`.\n",
    "Programming offers us a lot more freedom in how we compute results. \n",
    "For instance, we can make them depend on auxiliary variables \n",
    "or condition choices on intermediate results. \n",
    "One benefit of using automatic differentiation\n",
    "is that [**even if**] building the computational graph of \n",
    "(**a function required passing through a maze of Python control flow**)\n",
    "(e.g., conditionals, loops, and arbitrary function calls),\n",
    "(**we can still calculate the gradient of the resulting variable.**)\n",
    "To illustrate this, consider the following code snippet where \n",
    "the number of iterations of the `while` loop\n",
    "and the evaluation of the `if` statement\n",
    "both depend on the value of the input `a`.\n"
   ]
  },
  {
   "cell_type": "code",
   "execution_count": 10,
   "id": "83375d5f",
   "metadata": {
    "execution": {
     "iopub.execute_input": "2023-08-18T07:21:54.743844Z",
     "iopub.status.busy": "2023-08-18T07:21:54.742725Z",
     "iopub.status.idle": "2023-08-18T07:21:54.748630Z",
     "shell.execute_reply": "2023-08-18T07:21:54.747435Z"
    },
    "origin_pos": 62,
    "tab": [
     "jax"
    ]
   },
   "outputs": [],
   "source": [
    "def f(a):\n",
    "    b = a * 2\n",
    "    while jnp.linalg.norm(b) < 1000:\n",
    "        b = b * 2\n",
    "    if b.sum() > 0:\n",
    "        c = b\n",
    "    else:\n",
    "        c = 100 * b\n",
    "    return c"
   ]
  },
  {
   "cell_type": "markdown",
   "id": "26b77aac",
   "metadata": {
    "origin_pos": 63
   },
   "source": [
    "Below, we call this function, passing in a random value, as input.\n",
    "Since the input is a random variable, \n",
    "we do not know what form \n",
    "the computational graph will take.\n",
    "However, whenever we execute `f(a)` \n",
    "on a specific input, we realize \n",
    "a specific computational graph\n",
    "and can subsequently run `backward`.\n"
   ]
  },
  {
   "cell_type": "code",
   "execution_count": 11,
   "id": "7f9a04f4",
   "metadata": {
    "execution": {
     "iopub.execute_input": "2023-08-18T07:21:54.752434Z",
     "iopub.status.busy": "2023-08-18T07:21:54.751679Z",
     "iopub.status.idle": "2023-08-18T07:21:55.087753Z",
     "shell.execute_reply": "2023-08-18T07:21:55.086483Z"
    },
    "origin_pos": 67,
    "tab": [
     "jax"
    ]
   },
   "outputs": [],
   "source": [
    "from jax import random\n",
    "\n",
    "a = random.normal(random.PRNGKey(1), ())\n",
    "d = f(a)\n",
    "d_grad = grad(f)(a)"
   ]
  },
  {
   "cell_type": "markdown",
   "id": "11282e98",
   "metadata": {
    "origin_pos": 68
   },
   "source": [
    "Even though our function `f` is, for demonstration purposes, a bit contrived,\n",
    "its dependence on the input is quite simple: \n",
    "it is a *linear* function of `a` \n",
    "with piecewise defined scale. \n",
    "As such, `f(a) / a` is a vector of constant entries \n",
    "and, moreover, `f(a) / a` needs to match \n",
    "the gradient of `f(a)` with respect to `a`.\n"
   ]
  },
  {
   "cell_type": "code",
   "execution_count": 12,
   "id": "0bd34da5",
   "metadata": {
    "execution": {
     "iopub.execute_input": "2023-08-18T07:21:55.092164Z",
     "iopub.status.busy": "2023-08-18T07:21:55.091359Z",
     "iopub.status.idle": "2023-08-18T07:21:55.123242Z",
     "shell.execute_reply": "2023-08-18T07:21:55.122032Z"
    },
    "origin_pos": 72,
    "tab": [
     "jax"
    ]
   },
   "outputs": [
    {
     "data": {
      "text/plain": [
       "Array(True, dtype=bool)"
      ]
     },
     "execution_count": 12,
     "metadata": {},
     "output_type": "execute_result"
    }
   ],
   "source": [
    "d_grad == d / a"
   ]
  },
  {
   "cell_type": "markdown",
   "id": "9d79d366",
   "metadata": {
    "origin_pos": 73
   },
   "source": [
    "Dynamic control flow is very common in deep learning. \n",
    "For instance, when processing text, the computational graph\n",
    "depends on the length of the input. \n",
    "In these cases, automatic differentiation \n",
    "becomes vital for statistical modeling \n",
    "since it is impossible to compute the gradient *a priori*. \n",
    "\n",
    "## Discussion\n",
    "\n",
    "You have now gotten a taste of the power of automatic differentiation. \n",
    "The development of libraries for calculating derivatives\n",
    "both automatically and efficiently \n",
    "has been a massive productivity booster\n",
    "for deep learning practitioners,\n",
    "liberating them so they can focus on less menial.\n",
    "Moreover, autograd lets us design massive models\n",
    "for which pen and paper gradient computations \n",
    "would be prohibitively time consuming.\n",
    "Interestingly, while we use autograd to *optimize* models\n",
    "(in a statistical sense)\n",
    "the *optimization* of autograd libraries themselves\n",
    "(in a computational sense)\n",
    "is a rich subject\n",
    "of vital interest to framework designers.\n",
    "Here, tools from compilers and graph manipulation \n",
    "are leveraged to compute results \n",
    "in the most expedient and memory-efficient manner. \n",
    "\n",
    "For now, try to remember these basics: (i) attach gradients to those variables with respect to which we desire derivatives; (ii) record the computation of the target value; (iii) execute the backpropagation function; and  (iv) access the resulting gradient.\n",
    "\n",
    "\n",
    "## Exercises\n",
    "\n",
    "1. Why is the second derivative much more expensive to compute than the first derivative?\n",
    "1. After running the function for backpropagation, immediately run it again and see what happens. Investigate.\n",
    "1. In the control flow example where we calculate the derivative of `d` with respect to `a`, what would happen if we changed the variable `a` to a random vector or a matrix? At this point, the result of the calculation `f(a)` is no longer a scalar. What happens to the result? How do we analyze this?\n",
    "1. Let $f(x) = \\sin(x)$. Plot the graph of $f$ and of its derivative $f'$. Do not exploit the fact that $f'(x) = \\cos(x)$ but rather use automatic differentiation to get the result. \n",
    "1. Let $f(x) = ((\\log x^2) \\cdot \\sin x) + x^{-1}$. Write out a dependency graph tracing results from $x$ to $f(x)$. \n",
    "1. Use the chain rule to compute the derivative $\\frac{df}{dx}$ of the aforementioned function, placing each term on the dependency graph that you constructed previously. \n",
    "1. Given the graph and the intermediate derivative results, you have a number of options when computing the gradient. Evaluate the result once starting from $x$ to $f$ and once from $f$ tracing back to $x$. The path from $x$ to $f$ is commonly known as *forward differentiation*, whereas the path from $f$ to $x$ is known as backward differentiation. \n",
    "1. When might you want to use forward, and when backward, differentiation? Hint: consider the amount of intermediate data needed, the ability to parallelize steps, and the size of matrices and vectors involved.\n"
   ]
  },
  {
   "cell_type": "markdown",
   "id": "bc3d7a5c",
   "metadata": {
    "origin_pos": 77,
    "tab": [
     "jax"
    ]
   },
   "source": [
    "[Discussions](https://discuss.d2l.ai/t/17970)\n"
   ]
  }
 ],
 "metadata": {
  "language_info": {
   "name": "python"
  },
  "required_libs": []
 },
 "nbformat": 4,
 "nbformat_minor": 5
}