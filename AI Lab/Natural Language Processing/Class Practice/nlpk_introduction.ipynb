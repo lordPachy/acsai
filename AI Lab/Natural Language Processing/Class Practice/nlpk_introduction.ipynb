{
 "cells": [
  {
   "cell_type": "markdown",
   "metadata": {},
   "source": [
    "# Tokenisation\n"
   ]
  },
  {
   "cell_type": "markdown",
   "metadata": {},
   "source": [
    "Tokens are *the parts that make up a sentence*. They may or may not correspond exactly to words."
   ]
  },
  {
   "cell_type": "code",
   "execution_count": 10,
   "metadata": {},
   "outputs": [],
   "source": [
    "from nltk.tokenize import sent_tokenize, word_tokenize\n",
    "#import nltk\n",
    "#nltk.download('punkt')"
   ]
  },
  {
   "cell_type": "markdown",
   "metadata": {},
   "source": [
    "The first one parses sentences in smaller sentences, while the second tries to get down to the minimum number of words per token as possible."
   ]
  },
  {
   "cell_type": "code",
   "execution_count": 8,
   "metadata": {},
   "outputs": [
    {
     "name": "stdout",
     "output_type": "stream",
     "text": [
      "['It is dangerous to go alone.', 'Please take care.']\n"
     ]
    }
   ],
   "source": [
    "example_string = \"It is dangerous to go alone. Please take care.\"\n",
    "\n",
    "sent_res = sent_tokenize(example_string)\n",
    "print(sent_res)"
   ]
  },
  {
   "cell_type": "markdown",
   "metadata": {},
   "source": [
    "You can see this relies heavily on punctuation."
   ]
  },
  {
   "cell_type": "code",
   "execution_count": 9,
   "metadata": {},
   "outputs": [
    {
     "name": "stdout",
     "output_type": "stream",
     "text": [
      "['It', 'is', 'dangerous', 'to', 'go', 'alone', '.', 'Please', 'take', 'care', '.']\n"
     ]
    }
   ],
   "source": [
    "res = word_tokenize(example_string)\n",
    "print(res)"
   ]
  },
  {
   "cell_type": "markdown",
   "metadata": {},
   "source": [
    "Note, instead, how this takes in consideration punctuation."
   ]
  }
 ],
 "metadata": {
  "kernelspec": {
   "display_name": "ai_lab-aGYZY7pK-py3.12",
   "language": "python",
   "name": "python3"
  },
  "language_info": {
   "codemirror_mode": {
    "name": "ipython",
    "version": 3
   },
   "file_extension": ".py",
   "mimetype": "text/x-python",
   "name": "python",
   "nbconvert_exporter": "python",
   "pygments_lexer": "ipython3",
   "version": "3.12.2"
  }
 },
 "nbformat": 4,
 "nbformat_minor": 2
}
