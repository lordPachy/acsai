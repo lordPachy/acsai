{
 "cells": [
  {
   "cell_type": "code",
   "execution_count": 1,
   "metadata": {},
   "outputs": [],
   "source": [
    "from sklearn.feature_extraction import DictVectorizer"
   ]
  },
  {
   "cell_type": "markdown",
   "metadata": {},
   "source": [
    "# Importing the data"
   ]
  },
  {
   "cell_type": "code",
   "execution_count": 2,
   "metadata": {},
   "outputs": [],
   "source": [
    "data = [\n",
    "    {'price': 110, 'rooms': 4, 'neighbourhood': 'Tiburtina'},\n",
    "    {'price': 230, 'rooms': 3, 'neighbourhood': 'Tuscolana'},\n",
    "    {'price': 74, 'rooms': 3, 'neighbourhood': 'Appio'}\n",
    "]\n",
    "\n",
    "#{'Tiburtina': 1, 'Tuscolana': 2, 'Appia': 3}"
   ]
  },
  {
   "cell_type": "code",
   "execution_count": 5,
   "metadata": {},
   "outputs": [
    {
     "data": {
      "text/plain": [
       "array([[  0,   1,   0, 110,   4],\n",
       "       [  0,   0,   1, 230,   3],\n",
       "       [  1,   0,   0,  74,   3]])"
      ]
     },
     "execution_count": 5,
     "metadata": {},
     "output_type": "execute_result"
    }
   ],
   "source": [
    "vec = DictVectorizer(sparse = False, dtype = int)\n",
    "result = vec.fit_transform(data)\n",
    "result"
   ]
  },
  {
   "cell_type": "code",
   "execution_count": 7,
   "metadata": {},
   "outputs": [
    {
     "name": "stdout",
     "output_type": "stream",
     "text": [
      "['neighbourhood=Appio' 'neighbourhood=Tiburtina' 'neighbourhood=Tuscolana'\n",
      " 'price' 'rooms']\n"
     ]
    }
   ],
   "source": [
    "names = vec.get_feature_names_out()\n",
    "print(names)"
   ]
  }
 ],
 "metadata": {
  "kernelspec": {
   "display_name": "ai_lab-aGYZY7pK-py3.12",
   "language": "python",
   "name": "python3"
  },
  "language_info": {
   "codemirror_mode": {
    "name": "ipython",
    "version": 3
   },
   "file_extension": ".py",
   "mimetype": "text/x-python",
   "name": "python",
   "nbconvert_exporter": "python",
   "pygments_lexer": "ipython3",
   "version": "3.12.2"
  }
 },
 "nbformat": 4,
 "nbformat_minor": 2
}
