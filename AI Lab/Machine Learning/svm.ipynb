{
 "cells": [
  {
   "cell_type": "markdown",
   "metadata": {},
   "source": [
    "# Introduction"
   ]
  },
  {
   "cell_type": "markdown",
   "metadata": {
    "vscode": {
     "languageId": "plaintext"
    }
   },
   "source": [
    "Support Vector Machines are a kind of model able to do both **regression and classification**."
   ]
  },
  {
   "cell_type": "markdown",
   "metadata": {},
   "source": [
    "# Working Principle"
   ]
  },
  {
   "cell_type": "markdown",
   "metadata": {},
   "source": [
    "It draws a line between classes, trying to maximize the distance (**margin**) from each class.\\\n",
    "What if data is non-linearly separable?\\\n",
    "We can employ the *kernel trick*: we map data into a higher dimensional space (namely, a 3D space);\\\n",
    "the line will become an hyperplane, and it will be much easier to split data."
   ]
  },
  {
   "cell_type": "markdown",
   "metadata": {},
   "source": [
    "This is done with some functions for projecting data into higher dimensions, such as SDF."
   ]
  },
  {
   "cell_type": "markdown",
   "metadata": {
    "vscode": {
     "languageId": "plaintext"
    }
   },
   "source": [
    "The second approach is usually tried when plain SVM does not work."
   ]
  }
 ],
 "metadata": {
  "language_info": {
   "name": "python"
  }
 },
 "nbformat": 4,
 "nbformat_minor": 2
}
