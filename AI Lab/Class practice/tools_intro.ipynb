{
 "cells": [
  {
   "cell_type": "markdown",
   "metadata": {},
   "source": [
    "# Numpy introduction\n",
    "\n",
    "## Numpy arrays\n",
    "\n",
    "There are multiple ways of creating numpy arrays:\n",
    "- from a list\n",
    "- from scratch"
   ]
  },
  {
   "cell_type": "code",
   "execution_count": 3,
   "metadata": {},
   "outputs": [
    {
     "name": "stdout",
     "output_type": "stream",
     "text": [
      "[1, 2, 3, 4]\n",
      "[1 2 3 4]\n",
      "[2 3 4 5]\n"
     ]
    }
   ],
   "source": [
    "import numpy as np\n",
    "\n",
    "mylist = [1,2,3,4]\n",
    "np_list = np.array(mylist)\n",
    "alt_np_list = np.array([2,3,4,5])\n",
    "\n",
    "print(mylist)\n",
    "print(np_list)\n",
    "print(alt_np_list)\n"
   ]
  },
  {
   "cell_type": "markdown",
   "metadata": {},
   "source": [
    "In NumPy arrays, all data must be of the same type. If we try to mix types, some will get upcast (for example, integer get upcast to floats):"
   ]
  },
  {
   "cell_type": "code",
   "execution_count": 6,
   "metadata": {},
   "outputs": [
    {
     "name": "stdout",
     "output_type": "stream",
     "text": [
      "[1.1, 2, 3, 4]\n",
      "[1.1 2.  3.  4. ]\n"
     ]
    }
   ],
   "source": [
    "import numpy as np\n",
    "\n",
    "mylist = [1.1,2,3,4]\n",
    "np_list = np.array(mylist)\n",
    "\n",
    "print(mylist)\n",
    "print(np_list)\n"
   ]
  },
  {
   "cell_type": "markdown",
   "metadata": {},
   "source": [
    "It is also possible to explicitly declarate the type:"
   ]
  },
  {
   "cell_type": "code",
   "execution_count": 8,
   "metadata": {},
   "outputs": [
    {
     "name": "stdout",
     "output_type": "stream",
     "text": [
      "[1 2 3 4]\n"
     ]
    }
   ],
   "source": [
    "typeList = np.array([1, 2, 3, 4], dtype=\"int8\") #note that these are without sign\n",
    "print(typeList)"
   ]
  },
  {
   "cell_type": "markdown",
   "metadata": {},
   "source": [
    "We can create multidimensional arrays (and note the list comprehension syntax):"
   ]
  },
  {
   "cell_type": "code",
   "execution_count": 18,
   "metadata": {},
   "outputs": [
    {
     "name": "stdout",
     "output_type": "stream",
     "text": [
      "[2 3 6]\n"
     ]
    }
   ],
   "source": [
    "np_list = np.array([i for i in [2, 3, 6]])\n",
    "print(np_list)"
   ]
  },
  {
   "cell_type": "code",
   "execution_count": 14,
   "metadata": {},
   "outputs": [
    {
     "name": "stdout",
     "output_type": "stream",
     "text": [
      "[0 0 0 0 0 0 0 0 0 0]\n",
      "[[[1 1 1 1 1 1]\n",
      "  [1 1 1 1 1 1]\n",
      "  [1 1 1 1 1 1]]\n",
      "\n",
      " [[1 1 1 1 1 1]\n",
      "  [1 1 1 1 1 1]\n",
      "  [1 1 1 1 1 1]]]\n"
     ]
    }
   ],
   "source": [
    "#A list of zeros and ones\n",
    "\n",
    "zeros = np.zeros(10, dtype=\"int8\")\n",
    "ones = np.ones((2, 3, 6), dtype=\"int8\")\n",
    "print(zeros)\n",
    "print(ones)"
   ]
  },
  {
   "cell_type": "code",
   "execution_count": 16,
   "metadata": {},
   "outputs": [
    {
     "name": "stdout",
     "output_type": "stream",
     "text": [
      "[[[3 3 3]\n",
      "  [3 3 3]\n",
      "  [3 3 3]]\n",
      "\n",
      " [[3 3 3]\n",
      "  [3 3 3]\n",
      "  [3 3 3]]]\n"
     ]
    }
   ],
   "source": [
    "#a list full of a single value\n",
    "mylist = np.full((2, 3, 3), 3)\n",
    "print(mylist)"
   ]
  },
  {
   "cell_type": "code",
   "execution_count": 19,
   "metadata": {},
   "outputs": [
    {
     "data": {
      "text/plain": [
       "array([ 0,  2,  4,  6,  8, 10, 12, 14, 16, 18])"
      ]
     },
     "execution_count": 19,
     "metadata": {},
     "output_type": "execute_result"
    }
   ],
   "source": [
    "#this works exactly like python\n",
    "np.arange(0, 20, 2)"
   ]
  },
  {
   "cell_type": "code",
   "execution_count": 20,
   "metadata": {},
   "outputs": [
    {
     "name": "stdout",
     "output_type": "stream",
     "text": [
      "[0.   0.25 0.5  0.75 1.  ]\n"
     ]
    }
   ],
   "source": [
    "#this splits the range into even parts\n",
    "mylist = np.linspace(0, 1, 5)\n",
    "print(mylist)"
   ]
  },
  {
   "cell_type": "markdown",
   "metadata": {},
   "source": [
    "NumPy supports also various kind of randomness. For example, you can choose numbers according to certain distributions."
   ]
  },
  {
   "cell_type": "code",
   "execution_count": 21,
   "metadata": {},
   "outputs": [
    {
     "name": "stdout",
     "output_type": "stream",
     "text": [
      "[0.04266537 0.12790076 0.47914864]\n"
     ]
    }
   ],
   "source": [
    "mylist = np.random.random(3)\n",
    "print(mylist)"
   ]
  },
  {
   "cell_type": "code",
   "execution_count": 22,
   "metadata": {},
   "outputs": [
    {
     "name": "stdout",
     "output_type": "stream",
     "text": [
      "[[[ 0.30515799  0.59856269]\n",
      "  [ 1.81947156 -0.41854077]]\n",
      "\n",
      " [[ 3.97876806  1.58425435]\n",
      "  [-0.03867719 -1.42806216]]]\n"
     ]
    }
   ],
   "source": [
    "mylist = np.random.normal(0, 2, (2, 2, 2))\n",
    "print(mylist)"
   ]
  },
  {
   "cell_type": "code",
   "execution_count": 27,
   "metadata": {},
   "outputs": [
    {
     "name": "stdout",
     "output_type": "stream",
     "text": [
      "[6 6 4 2 1]\n"
     ]
    }
   ],
   "source": [
    "mylist = np.random.randint(0, 10, 5)\n",
    "print(mylist)"
   ]
  },
  {
   "cell_type": "markdown",
   "metadata": {},
   "source": [
    "NumPy has also some shortcuts to create notable matrices."
   ]
  },
  {
   "cell_type": "code",
   "execution_count": 28,
   "metadata": {},
   "outputs": [
    {
     "name": "stdout",
     "output_type": "stream",
     "text": [
      "[[1. 0. 0. 0. 0.]\n",
      " [0. 1. 0. 0. 0.]\n",
      " [0. 0. 1. 0. 0.]\n",
      " [0. 0. 0. 1. 0.]\n",
      " [0. 0. 0. 0. 1.]]\n"
     ]
    }
   ],
   "source": [
    "#Identity\n",
    "mylist = np.eye(5)\n",
    "print(mylist)"
   ]
  },
  {
   "cell_type": "code",
   "execution_count": 30,
   "metadata": {},
   "outputs": [
    {
     "name": "stdout",
     "output_type": "stream",
     "text": [
      "[0.04266537 0.12790076 0.47914864]\n"
     ]
    }
   ],
   "source": [
    "#Undeclared matrix: values are whatever is found in memory\n",
    "mylist = np.empty(3)\n",
    "print(mylist)"
   ]
  },
  {
   "cell_type": "markdown",
   "metadata": {},
   "source": [
    "Each NumPy array has 4 important values:\n",
    "* number of dimensions (`ndim`)\n",
    "* elements in each dimension (`shape`)\n",
    "* total number of entries (`size`)\n",
    "* type of the array (`dytpe`)"
   ]
  },
  {
   "cell_type": "code",
   "execution_count": 33,
   "metadata": {},
   "outputs": [
    {
     "name": "stdout",
     "output_type": "stream",
     "text": [
      "[[[0 9 5]\n",
      "  [1 6 4]\n",
      "  [1 9 6]\n",
      "  [5 1 6]\n",
      "  [7 4 2]]\n",
      "\n",
      " [[3 8 2]\n",
      "  [1 7 2]\n",
      "  [7 1 7]\n",
      "  [8 5 8]\n",
      "  [8 1 9]]\n",
      "\n",
      " [[2 2 2]\n",
      "  [0 0 5]\n",
      "  [5 3 6]\n",
      "  [8 7 5]\n",
      "  [8 4 8]]]\n",
      "array dimensions: \n",
      "3\n",
      "(3, 5, 3)\n",
      "45\n",
      "int64\n"
     ]
    }
   ],
   "source": [
    "img = np.random.randint(0, 10, (3,5,3))\n",
    "\n",
    "print(img)\n",
    "print(\"array dimensions: \")\n",
    "print(img.ndim)\n",
    "print(img.shape)\n",
    "print(img.size)\n",
    "print(img.dtype)"
   ]
  },
  {
   "cell_type": "markdown",
   "metadata": {},
   "source": [
    "Indexing is slightly different from standard Python (but is still supports negative indices):"
   ]
  },
  {
   "cell_type": "code",
   "execution_count": 35,
   "metadata": {},
   "outputs": [
    {
     "data": {
      "text/plain": [
       "7"
      ]
     },
     "execution_count": 35,
     "metadata": {},
     "output_type": "execute_result"
    }
   ],
   "source": [
    "img[1, 2, 2]"
   ]
  },
  {
   "cell_type": "markdown",
   "metadata": {},
   "source": [
    "Every time an array is printed, or assigned to a new variable, we are actually printing a **view** of the array.  \n",
    "The original array is not changed, but neither a copy is created.  \n",
    "Every change in the new variable is also applied to the original array.  \n",
    "An array can be copied with the `copy()` method."
   ]
  },
  {
   "cell_type": "code",
   "execution_count": 42,
   "metadata": {},
   "outputs": [
    {
     "name": "stdout",
     "output_type": "stream",
     "text": [
      "[[7 8 2]\n",
      " [2 9 4]\n",
      " [4 8 2]]\n",
      "[[8]]\n"
     ]
    }
   ],
   "source": [
    "#some practice with subindexing\n",
    "\n",
    "mylist = np.random.randint(0, 10, (3, 3))\n",
    "subarray = mylist[:1, 1:2]\n",
    "print(mylist)\n",
    "print(subarray)"
   ]
  },
  {
   "cell_type": "code",
   "execution_count": 44,
   "metadata": {},
   "outputs": [
    {
     "name": "stdout",
     "output_type": "stream",
     "text": [
      "[2 4 2]\n",
      "(array([7, 8, 2]),)\n"
     ]
    }
   ],
   "source": [
    "col = mylist[:, 2]  #this is an entire column, the third\n",
    "print(col)\n",
    "row = mylist[0, :], #this is an entire row, the first\n",
    "print(row)"
   ]
  }
 ],
 "metadata": {
  "kernelspec": {
   "display_name": "ailab",
   "language": "python",
   "name": "python3"
  },
  "language_info": {
   "codemirror_mode": {
    "name": "ipython",
    "version": 3
   },
   "file_extension": ".py",
   "mimetype": "text/x-python",
   "name": "python",
   "nbconvert_exporter": "python",
   "pygments_lexer": "ipython3",
   "version": "3.1.undefined"
  }
 },
 "nbformat": 4,
 "nbformat_minor": 2
}
