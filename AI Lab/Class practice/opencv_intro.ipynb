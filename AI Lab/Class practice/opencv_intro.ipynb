{
 "cells": [
  {
   "cell_type": "markdown",
   "metadata": {},
   "source": [
    "# Intro to OpenCV\n",
    "\n",
    "OpenCV images are NumPy arrays, and can be manipulated as such."
   ]
  },
  {
   "cell_type": "markdown",
   "metadata": {},
   "source": [
    "## Manipulating existing images"
   ]
  },
  {
   "cell_type": "code",
   "execution_count": 1,
   "metadata": {},
   "outputs": [
    {
     "name": "stdout",
     "output_type": "stream",
     "text": [
      "Width: 1110 pixels\n",
      "Heigth: 220 pixels\n",
      "Shape: (220, 1110, 3)\n"
     ]
    }
   ],
   "source": [
    "import cv2\n",
    "\n",
    "img = cv2.imread(\"samples/text.png\")  #setting this to 0 gives a greyscale image, -1 to colour, -1 to transparency and so on\n",
    "print(f\"Width: {img.shape[1]} pixels\")\n",
    "print(f\"Heigth: {img.shape[0]} pixels\")\n",
    "print(f\"Shape: {img.shape}\")"
   ]
  },
  {
   "cell_type": "code",
   "execution_count": 2,
   "metadata": {},
   "outputs": [],
   "source": [
    "cv2.imshow(\"ciao\", img)\n",
    "cv2.waitKey(0)\n",
    "cv2.destroyAllWindows()"
   ]
  },
  {
   "cell_type": "markdown",
   "metadata": {},
   "source": [
    "It is possible to change the format of the image just by rewriting it:"
   ]
  },
  {
   "cell_type": "code",
   "execution_count": 3,
   "metadata": {},
   "outputs": [
    {
     "data": {
      "text/plain": [
       "'\\ncv2.imwrite(\"wtf.jpg\", img)\\ncv2.imshow(\"JPG\", img)\\ncv2.waitKey(0)\\ncv2.destroyAllWindows()\\n'"
      ]
     },
     "execution_count": 3,
     "metadata": {},
     "output_type": "execute_result"
    }
   ],
   "source": [
    "'''\n",
    "cv2.imwrite(\"wtf.jpg\", img)\n",
    "cv2.imshow(\"JPG\", img)\n",
    "cv2.waitKey(0)\n",
    "cv2.destroyAllWindows()\n",
    "'''"
   ]
  },
  {
   "cell_type": "markdown",
   "metadata": {},
   "source": [
    "Some references about to coordinates (note how the order of the channels is BGR and not RGB):"
   ]
  },
  {
   "cell_type": "code",
   "execution_count": 4,
   "metadata": {},
   "outputs": [
    {
     "name": "stdout",
     "output_type": "stream",
     "text": [
      "255 255 255\n"
     ]
    }
   ],
   "source": [
    "b,g,r = img[0, 0]\n",
    "print(b,g,r)"
   ]
  },
  {
   "cell_type": "code",
   "execution_count": 5,
   "metadata": {},
   "outputs": [
    {
     "name": "stdout",
     "output_type": "stream",
     "text": [
      "[[[0 0 0]\n",
      "  [0 0 0]\n",
      "  [0 0 0]\n",
      "  ...\n",
      "  [0 0 0]\n",
      "  [0 0 0]\n",
      "  [0 0 0]]\n",
      "\n",
      " [[0 0 0]\n",
      "  [0 0 0]\n",
      "  [0 0 0]\n",
      "  ...\n",
      "  [0 0 0]\n",
      "  [0 0 0]\n",
      "  [0 0 0]]\n",
      "\n",
      " [[0 0 0]\n",
      "  [0 0 0]\n",
      "  [0 0 0]\n",
      "  ...\n",
      "  [0 0 0]\n",
      "  [0 0 0]\n",
      "  [0 0 0]]\n",
      "\n",
      " ...\n",
      "\n",
      " [[0 0 0]\n",
      "  [0 0 0]\n",
      "  [0 0 0]\n",
      "  ...\n",
      "  [0 0 0]\n",
      "  [0 0 0]\n",
      "  [0 0 0]]\n",
      "\n",
      " [[0 0 0]\n",
      "  [0 0 0]\n",
      "  [0 0 0]\n",
      "  ...\n",
      "  [0 0 0]\n",
      "  [0 0 0]\n",
      "  [0 0 0]]\n",
      "\n",
      " [[0 0 0]\n",
      "  [0 0 0]\n",
      "  [0 0 0]\n",
      "  ...\n",
      "  [0 0 0]\n",
      "  [0 0 0]\n",
      "  [0 0 0]]]\n",
      "(100, 100, 3)\n"
     ]
    }
   ],
   "source": [
    "#let's change some pixels:\n",
    "import numpy as np\n",
    "black = np.repeat((0, 0, 0), 100*100).reshape(100, 100, 3)\n",
    "print(black)\n",
    "print(black.shape)\n",
    "img[0:100, 0:100] = black\n",
    "cv2.imshow(\"blackened\", img)\n",
    "cv2.waitKey(0)\n",
    "cv2.destroyAllWindows()"
   ]
  },
  {
   "cell_type": "code",
   "execution_count": 6,
   "metadata": {},
   "outputs": [],
   "source": [
    "#A more clever way:\n",
    "img[0:100, 0:100] = (255, 0, 0)\n",
    "cv2.imshow(\"imblue\", img)\n",
    "cv2.waitKey(0)\n",
    "cv2.destroyAllWindows()"
   ]
  },
  {
   "cell_type": "markdown",
   "metadata": {},
   "source": [
    "## Drawing on images"
   ]
  },
  {
   "cell_type": "code",
   "execution_count": 7,
   "metadata": {},
   "outputs": [],
   "source": [
    "#Drawing a black square\n",
    "img = np.zeros((500, 500, 3), dtype=\"uint8\") #it is always better to specify the data type\n",
    "\n",
    "cv2.imshow(\"blacksquare\", img)\n",
    "cv2.waitKey(0)\n",
    "cv2.destroyAllWindows()"
   ]
  },
  {
   "cell_type": "code",
   "execution_count": 8,
   "metadata": {},
   "outputs": [],
   "source": [
    "#Drawing a line on such square\n",
    "green = (0, 255, 0)\n",
    "\n",
    "cv2.line(img, (200, 200), (400, 400), green, 4)\n",
    "cv2.imshow(\"greenline\", img)\n",
    "cv2.waitKey(0)\n",
    "cv2.destroyAllWindows()"
   ]
  },
  {
   "cell_type": "code",
   "execution_count": 9,
   "metadata": {},
   "outputs": [],
   "source": [
    "#Drawing a rectangle\n",
    "img = np.zeros((500, 500, 3), dtype=\"uint8\") #it is always better to specify the data type\n",
    "\n",
    "cv2.rectangle(img, (200, 200), (300, 300), (128, 128, 128), 4)\n",
    "cv2.imshow(\"greyrec\", img)\n",
    "cv2.waitKey(0)\n",
    "cv2.destroyAllWindows()"
   ]
  },
  {
   "cell_type": "code",
   "execution_count": 10,
   "metadata": {},
   "outputs": [],
   "source": [
    "#Drawing a circle\n",
    "img = np.zeros((500, 500, 3), dtype=\"uint8\") #it is always better to specify the data type\n",
    "\n",
    "cv2.circle(img, (200, 200), 30, (0, 0, 255), -1)    #-1 in thickness fills the shape with the chosen colour\n",
    "cv2.circle(img, (img.shape[0]//2, img.shape[1]//2), 100, (255, 255, 255), 1)    #pixel coordinates must be integers\n",
    "cv2.imshow(\"whitecircle\", img)\n",
    "cv2.waitKey(0)\n",
    "cv2.destroyAllWindows()"
   ]
  },
  {
   "cell_type": "markdown",
   "metadata": {},
   "source": [
    "## Placholder title"
   ]
  },
  {
   "cell_type": "markdown",
   "metadata": {},
   "source": [
    "It is possible to split the channels, store them separately and work on them separately."
   ]
  },
  {
   "cell_type": "code",
   "execution_count": 11,
   "metadata": {},
   "outputs": [],
   "source": [
    "img = cv2.imread(\"samples/landscape.jpeg\")\n",
    "b, g, r = cv2.split(img)\n",
    "reconstruct = cv2.merge((b, g ,r))\n",
    "\n",
    "cv2.imshow(\"Red channel\", r)    #note how this actually gives only a single channel, and thus a greyscale image\n",
    "cv2.waitKey(0)\n",
    "cv2.destroyAllWindows()"
   ]
  },
  {
   "cell_type": "code",
   "execution_count": 12,
   "metadata": {},
   "outputs": [],
   "source": [
    "#An alternative approach\n",
    "\n",
    "cv2.imshow(\"Red channel\", img[:, :, 2])\n",
    "cv2.waitKey(0)\n",
    "cv2.destroyAllWindows()"
   ]
  },
  {
   "cell_type": "code",
   "execution_count": 15,
   "metadata": {},
   "outputs": [],
   "source": [
    "#Some manipulation\n",
    "\n",
    "img[:, :, 0:2] = 0\n",
    "cv2.imshow(\"Red channel\", img)\n",
    "cv2.waitKey(0)\n",
    "cv2.destroyAllWindows()"
   ]
  }
 ],
 "metadata": {
  "kernelspec": {
   "display_name": "ailab",
   "language": "python",
   "name": "python3"
  },
  "language_info": {
   "codemirror_mode": {
    "name": "ipython",
    "version": 3
   },
   "file_extension": ".py",
   "mimetype": "text/x-python",
   "name": "python",
   "nbconvert_exporter": "python",
   "pygments_lexer": "ipython3",
   "version": "3.10.13"
  }
 },
 "nbformat": 4,
 "nbformat_minor": 2
}
