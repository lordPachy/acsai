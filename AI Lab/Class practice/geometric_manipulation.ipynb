{
 "cells": [
  {
   "cell_type": "markdown",
   "metadata": {},
   "source": [
    "# Geometric manipulation"
   ]
  },
  {
   "cell_type": "markdown",
   "metadata": {},
   "source": [
    "## Upscaling and resizing\n",
    "\n",
    "It is possible to upscale, downscale and stretch images with OpenCV."
   ]
  },
  {
   "cell_type": "code",
   "execution_count": 1,
   "metadata": {},
   "outputs": [],
   "source": [
    "import cv2\n",
    "\n",
    "img = cv2.imread(\"samples/tree.png\")\n",
    "img = cv2.resize(img, (img.shape[1]//2, img.shape[0]//2))\n",
    "cv2.imshow(\"Downscaled image\", img)\n",
    "cv2.waitKey(0)\n",
    "cv2.destroyAllWindows()"
   ]
  },
  {
   "cell_type": "code",
   "execution_count": 2,
   "metadata": {},
   "outputs": [],
   "source": [
    "stretched_img = cv2.resize(img, None, None, fx=3, fy=0.5)\n",
    "cv2.imshow(\"Stretched image\", stretched_img)\n",
    "cv2.waitKey(0)\n",
    "cv2.destroyAllWindows()"
   ]
  },
  {
   "cell_type": "markdown",
   "metadata": {},
   "source": [
    "It is also possible to express the desired manipulation through a matrix:"
   ]
  },
  {
   "cell_type": "code",
   "execution_count": 3,
   "metadata": {},
   "outputs": [],
   "source": [
    "import numpy as np\n",
    "\n",
    "M = np.float32([[0, 1, 0],\n",
    "              [1, 0, 0]])\n",
    "stretched_img = cv2.warpAffine(img, M, img.shape[:-1])\n",
    "cv2.imshow(\"Stretched image\", stretched_img)\n",
    "cv2.waitKey(0)\n",
    "cv2.destroyAllWindows()"
   ]
  },
  {
   "cell_type": "markdown",
   "metadata": {},
   "source": [
    "## Rotation"
   ]
  },
  {
   "cell_type": "code",
   "execution_count": 7,
   "metadata": {},
   "outputs": [],
   "source": [
    "rows, cols = img.shape[0], img.shape[1]\n",
    "R = cv2.getRotationMatrix2D((cols//2, rows//2), 30, 1)\n",
    "rotated_img = cv2.warpAffine(img, R, (cols, rows))\n",
    "cv2.imshow(\"Rotated image\", rotated_img)\n",
    "cv2.waitKey(0)\n",
    "cv2.destroyAllWindows()"
   ]
  },
  {
   "cell_type": "markdown",
   "metadata": {},
   "source": [
    "## A panorama function"
   ]
  },
  {
   "cell_type": "code",
   "execution_count": 10,
   "metadata": {},
   "outputs": [
    {
     "name": "stdout",
     "output_type": "stream",
     "text": [
      "[[ 1.          0.08108108 -3.64864865]\n",
      " [ 0.          1.          0.        ]]\n"
     ]
    }
   ],
   "source": [
    "pts_1 = np.float32([[135, 45],\n",
    "                    [385, 45],\n",
    "                    [135, 230]])\n",
    "\n",
    "pts_2 = np.float32([[135, 45],\n",
    "                    [385, 45],\n",
    "                    [150, 230]])\n",
    "\n",
    "M = cv2.getAffineTransform(pts_1, pts_2)    #this is an affine transformation that, given the first\n",
    "                                            #set of points, returns the second one\n",
    "panorama = cv2.warpAffine(pts_1, M, (800, 800))\n",
    "print(M)\n",
    "#cv2.imshow(\"Chosen set of points\", panorama)\n",
    "#cv2.waitKey(0)\n",
    "#cv2.destroyAllWindows()"
   ]
  }
 ],
 "metadata": {
  "kernelspec": {
   "display_name": "ailab",
   "language": "python",
   "name": "python3"
  },
  "language_info": {
   "codemirror_mode": {
    "name": "ipython",
    "version": 3
   },
   "file_extension": ".py",
   "mimetype": "text/x-python",
   "name": "python",
   "nbconvert_exporter": "python",
   "pygments_lexer": "ipython3",
   "version": "3.10.13"
  }
 },
 "nbformat": 4,
 "nbformat_minor": 2
}
