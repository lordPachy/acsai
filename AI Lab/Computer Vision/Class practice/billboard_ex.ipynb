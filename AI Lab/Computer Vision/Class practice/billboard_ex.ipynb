{
 "cells": [
  {
   "cell_type": "markdown",
   "metadata": {},
   "source": [
    "# Billboard exercise"
   ]
  },
  {
   "cell_type": "code",
   "execution_count": 1,
   "metadata": {},
   "outputs": [],
   "source": [
    "import numpy as np\n",
    "import cv2"
   ]
  },
  {
   "cell_type": "markdown",
   "metadata": {},
   "source": [
    "Load the two images:"
   ]
  },
  {
   "cell_type": "code",
   "execution_count": 2,
   "metadata": {},
   "outputs": [],
   "source": [
    "base_img = cv2.imread(\"samples/billboard.jpg\")\n",
    "base_img = cv2.resize(base_img, dsize=[1920, 1080], dst=None)\n",
    "img_copy = base_img.copy()\n",
    "img2 = cv2.imread(\"samples/landscape.jpeg\")"
   ]
  },
  {
   "cell_type": "markdown",
   "metadata": {},
   "source": [
    "Now, we can get the image data:"
   ]
  },
  {
   "cell_type": "code",
   "execution_count": 3,
   "metadata": {},
   "outputs": [],
   "source": [
    "base_h, base_w = base_img.shape[:2]\n",
    "img2_h, img2_w = img2.shape[:2]"
   ]
  },
  {
   "cell_type": "markdown",
   "metadata": {},
   "source": [
    "We can create source and destination points."
   ]
  },
  {
   "cell_type": "code",
   "execution_count": 4,
   "metadata": {},
   "outputs": [],
   "source": [
    "src_points = np.array([\n",
    "    [0, 0],\n",
    "    [0, img2_h],\n",
    "    [img2_w, img2_h],\n",
    "    [img2_w, 0]\n",
    "], dtype=np.float32)\n",
    "\n",
    "dst_points = []     #this will be filled with the clicks of the mouse"
   ]
  },
  {
   "cell_type": "markdown",
   "metadata": {},
   "source": [
    "We have to define the window for getting the points:"
   ]
  },
  {
   "cell_type": "code",
   "execution_count": 5,
   "metadata": {},
   "outputs": [],
   "source": [
    "def onClick(event, x, y, flags, param):\n",
    "    if event == cv2.EVENT_LBUTTONDOWN:\n",
    "        if len(dst_points) < 4:\n",
    "            dst_points.append([x, y])\n",
    "            cv2.circle(img_copy, (x, y), 50, (0, 0, 255), -1)\n",
    "            cv2.imshow(\"Base image\", img_copy)"
   ]
  },
  {
   "cell_type": "code",
   "execution_count": 6,
   "metadata": {},
   "outputs": [],
   "source": [
    "cv2.namedWindow(\"Base image\", cv2.WINDOW_KEEPRATIO)\n",
    "cv2.setMouseCallback(\"Base image\", onClick)"
   ]
  },
  {
   "cell_type": "markdown",
   "metadata": {},
   "source": [
    "Show the image in order to be clicked:"
   ]
  },
  {
   "cell_type": "code",
   "execution_count": 7,
   "metadata": {},
   "outputs": [],
   "source": [
    "cv2.imshow(\"Base image\", base_img)\n",
    "cv2.waitKey(0)\n",
    "cv2.destroyAllWindows()"
   ]
  },
  {
   "cell_type": "markdown",
   "metadata": {},
   "source": [
    "Get the homography matrix:"
   ]
  },
  {
   "cell_type": "code",
   "execution_count": 8,
   "metadata": {},
   "outputs": [],
   "source": [
    "dst_float = np.array(dst_points, dtype = np.float32)    #the transformation can only happen with floats!\n",
    "H = cv2.getPerspectiveTransform(src_points, dst_float)"
   ]
  },
  {
   "cell_type": "markdown",
   "metadata": {},
   "source": [
    "Apply the homography matrix to the image angles:"
   ]
  },
  {
   "cell_type": "code",
   "execution_count": 9,
   "metadata": {},
   "outputs": [],
   "source": [
    "warped = cv2.warpPerspective(img2, H, (base_w, base_h))\n",
    "cv2.imshow(\"Warped image\", warped)\n",
    "cv2.waitKey(0)\n",
    "cv2.destroyAllWindows()"
   ]
  },
  {
   "cell_type": "markdown",
   "metadata": {},
   "source": [
    "A mask can be employed to drop black pixels from the warped image. This is because the warped image contains black in all its parts that are not occupied by the warped one."
   ]
  },
  {
   "cell_type": "code",
   "execution_count": 10,
   "metadata": {},
   "outputs": [],
   "source": [
    "mask = np.zeros(base_img.shape, dtype=np.uint8)\n",
    "cv2.fillConvexPoly(mask, np.int32(dst_float), (255, 255, 255))    #this is black except for the warped portion\n",
    "mask = cv2.bitwise_not(mask)\n",
    "masked_bill = cv2.bitwise_and(base_img, mask)           #this makes the billboard black\n",
    "final_img = cv2.bitwise_or(masked_bill, warped)         #ORing the billboard and the warped image"
   ]
  },
  {
   "cell_type": "code",
   "execution_count": 11,
   "metadata": {},
   "outputs": [
    {
     "data": {
      "text/plain": [
       "True"
      ]
     },
     "execution_count": 11,
     "metadata": {},
     "output_type": "execute_result"
    }
   ],
   "source": [
    "cv2.namedWindow(\"Final image\", cv2.WINDOW_KEEPRATIO)\n",
    "cv2.imshow(\"Final image\", final_img)\n",
    "cv2.waitKey(0)\n",
    "cv2.destroyAllWindows()"
   ]
  }
 ],
 "metadata": {
  "kernelspec": {
   "display_name": "ai_lab-aGYZY7pK-py3.12",
   "language": "python",
   "name": "python3"
  },
  "language_info": {
   "codemirror_mode": {
    "name": "ipython",
    "version": 3
   },
   "file_extension": ".py",
   "mimetype": "text/x-python",
   "name": "python",
   "nbconvert_exporter": "python",
   "pygments_lexer": "ipython3",
   "version": "3.12.2"
  }
 },
 "nbformat": 4,
 "nbformat_minor": 2
}
