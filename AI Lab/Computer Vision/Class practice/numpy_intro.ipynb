{
 "cells": [
  {
   "cell_type": "markdown",
   "metadata": {},
   "source": [
    "# Numpy introduction\n",
    "\n",
    "## Numpy arrays\n",
    "\n",
    "There are multiple ways of creating numpy arrays:\n",
    "- from a list\n",
    "- from scratch"
   ]
  },
  {
   "cell_type": "code",
   "execution_count": 2,
   "metadata": {},
   "outputs": [
    {
     "name": "stdout",
     "output_type": "stream",
     "text": [
      "[1, 2, 3, 4]\n",
      "[1 2 3 4]\n",
      "[2 3 4 5]\n"
     ]
    }
   ],
   "source": [
    "import numpy as np\n",
    "\n",
    "mylist = [1,2,3,4]\n",
    "np_list = np.array(mylist)\n",
    "alt_np_list = np.array([2,3,4,5])\n",
    "\n",
    "print(mylist)\n",
    "print(np_list)\n",
    "print(alt_np_list)\n"
   ]
  },
  {
   "cell_type": "markdown",
   "metadata": {},
   "source": [
    "In NumPy arrays, all data must be of the same type. If we try to mix types, some will get upcast (for example, integer get upcast to floats):"
   ]
  },
  {
   "cell_type": "code",
   "execution_count": 3,
   "metadata": {},
   "outputs": [
    {
     "name": "stdout",
     "output_type": "stream",
     "text": [
      "[1.1, 2, 3, 4]\n",
      "[1.1 2.  3.  4. ]\n"
     ]
    }
   ],
   "source": [
    "import numpy as np\n",
    "\n",
    "mylist = [1.1,2,3,4]\n",
    "np_list = np.array(mylist)\n",
    "\n",
    "print(mylist)\n",
    "print(np_list)\n"
   ]
  },
  {
   "cell_type": "markdown",
   "metadata": {},
   "source": [
    "It is also possible to explicitly declarate the type:"
   ]
  },
  {
   "cell_type": "code",
   "execution_count": 4,
   "metadata": {},
   "outputs": [
    {
     "name": "stdout",
     "output_type": "stream",
     "text": [
      "[1 2 3 4]\n"
     ]
    }
   ],
   "source": [
    "typeList = np.array([1, 2, 3, 4], dtype=\"int8\") #note that these are without sign\n",
    "print(typeList)"
   ]
  },
  {
   "cell_type": "markdown",
   "metadata": {},
   "source": [
    "We can create multidimensional arrays (and note the list comprehension syntax):"
   ]
  },
  {
   "cell_type": "code",
   "execution_count": 5,
   "metadata": {},
   "outputs": [
    {
     "name": "stdout",
     "output_type": "stream",
     "text": [
      "[2 3 6]\n"
     ]
    }
   ],
   "source": [
    "np_list = np.array([i for i in [2, 3, 6]])\n",
    "print(np_list)"
   ]
  },
  {
   "cell_type": "code",
   "execution_count": 6,
   "metadata": {},
   "outputs": [
    {
     "name": "stdout",
     "output_type": "stream",
     "text": [
      "[0 0 0 0 0 0 0 0 0 0]\n",
      "[[[1 1 1 1 1 1]\n",
      "  [1 1 1 1 1 1]\n",
      "  [1 1 1 1 1 1]]\n",
      "\n",
      " [[1 1 1 1 1 1]\n",
      "  [1 1 1 1 1 1]\n",
      "  [1 1 1 1 1 1]]]\n"
     ]
    }
   ],
   "source": [
    "#A list of zeros and ones\n",
    "\n",
    "zeros = np.zeros(10, dtype=\"int8\")\n",
    "ones = np.ones((2, 3, 6), dtype=\"int8\")\n",
    "print(zeros)\n",
    "print(ones)"
   ]
  },
  {
   "cell_type": "code",
   "execution_count": 7,
   "metadata": {},
   "outputs": [
    {
     "name": "stdout",
     "output_type": "stream",
     "text": [
      "[[[3 3 3]\n",
      "  [3 3 3]\n",
      "  [3 3 3]]\n",
      "\n",
      " [[3 3 3]\n",
      "  [3 3 3]\n",
      "  [3 3 3]]]\n"
     ]
    }
   ],
   "source": [
    "#a list full of a single value\n",
    "mylist = np.full((2, 3, 3), 3)\n",
    "print(mylist)"
   ]
  },
  {
   "cell_type": "code",
   "execution_count": 8,
   "metadata": {},
   "outputs": [
    {
     "data": {
      "text/plain": [
       "array([ 0,  2,  4,  6,  8, 10, 12, 14, 16, 18])"
      ]
     },
     "execution_count": 8,
     "metadata": {},
     "output_type": "execute_result"
    }
   ],
   "source": [
    "#this works exactly like python\n",
    "np.arange(0, 20, 2)"
   ]
  },
  {
   "cell_type": "code",
   "execution_count": 9,
   "metadata": {},
   "outputs": [
    {
     "name": "stdout",
     "output_type": "stream",
     "text": [
      "[0.   0.25 0.5  0.75 1.  ]\n"
     ]
    }
   ],
   "source": [
    "#this splits the range into even parts\n",
    "mylist = np.linspace(0, 1, 5)\n",
    "print(mylist)"
   ]
  },
  {
   "cell_type": "markdown",
   "metadata": {},
   "source": [
    "NumPy supports also various kind of randomness. For example, you can choose numbers according to certain distributions."
   ]
  },
  {
   "cell_type": "code",
   "execution_count": 10,
   "metadata": {},
   "outputs": [
    {
     "name": "stdout",
     "output_type": "stream",
     "text": [
      "[0.61614433 0.25635162 0.29913193]\n"
     ]
    }
   ],
   "source": [
    "mylist = np.random.random(3)\n",
    "print(mylist)"
   ]
  },
  {
   "cell_type": "code",
   "execution_count": 11,
   "metadata": {},
   "outputs": [
    {
     "name": "stdout",
     "output_type": "stream",
     "text": [
      "[[[ 4.39307567  1.53667313]\n",
      "  [-0.17654921  2.74499171]]\n",
      "\n",
      " [[-1.72326525 -5.2761079 ]\n",
      "  [ 1.52376932  1.68048304]]]\n"
     ]
    }
   ],
   "source": [
    "mylist = np.random.normal(0, 2, (2, 2, 2))\n",
    "print(mylist)"
   ]
  },
  {
   "cell_type": "code",
   "execution_count": 12,
   "metadata": {},
   "outputs": [
    {
     "name": "stdout",
     "output_type": "stream",
     "text": [
      "[4 9 1 8 0]\n"
     ]
    }
   ],
   "source": [
    "mylist = np.random.randint(0, 10, 5)\n",
    "print(mylist)"
   ]
  },
  {
   "cell_type": "markdown",
   "metadata": {},
   "source": [
    "NumPy has also some shortcuts to create notable matrices."
   ]
  },
  {
   "cell_type": "code",
   "execution_count": 13,
   "metadata": {},
   "outputs": [
    {
     "name": "stdout",
     "output_type": "stream",
     "text": [
      "[[1. 0. 0. 0. 0.]\n",
      " [0. 1. 0. 0. 0.]\n",
      " [0. 0. 1. 0. 0.]\n",
      " [0. 0. 0. 1. 0.]\n",
      " [0. 0. 0. 0. 1.]]\n"
     ]
    }
   ],
   "source": [
    "#Identity\n",
    "mylist = np.eye(5)\n",
    "print(mylist)"
   ]
  },
  {
   "cell_type": "code",
   "execution_count": 14,
   "metadata": {},
   "outputs": [
    {
     "name": "stdout",
     "output_type": "stream",
     "text": [
      "[0.61614433 0.25635162 0.29913193]\n"
     ]
    }
   ],
   "source": [
    "#Undeclared matrix: values are whatever is found in memory\n",
    "mylist = np.empty(3)\n",
    "print(mylist)"
   ]
  },
  {
   "cell_type": "markdown",
   "metadata": {},
   "source": [
    "Each NumPy array has 4 important values:\n",
    "* number of dimensions (`ndim`)\n",
    "* elements in each dimension (`shape`)\n",
    "* total number of entries (`size`)\n",
    "* type of the array (`dytpe`)"
   ]
  },
  {
   "cell_type": "code",
   "execution_count": 15,
   "metadata": {},
   "outputs": [
    {
     "name": "stdout",
     "output_type": "stream",
     "text": [
      "[[[3 5 9]\n",
      "  [6 6 7]\n",
      "  [8 7 4]\n",
      "  [5 6 8]\n",
      "  [3 2 6]]\n",
      "\n",
      " [[2 6 8]\n",
      "  [6 5 8]\n",
      "  [2 2 0]\n",
      "  [3 2 7]\n",
      "  [7 7 2]]\n",
      "\n",
      " [[3 2 5]\n",
      "  [9 8 5]\n",
      "  [8 4 2]\n",
      "  [7 7 4]\n",
      "  [9 9 6]]]\n",
      "array dimensions: \n",
      "3\n",
      "(3, 5, 3)\n",
      "45\n",
      "int64\n"
     ]
    }
   ],
   "source": [
    "img = np.random.randint(0, 10, (3,5,3))\n",
    "\n",
    "print(img)\n",
    "print(\"array dimensions: \")\n",
    "print(img.ndim)\n",
    "print(img.shape)\n",
    "print(img.size)\n",
    "print(img.dtype)"
   ]
  },
  {
   "cell_type": "markdown",
   "metadata": {},
   "source": [
    "Indexing is slightly different from standard Python (but is still supports negative indices):"
   ]
  },
  {
   "cell_type": "code",
   "execution_count": 16,
   "metadata": {},
   "outputs": [
    {
     "data": {
      "text/plain": [
       "0"
      ]
     },
     "execution_count": 16,
     "metadata": {},
     "output_type": "execute_result"
    }
   ],
   "source": [
    "img[1, 2, 2]"
   ]
  },
  {
   "cell_type": "markdown",
   "metadata": {},
   "source": [
    "Every time an array is printed, or assigned to a new variable, we are actually printing a **view** of the array.  \n",
    "The original array is not changed, but neither a copy is created.  \n",
    "Every change in the new variable is also applied to the original array.  \n",
    "An array can be copied with the `copy()` method."
   ]
  },
  {
   "cell_type": "code",
   "execution_count": 17,
   "metadata": {},
   "outputs": [
    {
     "name": "stdout",
     "output_type": "stream",
     "text": [
      "[[6 8 3]\n",
      " [9 4 3]\n",
      " [5 3 9]]\n",
      "[[8]]\n"
     ]
    }
   ],
   "source": [
    "#some practice with subindexing\n",
    "\n",
    "mylist = np.random.randint(0, 10, (3, 3))\n",
    "subarray = mylist[:1, 1:2]\n",
    "print(mylist)\n",
    "print(subarray)"
   ]
  },
  {
   "cell_type": "code",
   "execution_count": 18,
   "metadata": {},
   "outputs": [
    {
     "name": "stdout",
     "output_type": "stream",
     "text": [
      "[3 3 9]\n",
      "(array([6, 8, 3]),)\n"
     ]
    }
   ],
   "source": [
    "col = mylist[:, 2]  #this is an entire column, the third\n",
    "print(col)\n",
    "row = mylist[0, :], #this is an entire row, the first\n",
    "print(row)"
   ]
  },
  {
   "cell_type": "code",
   "execution_count": 19,
   "metadata": {},
   "outputs": [
    {
     "data": {
      "text/plain": [
       "1"
      ]
     },
     "execution_count": 19,
     "metadata": {},
     "output_type": "execute_result"
    }
   ],
   "source": [
    "col.ndim"
   ]
  },
  {
   "cell_type": "markdown",
   "metadata": {},
   "source": [
    "It is possible to change the distribution of elements in an array through **reshaping**:"
   ]
  },
  {
   "cell_type": "code",
   "execution_count": 26,
   "metadata": {},
   "outputs": [
    {
     "data": {
      "text/plain": [
       "array([[[ 0,  1,  2,  3,  4,  5,  6,  7,  8],\n",
       "        [ 9, 10, 11, 12, 13, 14, 15, 16, 17],\n",
       "        [18, 19, 20, 21, 22, 23, 24, 25, 26]]])"
      ]
     },
     "execution_count": 26,
     "metadata": {},
     "output_type": "execute_result"
    }
   ],
   "source": [
    "a = np.arange(27)\n",
    "a.reshape(1, 3, 9)"
   ]
  },
  {
   "cell_type": "code",
   "execution_count": 31,
   "metadata": {},
   "outputs": [
    {
     "name": "stdout",
     "output_type": "stream",
     "text": [
      "[ 0  1  2  3  4  5  6  7  8  9 10 11 12 13 14 15 16 17 18 19 20 21 22 23\n",
      " 24 25 26]\n",
      "[ 0  1  2  3  4  5  6  7  8  9 10 11 12 13 14 15 16 17 18 19 20 21 22 23\n",
      " 24 25 26]\n",
      "[[[[ 0  1  2  3  4  5  6  7  8  9 10 11 12 13 14 15 16 17 18 19 20 21\n",
      "    22 23 24 25 26]]]]\n"
     ]
    }
   ],
   "source": [
    "a.reshape(9, 3, 1)\n",
    "print(a) #note how reshape does not affect the original tensor\n",
    "print(a.reshape(27))\n",
    "print(a.reshape(1, 1, 1, 27)) #difference: vector vs 4-d tensor"
   ]
  },
  {
   "cell_type": "code",
   "execution_count": 33,
   "metadata": {},
   "outputs": [
    {
     "name": "stdout",
     "output_type": "stream",
     "text": [
      "1\n",
      "3\n",
      "9\n"
     ]
    }
   ],
   "source": [
    "a = a.reshape(1, 3, 9)\n",
    "print(a.shape[0])\n",
    "print(a.shape[1])\n",
    "print(a.shape[2])"
   ]
  },
  {
   "cell_type": "markdown",
   "metadata": {},
   "source": [
    "To expand a tensor in a new dimension, there is the dedicated operation `np.newaxis`:"
   ]
  },
  {
   "cell_type": "code",
   "execution_count": 36,
   "metadata": {},
   "outputs": [
    {
     "name": "stdout",
     "output_type": "stream",
     "text": [
      "[[ 0  1  2  3  4  5  6  7  8  9 10 11 12 13 14 15 16 17 18 19 20 21 22 23\n",
      "  24 25 26]]\n"
     ]
    }
   ],
   "source": [
    "a = a.reshape(27)\n",
    "a = a[np.newaxis, :]\n",
    "print(a)"
   ]
  },
  {
   "cell_type": "code",
   "execution_count": 39,
   "metadata": {},
   "outputs": [
    {
     "name": "stdout",
     "output_type": "stream",
     "text": [
      "[[[ 0  1  2  3  4  5  6  7  8]\n",
      "  [ 9 10 11 12 13 14 15 16 17]\n",
      "  [18 19 20 21 22 23 24 25 26]]]\n",
      "[[[[ 0]\n",
      "   [ 1]\n",
      "   [ 2]\n",
      "   [ 3]\n",
      "   [ 4]\n",
      "   [ 5]\n",
      "   [ 6]\n",
      "   [ 7]\n",
      "   [ 8]]\n",
      "\n",
      "  [[ 9]\n",
      "   [10]\n",
      "   [11]\n",
      "   [12]\n",
      "   [13]\n",
      "   [14]\n",
      "   [15]\n",
      "   [16]\n",
      "   [17]]\n",
      "\n",
      "  [[18]\n",
      "   [19]\n",
      "   [20]\n",
      "   [21]\n",
      "   [22]\n",
      "   [23]\n",
      "   [24]\n",
      "   [25]\n",
      "   [26]]]]\n"
     ]
    }
   ],
   "source": [
    "a = a.reshape(1, 3, 9)\n",
    "print(a)\n",
    "a = a[:, :, :, np.newaxis]\n",
    "print(a)"
   ]
  },
  {
   "cell_type": "markdown",
   "metadata": {},
   "source": [
    "## Operations on multiple tensors"
   ]
  },
  {
   "cell_type": "code",
   "execution_count": 45,
   "metadata": {},
   "outputs": [
    {
     "name": "stdout",
     "output_type": "stream",
     "text": [
      "[1 2 3 4 5 6]\n",
      "[[1 2 3]\n",
      " [4 5 6]]\n",
      "[1 2 3 4 5 6]\n"
     ]
    }
   ],
   "source": [
    "a = np.array([1, 2, 3])\n",
    "b = np.array([4, 5, 6])\n",
    "c = np.concatenate([a, b])\n",
    "print(c)\n",
    "d = np.vstack([a, b])       #this requires the two arrays to have the same number of columns\n",
    "print(d)\n",
    "e = np.hstack([a, b])\n",
    "print(e)"
   ]
  },
  {
   "cell_type": "code",
   "execution_count": 50,
   "metadata": {},
   "outputs": [
    {
     "name": "stdout",
     "output_type": "stream",
     "text": [
      "[[1]\n",
      " [2]\n",
      " [3]]\n"
     ]
    },
    {
     "data": {
      "text/plain": [
       "array([[1, 4],\n",
       "       [2, 5],\n",
       "       [3, 6]])"
      ]
     },
     "execution_count": 50,
     "metadata": {},
     "output_type": "execute_result"
    }
   ],
   "source": [
    "a = a[:, np.newaxis]\n",
    "print(a)\n",
    "b = b[:, np.newaxis]\n",
    "np.hstack([a, b])"
   ]
  },
  {
   "cell_type": "code",
   "execution_count": 63,
   "metadata": {},
   "outputs": [
    {
     "name": "stdout",
     "output_type": "stream",
     "text": [
      "[[2 2 2]\n",
      " [7 5 6]\n",
      " [8 5 3]]\n",
      "[[1 9 7]\n",
      " [9 0 9]\n",
      " [0 9 5]]\n",
      "[[[2 1]\n",
      "  [2 9]\n",
      "  [2 7]]\n",
      "\n",
      " [[7 9]\n",
      "  [5 0]\n",
      "  [6 9]]\n",
      "\n",
      " [[8 0]\n",
      "  [5 9]\n",
      "  [3 5]]]\n",
      "(3, 3, 2)\n"
     ]
    }
   ],
   "source": [
    "a = np.random.randint(0, 10, (3, 3))\n",
    "print(a)\n",
    "b = np.random.randint(0, 10, (3, 3))\n",
    "print(b)\n",
    "c = np.dstack([a, b])\n",
    "print(c)\n",
    "print(c.shape)    #this allows stacking in a third dimension"
   ]
  },
  {
   "cell_type": "code",
   "execution_count": 66,
   "metadata": {},
   "outputs": [
    {
     "name": "stdout",
     "output_type": "stream",
     "text": [
      "[[ 0  1  2  3]\n",
      " [ 4  5  6  7]\n",
      " [ 8  9 10 11]\n",
      " [12 13 14 15]]\n",
      "[[ 0]\n",
      " [ 4]\n",
      " [ 8]\n",
      " [12]]\n",
      "[[ 1  2]\n",
      " [ 5  6]\n",
      " [ 9 10]\n",
      " [13 14]]\n",
      "[[ 3]\n",
      " [ 7]\n",
      " [11]\n",
      " [15]]\n"
     ]
    }
   ],
   "source": [
    "#Multiple splitting\n",
    "\n",
    "a = np.arange(16).reshape((4, 4))\n",
    "upper, intermediate, lower = np.hsplit(a, [1, 3])\n",
    "print(a)\n",
    "print(upper)\n",
    "print(intermediate)\n",
    "print(lower)"
   ]
  },
  {
   "cell_type": "markdown",
   "metadata": {},
   "source": [
    "## UFunc\n",
    "\n",
    "A way of speeding up vectorized operations. It exploits parallelization of the code. They appear as normal, simple operations, but actually they are wrappers for fast functions implemented by NumPy."
   ]
  },
  {
   "cell_type": "code",
   "execution_count": 78,
   "metadata": {},
   "outputs": [
    {
     "name": "stdout",
     "output_type": "stream",
     "text": [
      "[0.02222222 0.02083333 0.01538462 ... 0.04166667 0.02857143 0.02083333]\n",
      "Regular Python time:\n",
      "21.27959632873535\n",
      "[0.02222222 0.02083333 0.01538462 ... 0.04166667 0.02857143 0.02083333]\n",
      "UFunc time:\n",
      "0.037723541259765625\n"
     ]
    }
   ],
   "source": [
    "np.random.seed(0)  #at every execution of the program, this returns always the same random numbers\n",
    "\n",
    "import time\n",
    "\n",
    "def compute_reciprocals(values):\n",
    "    output = np.empty(len(values))\n",
    "    for i in range(len(values)):\n",
    "        output[i] = 1.0/values[i]\n",
    "    return output\n",
    "\n",
    "values = np.random.randint(1, 100, size=10000000)\n",
    "start_time = time.time()\n",
    "out = compute_reciprocals(values)\n",
    "end_time = time.time()\n",
    "print(out)\n",
    "print(\"Regular Python time:\")\n",
    "print(end_time - start_time)\n",
    "\n",
    "start_time = time.time()\n",
    "out = 1.0/values\n",
    "end_time = time.time()\n",
    "print(out)\n",
    "print(\"UFunc time:\")\n",
    "print(end_time - start_time)"
   ]
  }
 ],
 "metadata": {
  "kernelspec": {
   "display_name": "ailab",
   "language": "python",
   "name": "python3"
  },
  "language_info": {
   "codemirror_mode": {
    "name": "ipython",
    "version": 3
   },
   "file_extension": ".py",
   "mimetype": "text/x-python",
   "name": "python",
   "nbconvert_exporter": "python",
   "pygments_lexer": "ipython3",
   "version": "3.10.13"
  }
 },
 "nbformat": 4,
 "nbformat_minor": 2
}
