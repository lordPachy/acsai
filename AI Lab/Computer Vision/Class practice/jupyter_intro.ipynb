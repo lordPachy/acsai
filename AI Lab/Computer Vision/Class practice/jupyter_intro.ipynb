{
 "cells": [
  {
   "cell_type": "markdown",
   "metadata": {},
   "source": [
    "# Introduction to Jupyter Notebooks"
   ]
  },
  {
   "cell_type": "markdown",
   "metadata": {},
   "source": [
    "## Some useful keybindings\n",
    "\n",
    "- y: convert to code cells\n",
    "- m: convert to markdown cells\n",
    "- a: insert cell above\n",
    "- b: insert cell below\n"
   ]
  },
  {
   "cell_type": "markdown",
   "metadata": {},
   "source": [
    "## Some markdown shortcuts\n",
    "\n",
    "- #, ##, ### for titles\n",
    "- \"-\" or \".\" for lists\n",
    "- *italics*, **bold**, ***bold italics***, `monospace`\n",
    "- $\\LaTeX$ works as well with $ sign"
   ]
  },
  {
   "cell_type": "code",
   "execution_count": 6,
   "metadata": {},
   "outputs": [
    {
     "name": "stdout",
     "output_type": "stream",
     "text": [
      "You can even write and execute Python code!\n"
     ]
    }
   ],
   "source": [
    "print(\"You can even write and execute Python code!\")"
   ]
  },
  {
   "cell_type": "markdown",
   "metadata": {},
   "source": [
    "It is possible to export .ipynb files in pdf, html and other various files."
   ]
  }
 ],
 "metadata": {
  "kernelspec": {
   "display_name": "ailab",
   "language": "python",
   "name": "python3"
  },
  "language_info": {
   "codemirror_mode": {
    "name": "ipython",
    "version": 3
   },
   "file_extension": ".py",
   "mimetype": "text/x-python",
   "name": "python",
   "nbconvert_exporter": "python",
   "pygments_lexer": "ipython3",
   "version": "3.10.13"
  }
 },
 "nbformat": 4,
 "nbformat_minor": 2
}
