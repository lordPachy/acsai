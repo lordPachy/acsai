{
  "cells": [
    {
      "cell_type": "markdown",
      "metadata": {},
      "source": [
        "[![Open In Colab](https://colab.research.google.com/assets/colab-badge.svg)](https://colab.research.google.com/github/accdavlo/calcolo-scientifico/blob/main/codes/FEM_with_FEniCS.ipynb)"
      ]
    },
    {
      "cell_type": "markdown",
      "metadata": {
        "id": "_xheLV9C9i_u"
      },
      "source": [
        "# Finite element with FEniCS\n",
        "In this notebook we will use the FEniCS library to solve the Poisson problem in 2D con complex geometries.\n",
        "\n",
        "[FEniCS project](https://fenicsproject.org/) is a Finite element library which allows to use a very high level language to define complex problems, helping mathematicians getting quickly done with their ideas.\n",
        "Lately the developers of FEniCS have moved to the new version FEniCSx, but we will use the old one, where some functions are of simpler use.\n",
        "\n",
        "So, be careful when you install it on your laptop: choose the right version! FEniCS 2018 has also compatibility with `mshr` a library that allows to generate meshes in python. We will stick to this combo.\n",
        "\n",
        "In Google Colab, Francesco Ballarin has developed a library [FEM on Colab](https://fem-on-colab.github.io/) that allows to quickly install the packages on Google remote servers. We will use it in the next cell.\n",
        "Still, this is highly discouraged for local computers. It might work, but you have less control on your installation!\n",
        "\n"
      ]
    },
    {
      "cell_type": "code",
      "execution_count": 1,
      "metadata": {
        "colab": {
          "base_uri": "https://localhost:8080/"
        },
        "id": "EoN4qqXx-qS5",
        "outputId": "0a7440e6-d969-4558-f6e1-d21411f3df9d"
      },
      "outputs": [
        {
          "name": "stdout",
          "output_type": "stream",
          "text": [
            "--2025-04-04 17:45:53--  https://fem-on-colab.github.io/releases/fenics-install-release-real.sh\n",
            "Resolving fem-on-colab.github.io (fem-on-colab.github.io)... 185.199.110.153, 185.199.111.153, 185.199.108.153, ...\n",
            "Connecting to fem-on-colab.github.io (fem-on-colab.github.io)|185.199.110.153|:443... connected.\n",
            "HTTP request sent, awaiting response... 200 OK\n",
            "Length: 4180 (4.1K) [application/x-sh]\n",
            "Saving to: ‘/tmp/fenics-install.sh’\n",
            "\n",
            "/tmp/fenics-install 100%[===================>]   4.08K  --.-KB/s    in 0s      \n",
            "\n",
            "2025-04-04 17:45:53 (26.5 MB/s) - ‘/tmp/fenics-install.sh’ saved [4180/4180]\n",
            "\n",
            "+ INSTALL_PREFIX=/usr/local\n",
            "++ echo /usr/local\n",
            "++ awk -F/ '{print NF-1}'\n",
            "+ INSTALL_PREFIX_DEPTH=2\n",
            "+ PROJECT_NAME=fem-on-colab\n",
            "+ SHARE_PREFIX=/usr/local/share/fem-on-colab\n",
            "+ FENICS_INSTALLED=/usr/local/share/fem-on-colab/fenics.installed\n",
            "+ [[ ! -f /usr/local/share/fem-on-colab/fenics.installed ]]\n",
            "+ PYBIND11_INSTALL_SCRIPT_PATH=https://github.com/fem-on-colab/fem-on-colab.github.io/raw/1f33a7ab/releases/pybind11-install.sh\n",
            "+ [[ https://github.com/fem-on-colab/fem-on-colab.github.io/raw/1f33a7ab/releases/pybind11-install.sh == http* ]]\n",
            "+ PYBIND11_INSTALL_SCRIPT_DOWNLOAD=https://github.com/fem-on-colab/fem-on-colab.github.io/raw/1f33a7ab/releases/pybind11-install.sh\n",
            "+ PYBIND11_INSTALL_SCRIPT_PATH=/tmp/pybind11-install.sh\n",
            "+ [[ ! -f /tmp/pybind11-install.sh ]]\n",
            "+ source /tmp/pybind11-install.sh\n",
            "++ set -e\n",
            "++ set -x\n",
            "++ INSTALL_PREFIX=/usr/local\n",
            "+++ echo /usr/local\n",
            "+++ awk -F/ '{print NF-1}'\n",
            "++ INSTALL_PREFIX_DEPTH=2\n",
            "++ PROJECT_NAME=fem-on-colab\n",
            "++ SHARE_PREFIX=/usr/local/share/fem-on-colab\n",
            "++ PYBIND11_INSTALLED=/usr/local/share/fem-on-colab/pybind11.installed\n",
            "++ [[ ! -f /usr/local/share/fem-on-colab/pybind11.installed ]]\n",
            "++ MPI4PY_INSTALL_SCRIPT_PATH=https://github.com/fem-on-colab/fem-on-colab.github.io/raw/7d86719c/releases/mpi4py-install.sh\n",
            "++ [[ https://github.com/fem-on-colab/fem-on-colab.github.io/raw/7d86719c/releases/mpi4py-install.sh == http* ]]\n",
            "++ MPI4PY_INSTALL_SCRIPT_DOWNLOAD=https://github.com/fem-on-colab/fem-on-colab.github.io/raw/7d86719c/releases/mpi4py-install.sh\n",
            "++ MPI4PY_INSTALL_SCRIPT_PATH=/tmp/mpi4py-install.sh\n",
            "++ [[ ! -f /tmp/mpi4py-install.sh ]]\n",
            "++ source /tmp/mpi4py-install.sh\n",
            "+++ set -e\n",
            "+++ set -x\n",
            "+++ INSTALL_PREFIX=/usr/local\n",
            "++++ echo /usr/local\n",
            "++++ awk -F/ '{print NF-1}'\n",
            "+++ INSTALL_PREFIX_DEPTH=2\n",
            "+++ PROJECT_NAME=fem-on-colab\n",
            "+++ SHARE_PREFIX=/usr/local/share/fem-on-colab\n",
            "+++ MPI4PY_INSTALLED=/usr/local/share/fem-on-colab/mpi4py.installed\n",
            "+++ [[ ! -f /usr/local/share/fem-on-colab/mpi4py.installed ]]\n",
            "+++ GCC_INSTALL_SCRIPT_PATH=https://github.com/fem-on-colab/fem-on-colab.github.io/raw/5d7655f8/releases/gcc-install.sh\n",
            "+++ [[ https://github.com/fem-on-colab/fem-on-colab.github.io/raw/5d7655f8/releases/gcc-install.sh == http* ]]\n",
            "+++ GCC_INSTALL_SCRIPT_DOWNLOAD=https://github.com/fem-on-colab/fem-on-colab.github.io/raw/5d7655f8/releases/gcc-install.sh\n",
            "+++ GCC_INSTALL_SCRIPT_PATH=/tmp/gcc-install.sh\n",
            "+++ [[ ! -f /tmp/gcc-install.sh ]]\n",
            "+++ source /tmp/gcc-install.sh\n",
            "++++ set -e\n",
            "++++ set -x\n",
            "++++ INSTALL_PREFIX=/usr/local\n",
            "+++++ echo /usr/local\n",
            "+++++ awk -F/ '{print NF-1}'\n",
            "++++ INSTALL_PREFIX_DEPTH=2\n",
            "++++ PROJECT_NAME=fem-on-colab\n",
            "++++ SHARE_PREFIX=/usr/local/share/fem-on-colab\n",
            "++++ GCC_INSTALLED=/usr/local/share/fem-on-colab/gcc.installed\n",
            "++++ [[ ! -L /usr/local/lib64 ]]\n",
            "++++ [[ -e /usr/local/lib64 ]]\n",
            "++++ ln -s /usr/local/lib /usr/local/lib64\n",
            "ln: failed to create symbolic link '/usr/local/lib64': Permission denied\n"
          ]
        },
        {
          "ename": "ModuleNotFoundError",
          "evalue": "No module named 'dolfin'",
          "output_type": "error",
          "traceback": [
            "\u001b[31m---------------------------------------------------------------------------\u001b[39m",
            "\u001b[31mModuleNotFoundError\u001b[39m                       Traceback (most recent call last)",
            "\u001b[36mCell\u001b[39m\u001b[36m \u001b[39m\u001b[32mIn[1]\u001b[39m\u001b[32m, line 3\u001b[39m\n\u001b[32m      2\u001b[39m \u001b[38;5;28;01mtry\u001b[39;00m:\n\u001b[32m----> \u001b[39m\u001b[32m3\u001b[39m     \u001b[38;5;28;01mimport\u001b[39;00m\u001b[38;5;250m \u001b[39m\u001b[34;01mdolfin\u001b[39;00m\n\u001b[32m      4\u001b[39m \u001b[38;5;28;01mexcept\u001b[39;00m \u001b[38;5;167;01mImportError\u001b[39;00m:\n",
            "\u001b[31mModuleNotFoundError\u001b[39m: No module named 'dolfin'",
            "\nDuring handling of the above exception, another exception occurred:\n",
            "\u001b[31mModuleNotFoundError\u001b[39m                       Traceback (most recent call last)",
            "\u001b[36mCell\u001b[39m\u001b[36m \u001b[39m\u001b[32mIn[1]\u001b[39m\u001b[32m, line 6\u001b[39m\n\u001b[32m      4\u001b[39m \u001b[38;5;28;01mexcept\u001b[39;00m \u001b[38;5;167;01mImportError\u001b[39;00m:\n\u001b[32m      5\u001b[39m     get_ipython().system(\u001b[33m'\u001b[39m\u001b[33mwget \u001b[39m\u001b[33m\"\u001b[39m\u001b[33mhttps://fem-on-colab.github.io/releases/fenics-install-release-real.sh\u001b[39m\u001b[33m\"\u001b[39m\u001b[33m -O \u001b[39m\u001b[33m\"\u001b[39m\u001b[33m/tmp/fenics-install.sh\u001b[39m\u001b[33m\"\u001b[39m\u001b[33m && bash \u001b[39m\u001b[33m\"\u001b[39m\u001b[33m/tmp/fenics-install.sh\u001b[39m\u001b[33m\"\u001b[39m\u001b[33m'\u001b[39m)\n\u001b[32m----> \u001b[39m\u001b[32m6\u001b[39m     \u001b[38;5;28;01mimport\u001b[39;00m\u001b[38;5;250m \u001b[39m\u001b[34;01mdolfin\u001b[39;00m\n\u001b[32m      7\u001b[39m \u001b[38;5;28;01mfrom\u001b[39;00m\u001b[38;5;250m \u001b[39m\u001b[34;01mdolfin\u001b[39;00m\u001b[38;5;250m \u001b[39m\u001b[38;5;28;01mimport\u001b[39;00m *\n",
            "\u001b[31mModuleNotFoundError\u001b[39m: No module named 'dolfin'"
          ]
        }
      ],
      "source": [
        "# Installing FEniCS (dolfin) on the Google Colab servers\n",
        "try:\n",
        "    import dolfin\n",
        "except ImportError:\n",
        "    !wget \"https://fem-on-colab.github.io/releases/fenics-install-release-real.sh\" -O \"/tmp/fenics-install.sh\" && bash \"/tmp/fenics-install.sh\"\n",
        "    import dolfin\n",
        "from dolfin import *"
      ]
    },
    {
      "cell_type": "code",
      "execution_count": null,
      "metadata": {
        "id": "BlS1cVxP-uEz"
      },
      "outputs": [],
      "source": [
        "# Setting some plotting styles\n",
        "%matplotlib inline\n",
        "import matplotlib.pyplot as plt\n",
        "plt.rcParams[\"figure.figsize\"] = (12, 9)"
      ]
    },
    {
      "cell_type": "code",
      "execution_count": null,
      "metadata": {
        "id": "Kg6a08Ky_Q4a"
      },
      "outputs": [],
      "source": [
        "# Importing some libraries\n",
        "from dolfin import * # This is the core of FEniCS and it contains all the FEM functions we will need\n",
        "from ufl_legacy.geometry import * # This helps in designing geometries\n",
        "from dolfin.cpp.mesh import *     # This handles meshes\n",
        "from mshr import *                # This generates meshes"
      ]
    },
    {
      "cell_type": "code",
      "execution_count": null,
      "metadata": {
        "colab": {
          "base_uri": "https://localhost:8080/",
          "height": 788
        },
        "id": "xnhgSM1U-1hb",
        "outputId": "11572999-26c4-4e8f-f211-e37736e46ba2"
      },
      "outputs": [],
      "source": [
        "# First step: generate a mesh\n",
        "\n",
        "# Define a domain\n",
        "domain = Rectangle(Point(0, 0), Point(1, 1))\n",
        "\n",
        "# Define a mesh with N points on an edge\n",
        "mesh = generate_mesh(domain, 32)\n",
        "\n",
        "# Plot the mesh\n",
        "plot(mesh)"
      ]
    },
    {
      "cell_type": "markdown",
      "metadata": {
        "id": "YjuHjVvk_0gR"
      },
      "source": [
        "Now the real Finite element experience.\n",
        "\n",
        "Say we want to solve Poisson on the square with Dirichlet homogenous boundary conditions on all sides except the top one where we use Neumann homogeneous BC\n",
        "$$\n",
        "\\int_\\Omega \\nabla u \\cdot \\nabla v \\mathrm{d}x = \\int_\\Omega fv \\mathrm{d}x\n",
        "$$\n",
        "and we set $f\\equiv 1$."
      ]
    },
    {
      "cell_type": "code",
      "execution_count": null,
      "metadata": {
        "id": "3Dta8lJh-7TL"
      },
      "outputs": [],
      "source": [
        "# First of all we define the type of Finite element we want to use, this is the equivalent of the reference element we have used in 1D\n",
        "# 1 is the degree of the used polynomials, one can also try with something larger\n",
        "V_element = FiniteElement('Lagrange', triangle, 1)\n",
        "\n",
        "# Then we define the functional space, which depends on the mesh and on the reference element V_element\n",
        "V = FunctionSpace(mesh, V_element)\n",
        "\n",
        "# Now we define two types of functions: trial functions and test functions.\n",
        "# Trial functions are the one that will be used in place of the unknown u of the linear system that sooner or later we will need to generate. They correspond to the columns of the linear system\n",
        "# Test functions are the ones against which the problem is tested, they will define the rows of the system.\n",
        "u = TrialFunction(V)\n",
        "v = TestFunction(V)\n",
        "\n",
        "# We define the boundary conditions, we need the functional space, the value and where we want to put them to zero (the three sides of interest)\n",
        "zero_BC = DirichletBC(V, 0.,\n",
        "                      \"on_boundary && \\\n",
        "                      (x[0]<DOLFIN_EPS | x[0]>1.0-DOLFIN_EPS |\\\n",
        "                      x[1]<DOLFIN_EPS)\")\n",
        "\n",
        "# For Neumann homogeneous bcs we do not need to do anything\n",
        "\n",
        "# List of all boundaries\n",
        "bcs = [zero_BC]\n",
        "\n",
        "# Constant function that can be used by FEniCS to be integrated\n",
        "f = Constant(1.)\n"
      ]
    },
    {
      "cell_type": "markdown",
      "metadata": {
        "id": "1ihFrGAAESPl"
      },
      "source": [
        "Here the weak problem in its majesty: we define the left-hand-side of the problem as the scalar product between the gradients of the test and trial function\n",
        "\n",
        "`*dx` means that we are integrating over the whole domain\n",
        "\n",
        "Similarly for the rhs, we compute the integral of `f*v*dx`"
      ]
    },
    {
      "cell_type": "code",
      "execution_count": null,
      "metadata": {
        "colab": {
          "base_uri": "https://localhost:8080/"
        },
        "id": "b_BlQvGdAWTz",
        "outputId": "97ad1280-daa1-448f-8d0f-eac6ae874758"
      },
      "outputs": [],
      "source": [
        "\n",
        "lhs = inner(grad(u),grad(v))*dx\n",
        "rhs = f*v*dx\n",
        "\n",
        "print(type(lhs))"
      ]
    },
    {
      "cell_type": "markdown",
      "metadata": {
        "id": "mEO-iLWgCbXB"
      },
      "source": [
        "These are not yet matrices, but ufl forms, FEniCS knows how to deal with these objects to automatically assemble the matrices/vectors in a sparse way within a dolfin type that is derived from the `PETSc` library (under the hood it's using some C++ and Fortran libraries)"
      ]
    },
    {
      "cell_type": "code",
      "execution_count": null,
      "metadata": {
        "colab": {
          "base_uri": "https://localhost:8080/"
        },
        "id": "ZohKMu8gCYQk",
        "outputId": "97549c1e-4fa4-4fee-fdc7-0cd9efad408b"
      },
      "outputs": [],
      "source": [
        "LHS = assemble(lhs)\n",
        "RHS = assemble(rhs)\n",
        "\n",
        "print(type(LHS))\n",
        "print(type(RHS))"
      ]
    },
    {
      "cell_type": "markdown",
      "metadata": {
        "id": "JevRrAU1C6rC"
      },
      "source": [
        "Time to apply the boundary conditions!\n",
        "As for the 1D case, we change the Dirichlet DoFs equations by directly modifying the lhs matrix and the rhs vector. This creates fake equations for those dofs that assing the appropriate Dirichlet boundaries"
      ]
    },
    {
      "cell_type": "code",
      "execution_count": null,
      "metadata": {
        "id": "lTya5o1BAeLl"
      },
      "outputs": [],
      "source": [
        "zero_BC.apply(LHS)\n",
        "zero_BC.apply(RHS)"
      ]
    },
    {
      "cell_type": "markdown",
      "metadata": {
        "id": "O3pjHWxJDQNb"
      },
      "source": [
        "Finally, we can solve the problem. By default the linear solver of FEniCS is set to an incomplete LU decomposition, but one can manually change it.\n"
      ]
    },
    {
      "cell_type": "code",
      "execution_count": null,
      "metadata": {
        "colab": {
          "base_uri": "https://localhost:8080/",
          "height": 776
        },
        "id": "iDzBY-cYBFjR",
        "outputId": "3f6c7655-ff64-440e-e013-447f910de377"
      },
      "outputs": [],
      "source": [
        "# Third type of functions after TrialFunction, TestFunction\n",
        "\n",
        "# Function(V) is a simple FEM function: it stores the coefficients of the basis functions and it reference to all the functional space structures for complicated steps\n",
        "u_sol = Function(V)\n",
        "\n",
        "# We solve the linear system LHS*u=RHS -> syntax follows this order\n",
        "# Careful that here the solution of a linear system is not a Function, but a vector, so we have to assign it to the vector of u_sol\n",
        "solve(LHS, u_sol.vector(), RHS)\n",
        "\n",
        "# Finally we plot our solution\n",
        "pp=plot(u_sol)\n",
        "plt.colorbar(pp)"
      ]
    },
    {
      "cell_type": "markdown",
      "metadata": {
        "id": "bttJi721EEyb"
      },
      "source": [
        "### Exercise:\n",
        "1. Try for an exact solution (you can change the problem) to compute the error\n",
        "1. See what happens when the mesh changes\n",
        "1. Change the degree\n",
        "1. Change to non-homogeneous BC\n",
        "\n",
        "Hints:\n",
        "1. To deal with complex expressions for the right hand side or other terms in the weak formulations use the function `Expression`, e.g.\n",
        "```\n",
        "f = Expression('exp(-10.0*(pow(x[0]-0.75,2) + pow(x[1] - 0.75,2)))',degree = 2)\n",
        "```\n",
        "1. To integrate on boundaries instead on the whole domain, use `* ds` to make FEniCS know you want to integrate on the boundaries (in comparison to `* dx` for the integrals on the whole domain)"
      ]
    },
    {
      "cell_type": "markdown",
      "metadata": {
        "id": "ydIoVXY0B1Ic"
      },
      "source": [
        "## Complex geometries\n",
        "In the next test, we use as a domain a 2D representation of a long channel with a cylinder in it. This is composed of a rectangle minus a circle"
      ]
    },
    {
      "cell_type": "code",
      "execution_count": null,
      "metadata": {
        "colab": {
          "base_uri": "https://localhost:8080/",
          "height": 269
        },
        "id": "NwiDYvVrBXtf",
        "outputId": "6d861582-1ab8-4f44-d177-c1eb86522018"
      },
      "outputs": [],
      "source": [
        "# Defining the channel\n",
        "channel  = Rectangle(Point(0.,0.),Point(2.2,0.41))\n",
        "# Defining the cylinder\n",
        "cylinder_diam = 0.1\n",
        "cylinder = Circle(Point(0.2,0.2), cylinder_diam/2.)\n",
        "\n",
        "# Defining the domain\n",
        "domain = channel-cylinder\n",
        "\n",
        "# Denerate the mesh\n",
        "mesh = generate_mesh(domain, 100)\n",
        "plot(mesh)\n",
        "\n",
        "print(mesh.num_cells())\n",
        "print(mesh.num_vertices())"
      ]
    },
    {
      "cell_type": "code",
      "execution_count": null,
      "metadata": {
        "id": "PeYi84zWD_bg"
      },
      "outputs": [],
      "source": [
        "V_element = FiniteElement('Lagrange', triangle, 1)\n",
        "V = FunctionSpace(mesh, V_element)\n",
        "u = TrialFunction(V)\n",
        "u_sol = Function(V)\n",
        "v = TestFunction(V)\n",
        "\n",
        "f = Constant(0.)\n",
        "\n"
      ]
    },
    {
      "cell_type": "markdown",
      "metadata": {
        "id": "qXNA5riFFMjI"
      },
      "source": [
        "### More complex BC!\n",
        "For each of the boundaries I define a different Dirichlet BC with constant coefficients:\n",
        "* 0 on the left\n",
        "* 1 on the right\n",
        "* 3 on the bottom\n",
        "* -2 on the top\n",
        "* -1 on the cylinder  "
      ]
    },
    {
      "cell_type": "code",
      "execution_count": null,
      "metadata": {
        "id": "Wy_w68BACjys"
      },
      "outputs": [],
      "source": [
        "## Boundaries\n",
        "left = 'near(x[0],0)'\n",
        "right = 'near(x[0],2.2)'\n",
        "bottom = 'near(x[1],0)'\n",
        "top = 'near(x[1],0.41)'\n",
        "cylinder_surf = 'on_boundary && x[0]>0.1 && x[0]<0.3 && x[1]>0.1 && x[1]<0.3'\n",
        "\n",
        "bc_left = DirichletBC(V, 0., left)\n",
        "bc_right = DirichletBC(V, 1., right)\n",
        "bc_bottom = DirichletBC(V, 3., bottom)\n",
        "bc_top = DirichletBC(V, -2., top)\n",
        "bc_cylinder = DirichletBC(V, -1., cylinder_surf)\n",
        "\n",
        "bcs = [bc_left, bc_right, bc_bottom, bc_top, bc_cylinder]"
      ]
    },
    {
      "cell_type": "code",
      "execution_count": null,
      "metadata": {
        "colab": {
          "base_uri": "https://localhost:8080/",
          "height": 752
        },
        "id": "1n6R5jY4DJmk",
        "outputId": "5a5736cb-a3bf-4a53-a5c1-b94036caadd6"
      },
      "outputs": [],
      "source": [
        "# Write the weak form\n",
        "lhs = inner(grad(u),grad(v))*dx\n",
        "rhs = inner(f,v)*dx\n",
        "\n",
        "# Assemble matrix\n",
        "LHS = assemble(lhs)\n",
        "RHS = assemble(rhs)\n",
        "\n",
        "# Apply BC for all BCs in the list\n",
        "for bc in bcs:\n",
        "    bc.apply(LHS)\n",
        "    bc.apply(RHS)\n",
        "\n",
        "# Solve the liner problem\n",
        "solve(LHS, u_sol.vector(), RHS)\n",
        "\n",
        "# Plot the solution and add a colorbar\n",
        "pp=plot(u_sol)\n",
        "plt.colorbar(pp)"
      ]
    },
    {
      "cell_type": "markdown",
      "metadata": {
        "id": "M-vd18UXGR3w"
      },
      "source": [
        "## Exercises\n",
        "1. More complex domains\n",
        "1. Different BCs\n",
        "1. Different problems! Add reaction, add a fourth derivative (using high order FEMs)\n",
        "\n",
        "Hint:\n",
        "1. When dealing with very complex boundaries, you might need to use longer functions. The following example might help.\n",
        "```\n",
        "def boundary(x, on_boundary):\n",
        "    d0 = sqrt((x[0]-0.5)**2 + (x[1]-0.5)**2)\n",
        "    d1 = sqrt((x[0]-1.0)**2 + (x[1]-1.0)**2)\n",
        "    return on_boundary and (d0 < 0.3 or d1 < 0.3)\n",
        "bc = DirichletBC(V, 0 , boundary)\n",
        "```"
      ]
    }
  ],
  "metadata": {
    "colab": {
      "provenance": []
    },
    "kernelspec": {
      "display_name": "scientific_computing-p2J0Fl8J-py3.12",
      "language": "python",
      "name": "python3"
    },
    "language_info": {
      "codemirror_mode": {
        "name": "ipython",
        "version": 3
      },
      "file_extension": ".py",
      "mimetype": "text/x-python",
      "name": "python",
      "nbconvert_exporter": "python",
      "pygments_lexer": "ipython3",
      "version": "3.12.3"
    }
  },
  "nbformat": 4,
  "nbformat_minor": 0
}
