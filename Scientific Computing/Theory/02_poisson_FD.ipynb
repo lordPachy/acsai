{
  "cells": [
    {
      "cell_type": "markdown",
      "metadata": {
        "id": "PRtawUGSwPHx"
      },
      "source": [
        "[![Open In Colab](https://colab.research.google.com/assets/colab-badge.svg)](https://colab.research.google.com/github/accdavlo/calcolo-scientifico/blob/main/codes/poisson_FD.ipynb)"
      ]
    },
    {
      "cell_type": "markdown",
      "metadata": {
        "id": "9Qno6ABxwPHy"
      },
      "source": [
        "# Poisson equation\n",
        "\n",
        "In this notebook we will solve the 1D Poisson equation given by the equations\n",
        "$$-\\partial_{xx} u = f .$$\n",
        "\n",
        "Let us start with an example on the domain $\\Omega=[0,1]$ with $f=4\\pi^2 \\sin(2\\pi x)$ and homogeneous Dirichlet BC $u(0)=u(1)=0$."
      ]
    },
    {
      "cell_type": "code",
      "execution_count": 2,
      "metadata": {
        "id": "-bJb_aK0wPHy"
      },
      "outputs": [],
      "source": [
        "import numpy as np\n",
        "import matplotlib.pyplot as plt\n",
        "\n",
        "# Geometry\n",
        "x_left =0.\n",
        "x_right = 1.\n",
        "Nx = 100\n",
        "\n",
        "\n",
        "xx = np.linspace(0, 1, Nx) ## Define a linspace with Nx points\n",
        "\n",
        "dx = xx[1]-xx[0]    # this is equivalent to h in our notes"
      ]
    },
    {
      "cell_type": "markdown",
      "metadata": {
        "id": "-iL86cKgwPHz"
      },
      "source": [
        "## Solve the equation with finite differences\n",
        "$$ - \\frac{u_{i-1}-2u_i + u_{i+1}}{\\Delta x^2} = f(x_i)$$\n",
        "\n",
        "This leads to the linear system\n",
        "\n",
        "$$ -\\frac{1}{\\Delta x ^2}\\begin{pmatrix}\n",
        "-2 & 1 & 0 & \\dots &0\\\\\n",
        "1 & -2 & 1 & \\dots &\\vdots\\\\\n",
        "\\vdots & \\ddots & \\ddots & \\ddots &\\vdots&\\\\\n",
        "0 & \\dots &1 &-2&1\\\\\n",
        "0 & \\dots &0 &1&-2\n",
        "\\end{pmatrix}  \\begin{pmatrix} u_{0} \\\\ \\vdots \\\\u_{N-1} \\end{pmatrix} =\\begin{pmatrix} f(x_{0}) \\\\ \\vdots \\\\ f(x_{N-1}) \\end{pmatrix} $$\n",
        "\n",
        "### How to impose Dirichlet boundary conditions?\n",
        "We want $u(x_0) \\stackrel{!}{=} u_L$. We can change the linear system for the first equation to impose such constraint, so that the first equation becomes $u_0 = u_L$.\n",
        "The first line of the matrix becomes $A_{0,:} = \\begin{pmatrix} 1 & 0 & \\dots & 0 \\end{pmatrix}$ and the right hand side $f_0 = u_L$."
      ]
    },
    {
      "cell_type": "code",
      "execution_count": 4,
      "metadata": {
        "id": "tP_PLeu0wPHz"
      },
      "outputs": [
        {
          "data": {
            "text/plain": [
              "[<matplotlib.lines.Line2D at 0x70f4b14d9310>]"
            ]
          },
          "execution_count": 4,
          "metadata": {},
          "output_type": "execute_result"
        },
        {
          "data": {
            "image/png": "[encoded data removed]",
            "text/plain": [
              "<Figure size 640x480 with 1 Axes>"
            ]
          },
          "metadata": {},
          "output_type": "display_data"
        }
      ],
      "source": [
        "# Finite difference problem\n",
        "f_lambda = lambda x: 4*np.pi**2 * np.sin(2*np.pi*x)\n",
        "\n",
        "# Compose the left hand side and right hand side\n",
        "A = np.zeros((Nx,Nx))\n",
        "f = np.zeros(Nx)\n",
        "\n",
        "for i in range(0,Nx-1):\n",
        "    # Fill the matrix and the right hand side\n",
        "    A[i,i-1] = -1/dx**2\n",
        "    A[i,i]   = 2/dx**2\n",
        "    A[i,i+1] = -1/dx**2\n",
        "    f[i]     = f_lambda(xx[i])\n",
        "\n",
        "# Boundary conditions\n",
        "\n",
        "# QUESTION: WHY ARE WE SETTING ENTIRE ROWS TO 0?\n",
        "# Homogeneous Dirichlet in x_left\n",
        "A[0, :] = 0.\n",
        "A[0,0] = 1.\n",
        "f[0]   = 0.\n",
        "\n",
        "# Homogeneous Dirichlet in x_right\n",
        "A[-1,:] = 0.\n",
        "A[-1,-1] = 1.\n",
        "f[-1]   = 0.\n",
        "\n",
        "\n",
        "### FILL IN THE Linear solution of the system\n",
        "u = np.linalg.solve(A, f)\n",
        "\n",
        "plt.plot(xx, u)"
      ]
    },
    {
      "cell_type": "markdown",
      "metadata": {
        "id": "_c2ssU06wPHz"
      },
      "source": [
        "## Check order of accuracy\n",
        "If $\\Delta x \\to 0$ then $e^{\\Delta x}=\\lVert u^{\\Delta x} - u^{ex} \\rVert \\to 0$. How does it go to zero?"
      ]
    },
    {
      "cell_type": "code",
      "execution_count": null,
      "metadata": {
        "id": "3rmBsRdwwPHz"
      },
      "outputs": [],
      "source": [
        "# PUT WHAT WE DID BEFORE INTO A FUNCTION THAT DEPENDS ON THE NUMBER OF NODES!\n",
        "\n",
        "def solution(Nx):\n",
        "\n",
        "    # COMPUTE THE APPROXIMATE SOLUTION\n",
        "\n",
        "    ??????\n",
        "    ??????\n",
        "\n",
        "\n",
        "    # Compute the exact solution\n",
        "    u_ex = np.sin(2.*np.pi*xx)\n",
        "\n",
        "    # Compute the relative error in L2 norm\n",
        "    error = np.linalg.norm(u-u_ex)/np.linalg.norm(u_ex)\n",
        "\n",
        "    return xx, u, error\n",
        "\n",
        "## TEST THE SOLUTION FOR DIFFERENT NUMBER OF NODES\n",
        "\n",
        "Ns = [10,20,50,100,200,1000]\n",
        "errors = np.zeros(len(Ns))\n",
        "\n",
        "plt.figure()\n",
        "for iN, N in enumerate(Ns):\n",
        "    xx, u, error = solution(N)\n",
        "    plt.plot(xx,u, label=f\"N={N}\")\n",
        "\n",
        "    errors[iN] = error\n",
        "\n",
        "plt.legend()\n",
        "\n",
        "plt.figure()\n",
        "plt.plot(Ns, errors)\n",
        "plt.xlabel(\"N\")\n",
        "plt.ylabel(\"Error\")\n",
        "\n",
        "plt.figure()\n",
        "plt.loglog(Ns, errors, label=\"error\")\n",
        "plt.loglog(Ns,1./np.array(Ns), \":\",label=\"First order\")\n",
        "plt.loglog(Ns,1./np.array(Ns)**2, \":\", label=\"Second order\")\n",
        "plt.loglog(Ns,1./np.array(Ns)**3, \":\", label=\"Third order\")\n",
        "plt.xlabel(\"N\")\n",
        "plt.ylabel(\"Error\")\n",
        "plt.legend()"
      ]
    },
    {
      "cell_type": "markdown",
      "metadata": {
        "id": "gWhmQ5oRwPHz"
      },
      "source": [
        "## Non-homogeneous Dirichlet BC\n",
        "\n",
        "1. Take $u^{ex} (x) = x^3-2x^2+1$ on $\\Omega=[0,1]$, so $-\\Delta u = -6x+4=:f(x)$, $u_L = 1$ and $u_R= 0$.\n",
        "2. Take $u^{ex} (x) = \\cos(x)-x$ on $\\Omega=[0,2\\pi]$, so $-\\Delta u = \\cos(x)=:f(x)$, $u_L = 1$ and $u_R= 1-2\\pi$.\n"
      ]
    },
    {
      "cell_type": "code",
      "execution_count": null,
      "metadata": {
        "id": "qqo_2e9awPH0"
      },
      "outputs": [],
      "source": [
        "def solution(Nx, x_left,x_right, uL, uR, f_lambda, uex_lambda):\n",
        "\n",
        "\n",
        "    ???\n",
        "\n",
        "\n",
        "    # Boundary conditions\n",
        "\n",
        "    # Homogeneous Dirichlet in x_left\n",
        "    A[0,:] = ???\n",
        "    A[0,0] = ???\n",
        "    f[0]   = ???\n",
        "\n",
        "    # Homogeneous Dirichlet in x_right\n",
        "    A[-1,:]  = ?????\n",
        "    A[-1,-1] = ?????\n",
        "    f[-1]    = ?????\n",
        "\n",
        "    u = np.linalg.solve(A,f)\n",
        "\n",
        "    u_ex = uex_lambda(xx)\n",
        "\n",
        "    error = np.linalg.norm(u-u_ex)/np.linalg.norm(u_ex)\n",
        "\n",
        "    return xx, u, error\n",
        "\n",
        "uex_lambda = lambda x:x**3-2*x**2+1\n",
        "f_lambda = lambda x: -6*x+4\n",
        "x_left = 0.\n",
        "x_right = 1.\n",
        "uL=1.\n",
        "uR=0.\n",
        "Nx = 10\n",
        "\n",
        "plt.figure()\n",
        "xx,uu,error = solution(Nx, x_left,x_right, uL, uR, f_lambda, uex_lambda)\n",
        "plt.plot(xx,uu,label=\"approximation\")\n",
        "plt.plot(xx,uex_lambda(xx),label=\"exact\")\n",
        "plt.legend()\n",
        "print(error)\n",
        "\n",
        "uex_lambda = lambda x: np.cos(x)-x\n",
        "f_lambda = lambda x: np.cos(x)\n",
        "x_left = 0.\n",
        "x_right = 2*np.pi\n",
        "uL=1.\n",
        "uR=1-2*np.pi\n",
        "Nx = 10\n",
        "\n",
        "plt.figure()\n",
        "xx,uu,error = solution(Nx, x_left,x_right, uL, uR, f_lambda, uex_lambda)\n",
        "plt.plot(xx,uu,label=\"approximation\")\n",
        "plt.plot(xx,uex_lambda(xx),label=\"exact\")\n",
        "plt.legend()\n",
        "print(error)\n",
        "\n"
      ]
    },
    {
      "cell_type": "markdown",
      "metadata": {
        "id": "6aNZkyXSwPH0"
      },
      "source": [
        "## Neumann boundary conditions\n",
        "We want to impose at the boundary that\n",
        "$\\partial_x u(x_L) = g_L$,\n",
        "which in a discrete sense becomes\n",
        "$$\n",
        "\\frac{u_1-u_0 }{\\Delta x} = g_L.\n",
        "$$\n",
        "In the matrix this correspond to the first line of the system to be\n",
        "$$\n",
        "A_{0,:}=\\begin{pmatrix}\n",
        "-\\frac{1}{\\Delta x} & \\frac{1}{\\Delta x} & 0 &\\dots &0\n",
        "\\end{pmatrix},\\qquad f_0 = g_L.\n",
        "$$"
      ]
    },
    {
      "cell_type": "markdown",
      "metadata": {
        "id": "9dM52b6WwPH0"
      },
      "source": [
        "## Classes\n",
        "Let's introduce some classes to deal with all the ingredients"
      ]
    },
    {
      "cell_type": "code",
      "execution_count": null,
      "metadata": {
        "id": "R7jMepGiwPH0"
      },
      "outputs": [],
      "source": [
        "class Geometry1D:\n",
        "    def __init__(self, x_left, x_right, N=None):\n",
        "        self.x_left = x_left\n",
        "        self.x_right = x_right\n",
        "        if N is not None:\n",
        "            self.set_N(N)\n",
        "\n",
        "    def set_N(self,N):\n",
        "        self.N = N\n",
        "        self.xx = np.linspace(self.x_left,self.x_right, N)\n",
        "        self.dx = self.xx[1]-self.xx[0]\n",
        "\n",
        "geom = Geometry1D(0.,1.,N=10)\n",
        "\n",
        "boundary = dict()\n",
        "boundary[\"left\"] = [\"dirichlet\", 0.]\n",
        "boundary[\"right\"] = [\"dirichlet\", 1.]\n",
        "\n",
        "class PoissonProblem1D:\n",
        "    def __init__(self, geometry, boundary, f_lambda):\n",
        "        self.geometry = geometry\n",
        "        self.boundary = boundary\n",
        "        self.f_lambda = f_lambda\n",
        "\n",
        "    def set_exact_solution(self, uex_lambda):\n",
        "        self.uex_lambda = uex_lambda\n",
        "\n",
        "    def assemble_matrix(self):\n",
        "        ## ASSEMBLE THE MATRIX AND RHS\n",
        "        ??????\n",
        "\n",
        "        # CHANGE MATRIX AND RHS FOR BC!\n",
        "        self.apply_BC()\n",
        "\n",
        "    def apply_BC(self, boundary=None):\n",
        "        # Boundary conditions\n",
        "\n",
        "        if boundary is not None:\n",
        "            self.boundary = boundary\n",
        "        if not hasattr(self,\"boundary\"):\n",
        "            raise ValueError(\"Boundaries are not set yet\")\n",
        "\n",
        "        if self.boundary[\"left\"][0]==\"dirichlet\":\n",
        "            # Homogeneous Dirichlet in x_left\n",
        "            self.A[0,:] = 0.\n",
        "            self.A[0,0] = 1.\n",
        "            self.f[0]   = self.boundary[\"left\"][1]\n",
        "\n",
        "        elif self.boundary[\"left\"][0]==\"neumann\":\n",
        "            # Homogeneous Dirichlet in x_left\n",
        "            self.A[0,:] = 0.\n",
        "            self.A[0,0] = -1./self.geometry.dx\n",
        "            self.A[0,1] =  1./self.geometry.dx\n",
        "            self.f[0]   = self.boundary[\"left\"][1]\n",
        "        else:\n",
        "            raise ValueError(\"Boundary %s not implemented\"%(self.boundary[\"left\"][0]))\n",
        "\n",
        "        if self.boundary[\"right\"][0]==\"dirichlet\":\n",
        "            # Homogeneous Dirichlet in x_right\n",
        "            self.A[-1,:] = 0.\n",
        "            self.A[-1,-1] = 1.\n",
        "            self.f[-1]   = self.boundary[\"right\"][1]\n",
        "\n",
        "        elif self.boundary[\"right\"][0]==\"neumann\":\n",
        "            # Homogeneous Dirichlet in x_right\n",
        "            self.A[-1,:] = 0.\n",
        "            # First order\n",
        "            self.A[-1,-2] = -1./self.geometry.dx\n",
        "            self.A[-1,-1] =  1./self.geometry.dx\n",
        "\n",
        "            # # Second order\n",
        "            # self.A[-1,-3] = 1./2./self.geometry.dx\n",
        "            # self.A[-1,-2] = -2./self.geometry.dx\n",
        "            # self.A[-1,-1] =  3./2./self.geometry.dx\n",
        "\n",
        "            self.f[-1]   = self.boundary[\"right\"][1]\n",
        "\n",
        "    def solve(self, N=None):\n",
        "\n",
        "        if N is not None:\n",
        "            # Change geometry and assemble matrix\n",
        "            self.geometry.set_N(N)\n",
        "            self.assemble_matrix()\n",
        "        if not hasattr(self,\"A\") or not hasattr(self,\"f\"):\n",
        "            # Assemble matrix\n",
        "            self.assemble_matrix()\n",
        "\n",
        "        # Solve the system\n",
        "        self.uu = np.linalg.solve(self.A, self.f)\n",
        "\n",
        "        # If there's the exact solution compute the error\n",
        "        if hasattr(self,\"uex_lambda\"):\n",
        "            uex = uex_lambda(self.geometry.xx)\n",
        "            self.error = np.linalg.norm(self.uu-uex)/np.linalg.norm(uex)\n",
        "        else:\n",
        "            self.error = np.nan\n",
        "        return self.geometry, self.uu, self.error"
      ]
    },
    {
      "cell_type": "code",
      "execution_count": null,
      "metadata": {
        "id": "dMGbyx_wwPH0"
      },
      "outputs": [],
      "source": [
        "geom = Geometry1D(0.,2*np.pi,N=1000)\n",
        "\n",
        "boundary = dict()\n",
        "boundary[\"left\"] = [\"dirichlet\", 1.]\n",
        "# boundary[\"right\"] = [\"dirichlet\", 1.-2*np.pi]\n",
        "boundary[\"right\"] = [\"neumann\", -1.]\n",
        "\n",
        "uex_lambda = lambda x: np.cos(x)-x\n",
        "f_lambda = lambda x: np.cos(x)\n",
        "\n",
        "problem = PoissonProblem1D(geom, boundary, f_lambda)\n",
        "problem.set_exact_solution(uex_lambda)\n",
        "\n",
        "plt.figure()\n",
        "geom,uu,error = problem.solve()\n",
        "plt.plot(geom.xx,uu,label=\"approximation\")\n",
        "plt.plot(geom.xx,uex_lambda(geom.xx),label=\"exact\")\n",
        "plt.legend()\n",
        "print(error)"
      ]
    },
    {
      "cell_type": "code",
      "execution_count": null,
      "metadata": {
        "id": "iT3SSMRxwPH0"
      },
      "outputs": [],
      "source": [
        "class ConvergenceAnalysis:\n",
        "    def __init__(self, problem, Ns=None):\n",
        "        self.problem = problem\n",
        "        if Ns is None:\n",
        "            self.Ns = np.int64(2**np.linspace(3,10,8))\n",
        "        else:\n",
        "            self.Ns = Ns\n",
        "        self.Ns = np.array(self.Ns)\n",
        "\n",
        "    def analyse(self):\n",
        "        self.errors = np.zeros(len(self.Ns))\n",
        "        self.orders = np.zeros(len(self.Ns)-1)\n",
        "\n",
        "        for iN, N in enumerate(self.Ns):\n",
        "            ## SOLVE THE PROBLEM AND COMPUTE THE ERROR\n",
        "            ??????\n",
        "            if iN>0:\n",
        "                self.orders[iN-1] = np.log(self.errors[iN]/self.errors[iN-1])/np.log(self.Ns[iN-1]/self.Ns[iN])\n",
        "\n",
        "    def plot_error_convergence(self):\n",
        "        if not hasattr(self,\"errors\"):\n",
        "            # If not already computed, computes the errors\n",
        "            self.analyse()\n",
        "\n",
        "        fig, ax = plt.subplots(1,1)\n",
        "\n",
        "        # Plot error vs N in loglog scale!\n",
        "        ax.loglog(self.Ns, self.errors, label =\"errors\")\n",
        "\n",
        "        # Estimation of the order and plot of the reference lines\n",
        "        average_order = np.mean(self.orders)\n",
        "        order_plus = np.ceil(average_order)\n",
        "        order_minus = np.floor(average_order)\n",
        "        ax.loglog(self.Ns, (self.Ns/self.Ns[0])**(-order_plus)*self.errors[0],\"--\", label =f\"order {order_plus}\")\n",
        "        ax.loglog(self.Ns, (self.Ns/self.Ns[0])**(-order_minus)*self.errors[0],\"--\", label =f\"order {order_minus}\")\n",
        "        ax.set_xlabel(\"Number of points in mesh\")\n",
        "        ax.set_ylabel(\"Relative error\")\n",
        "        plt.legend()\n",
        "\n"
      ]
    },
    {
      "cell_type": "code",
      "execution_count": null,
      "metadata": {
        "id": "80YV2QQRwPH0"
      },
      "outputs": [],
      "source": [
        "convergence = ConvergenceAnalysis(problem)\n",
        "convergence.plot_error_convergence()"
      ]
    },
    {
      "cell_type": "code",
      "execution_count": null,
      "metadata": {
        "id": "Wid7liqfwPH0"
      },
      "outputs": [],
      "source": [
        "# Play with BC and their discretizations\n",
        "\n",
        "geom = Geometry1D(0.,2*np.pi,N=1000)\n",
        "\n",
        "boundary = dict()\n",
        "boundary[\"left\"] = [\"dirichlet\", 1.]\n",
        "boundary[\"right\"] = [\"dirichlet\", 1.-2*np.pi]\n",
        "# boundary[\"right\"] = [\"neumann\", -1.]\n",
        "\n",
        "uex_lambda = lambda x: np.cos(x)-x\n",
        "f_lambda = lambda x: np.cos(x)\n",
        "\n",
        "problem = PoissonProblem1D(geom, boundary, f_lambda)\n",
        "problem.set_exact_solution(uex_lambda)\n",
        "\n",
        "\n",
        "convergence = ConvergenceAnalysis(problem)\n",
        "convergence.plot_error_convergence()"
      ]
    },
    {
      "cell_type": "markdown",
      "metadata": {
        "id": "fc1TfZX8wPH1"
      },
      "source": [
        "## Higher order discretization\n",
        "We can use a 5-point stencil to discretize the Laplacian operator. The stencil is given by\n",
        "$$\n",
        "\\begin{pmatrix}\n",
        "u'' \\approx -1/12U_{-2} +4/3u_{-1}\t-5/2u_0\t+4/3u_1-1/12u_2\n",
        "\\end{pmatrix}\n",
        "$$\n",
        "which is a 4th order discretization of the Laplacian operator.\n",
        "\n",
        "Problem: what do we do at the boundaries?\n",
        "\n",
        "One sided stencil (I take high order ones for second derivatives):\n",
        "Use the calculator of FD [https://web.media.mit.edu/~crtaylor/calculator](https://web.media.mit.edu/~crtaylor/calculator)\n",
        "\n",
        "the right-sided\n",
        "$$\n",
        "u'' = \\frac{10u_{i-1}-15u_{i+0}-4u_{i+1}+14u_{i+2}-6u_{i+3}+1u_{i+4}}{12h^2}\n",
        "$$\n",
        "and the left-sided\n",
        "$$\n",
        "u''\\approx \\frac{1u_{i-4}-6u_{i-3}+14u_{i-2}-4u_{i-1}-15u_{i+0}+10u_{i+1}}{12 h^2}\n",
        "$$\n",
        "\n",
        "\n"
      ]
    },
    {
      "cell_type": "code",
      "execution_count": null,
      "metadata": {
        "id": "DnD1L88WwPH1"
      },
      "outputs": [],
      "source": [
        "# Make the high order version of the FD class\n",
        "class PoissonProblem1D:\n",
        "    ??????"
      ]
    },
    {
      "cell_type": "code",
      "execution_count": null,
      "metadata": {
        "id": "53XhDVR1wPH1"
      },
      "outputs": [],
      "source": [
        "geom = Geometry1D(0.,2*np.pi,N=1000)\n",
        "\n",
        "boundary = dict()\n",
        "boundary[\"left\"] = [\"dirichlet\", 1.]\n",
        "boundary[\"right\"] = [\"dirichlet\", 1.-2*np.pi]\n",
        "# boundary[\"right\"] = [\"neumann\", -1.]\n",
        "\n",
        "uex_lambda = lambda x: np.cos(x)-x\n",
        "f_lambda = lambda x: np.cos(x)\n",
        "\n",
        "problem = PoissonProblem1D(geom, boundary, f_lambda)\n",
        "problem.set_exact_solution(uex_lambda)\n",
        "\n",
        "geom,uu,error = problem.solve(10)\n",
        "\n",
        "plt.plot(geom.xx,uu)\n",
        "plt.plot(geom.xx,uex_lambda(geom.xx))\n",
        "convergence = ConvergenceAnalysis(problem)\n",
        "convergence.plot_error_convergence()"
      ]
    },
    {
      "cell_type": "markdown",
      "metadata": {
        "id": "yCa8Ep5TwPH1"
      },
      "source": [
        "## 2D Poisson equation\n",
        "\n",
        "Stencil is now in 2D\n",
        "$$\n",
        "-\\Delta u_{0,0} \\approx \\frac{-u_{-1,0}+2u_{0,0}-u_{1,0}}{\\Delta x^2} + \\frac{-u_{0,-1}+2u_{0,0}-u_{0,1}}{\\Delta y^2}\n",
        "$$\n",
        "\n",
        "we need to find a way to store the 2D array in a 1D array. We can use the row-major order, which is the default in C and Python. The 2D array is stored in a 1D array by stacking the rows one after the other."
      ]
    },
    {
      "cell_type": "code",
      "execution_count": null,
      "metadata": {
        "id": "N-SdbmCxwPH1"
      },
      "outputs": [],
      "source": [
        "A = np.arange(66).reshape(11,6)\n",
        "print(A)\n",
        "A2 = A.reshape(-1)\n",
        "print(A2)"
      ]
    },
    {
      "cell_type": "markdown",
      "metadata": {
        "id": "QxHb0JauwPH1"
      },
      "source": [
        "This means that the element $u_{i,j}$ is stored in the 1D array as $u_{i*NC+j}$, where $NC$ is the number of columns."
      ]
    },
    {
      "cell_type": "code",
      "execution_count": null,
      "metadata": {
        "id": "ch96TZeowPH1"
      },
      "outputs": [],
      "source": [
        "class Geometry2D:\n",
        "    def __init__(self, x_left, x_right, y_bottom, y_top, Nx=None, Ny=None):\n",
        "        self.x_left = x_left\n",
        "        self.x_right = x_right\n",
        "        self.y_bottom = y_bottom\n",
        "        self.y_top = y_top\n",
        "        if Nx is not None and Ny is not None:\n",
        "            self.set_Ns(Nx,Ny)\n",
        "        elif Nx is not None:\n",
        "            self.set_Ns(Nx,Nx)\n",
        "\n",
        "    def set_Ns(self,Nx,Ny):\n",
        "        self.Nx = Nx\n",
        "        self.Ny = Ny\n",
        "        self.xx = np.linspace(self.x_left,self.x_right, self.Nx)\n",
        "        self.yy = np.linspace(self.y_bottom,self.y_top, self.Ny)\n",
        "        self.dx = self.xx[1]-self.xx[0]\n",
        "        self.dy = self.yy[1]-self.yy[0]\n",
        "\n",
        "        self.XX, self.YY = np.meshgrid(self.xx, self.yy, indexing=\"ij\")\n",
        "\n",
        "    def map_1D_to_2D(self, alpha):\n",
        "        return alpha%self.Nx, alpha//self.Nx\n",
        "    def map_2D_to_1D(self, i,j):\n",
        "        return i*self.Ny+j"
      ]
    },
    {
      "cell_type": "code",
      "execution_count": null,
      "metadata": {
        "id": "SE3c2qIiwPH1"
      },
      "outputs": [],
      "source": [
        "geom2D = Geometry2D(0.,1.,0.,1.,Nx=11,Ny=6)\n",
        "print(geom2D.XX)\n",
        "print(geom2D.YY)"
      ]
    },
    {
      "cell_type": "markdown",
      "metadata": {
        "id": "pTrHJLIkwPH1"
      },
      "source": [
        "$$\n",
        "-\\Delta u_{\\alpha} \\approx \\frac{-u_{\\alpha-N_y}+2u_{\\alpha}-u_{\\alpha+N_y}}{\\Delta x^2} + \\frac{-u_{\\alpha-1}+2u_{\\alpha}-u_{\\alpha+1}}{\\Delta y^2}\n",
        "$$"
      ]
    },
    {
      "cell_type": "code",
      "execution_count": null,
      "metadata": {
        "id": "7hshAjmTwPH1"
      },
      "outputs": [],
      "source": [
        "boundary = dict()\n",
        "boundary[\"left\"] = [\"dirichlet\",  lambda x: np.cos(x[0])-np.sin(x[1])]\n",
        "boundary[\"right\"] = [\"dirichlet\", lambda x: np.cos(x[0])-np.sin(x[1])]\n",
        "boundary[\"top\"] = [\"dirichlet\", lambda x: np.cos(x[0])-np.sin(x[1])]\n",
        "boundary[\"bottom\"] = [\"dirichlet\", lambda x: np.cos(x[0])-np.sin(x[1])]\n",
        "\n",
        "uex_lambda = lambda x: np.cos(x[0])-np.sin(x[1])\n",
        "f_lambda = lambda x: np.cos(x[0])-np.sin(x[1])\n"
      ]
    },
    {
      "cell_type": "code",
      "execution_count": null,
      "metadata": {
        "id": "4iIj3DbCwPH1"
      },
      "outputs": [],
      "source": [
        "class PoissonProblem2D:\n",
        "    def __init__(self, geometry, boundary, f_lambda):\n",
        "        self.geometry = geometry\n",
        "        self.boundary = boundary\n",
        "        self.f_lambda = f_lambda\n",
        "\n",
        "    def set_exact_solution(self, uex_lambda):\n",
        "        self.uex_lambda = uex_lambda\n",
        "    def assemble_matrix(self):\n",
        "        Nx = self.geometry.Nx\n",
        "        Ny = self.geometry.Ny\n",
        "        self.N = Nx*Ny\n",
        "        dx = self.geometry.dx\n",
        "        dy = self.geometry.dy\n",
        "\n",
        "        self.A = np.zeros((self.N,self.N))\n",
        "        self.f = np.zeros(self.N)\n",
        "\n",
        "        for i in range(1,Nx-1):\n",
        "            for j in range(1,Ny-1):\n",
        "                alpha = geom2D.map_2D_to_1D(i,j)\n",
        "\n",
        "                self.A[alpha,alpha-Ny] = ??????\n",
        "                self.A[alpha,alpha   ]+= ??????\n",
        "                self.A[alpha,alpha+Ny] = ??????\n",
        "                self.A[alpha,alpha-1 ] = ??????\n",
        "                self.A[alpha,alpha   ]+= ??????\n",
        "                self.A[alpha,alpha+1 ] = ??????\n",
        "                self.f[alpha]     = self.f_lambda(np.array([self.geometry.XX[i,j],self.geometry.YY[i,j]]))\n",
        "\n",
        "        self.apply_BC()\n",
        "\n",
        "    def apply_BC(self, boundary=None):\n",
        "        # Boundary conditions\n",
        "\n",
        "        if boundary is not None:\n",
        "            self.boundary = boundary\n",
        "        if not hasattr(self,\"boundary\"):\n",
        "            raise ValueError(\"Boundaries are not set yet\")\n",
        "\n",
        "        if self.boundary[\"left\"][0]==\"dirichlet\":\n",
        "            # Dirichlet in x_left\n",
        "            for j in range(self.geometry.Ny):\n",
        "                alpha = self.geometry.map_2D_to_1D(0,j)\n",
        "                self.A[alpha,:] = 0.\n",
        "                self.A[alpha,alpha] = 1.\n",
        "                self.f[alpha] = self.boundary[\"left\"][1](np.array([self.geometry.XX[0,j],self.geometry.YY[0,j]]))\n",
        "\n",
        "        elif self.boundary[\"left\"][0]==\"neumann\":\n",
        "            # Neumann in x_left\n",
        "            for j in range(self.geometry.Ny):\n",
        "                alpha = self.geometry.map_2D_to_1D(0,j)\n",
        "                alpha1= self.geometry.map_2D_to_1D(1,j)\n",
        "                self.A[alpha,:] = 0.\n",
        "                self.A[alpha,alpha] = -1./self.geometry.dx\n",
        "                self.A[alpha,alpha1] = 1./self.geometry.dx\n",
        "                self.f[alpha] = self.boundary[\"left\"][1](np.array([self.geometry.XX[0,j],self.geometry.YY[0,j]]))\n",
        "        else:\n",
        "            raise ValueError(\"Boundary %s not implemented\"%(self.boundary[\"left\"][0]))\n",
        "\n",
        "        if self.boundary[\"right\"][0]==\"dirichlet\":\n",
        "            # Dirichlet in x_right\n",
        "            ?????\n",
        "\n",
        "        elif self.boundary[\"right\"][0]==\"neumann\":\n",
        "            ?????\n",
        "        else:\n",
        "            raise ValueError(\"Boundary %s not implemented\"%(self.boundary[\"right\"][0]))\n",
        "\n",
        "        if self.boundary[\"top\"][0]==\"dirichlet\":\n",
        "            ?????\n",
        "        elif self.boundary[\"top\"][0]==\"neumann\":\n",
        "            ?????\n",
        "        else:\n",
        "            raise ValueError(\"Boundary %s not implemented\"%(self.boundary[\"top\"][0]))\n",
        "\n",
        "        if self.boundary[\"bottom\"][0]==\"dirichlet\":\n",
        "            ?????\n",
        "        elif self.boundary[\"bottom\"][0]==\"neumann\":\n",
        "            ?????\n",
        "        else:\n",
        "            raise ValueError(\"Boundary %s not implemented\"%(self.boundary[\"bottom\"][0]))\n",
        "\n",
        "    def solve(self, Nx=None, Ny=None):\n",
        "        if Nx is not None:\n",
        "            if Ny is None:\n",
        "                Ny = Nx\n",
        "            self.geometry.set_Ns(Nx,Ny)\n",
        "            self.assemble_matrix()\n",
        "        if not hasattr(self,\"A\") or not hasattr(self,\"f\"):\n",
        "            self.assemble_matrix()\n",
        "        self.uu = np.linalg.solve(self.A, self.f)\n",
        "        if hasattr(self,\"uex_lambda\"):\n",
        "            self.uex = uex_lambda(np.array([self.geometry.XX.reshape(-1),self.geometry.YY.reshape(-1)]))\n",
        "            self.error = np.linalg.norm(self.uu-self.uex)/np.linalg.norm(self.uex)\n",
        "        else:\n",
        "            self.error = np.nan\n",
        "        return self.geometry, self.uu, self.error"
      ]
    },
    {
      "cell_type": "code",
      "execution_count": null,
      "metadata": {
        "id": "WQakWM8qwPH1"
      },
      "outputs": [],
      "source": [
        "poisson2D = PoissonProblem2D(geom2D, boundary, f_lambda)\n",
        "poisson2D.set_exact_solution(uex_lambda)\n",
        "\n",
        "geom2D, uu,error = poisson2D.solve()"
      ]
    },
    {
      "cell_type": "code",
      "execution_count": null,
      "metadata": {
        "id": "D8U-V21-wPH2"
      },
      "outputs": [],
      "source": [
        "plt.figure()\n",
        "plt.contourf(geom2D.XX,geom2D.YY,uu.reshape(geom2D.XX.shape))\n",
        "plt.colorbar()\n",
        "\n",
        "plt.figure()\n",
        "plt.contourf(geom2D.XX,geom2D.YY,poisson2D.uex.reshape(geom2D.XX.shape))\n",
        "plt.colorbar()\n",
        "\n",
        "plt.figure()\n",
        "plt.contourf(geom2D.XX,geom2D.YY,(poisson2D.uex-uu).reshape(geom2D.XX.shape))\n",
        "plt.colorbar()\n",
        "\n",
        "print(error)\n"
      ]
    },
    {
      "cell_type": "code",
      "execution_count": null,
      "metadata": {
        "id": "pH_VuRtewPH2"
      },
      "outputs": [],
      "source": [
        "# Try with different number of points until something large (eg 256x256)\n",
        "\n",
        "import time\n",
        "t0 = time.time()\n",
        "geom2D, uu,error = poisson2D.solve(256,256)\n",
        "computational_time = time.time()-t0\n",
        "print(\"Time \",computational_time)\n",
        "print(\"Error \",error)"
      ]
    },
    {
      "cell_type": "code",
      "execution_count": null,
      "metadata": {
        "id": "daR6B494wPH2"
      },
      "outputs": [],
      "source": [
        "plt.spy(poisson2D.A)"
      ]
    },
    {
      "cell_type": "markdown",
      "metadata": {
        "id": "2Fivxo35wPH2"
      },
      "source": [
        "## Larger problems and sparsity patterns\n"
      ]
    },
    {
      "cell_type": "markdown",
      "metadata": {
        "id": "GM8-yQrEwPH2"
      },
      "source": [
        "### Sparse matrices\n",
        "The matrix is sparse, i.e. most of the entries are zero. We can use sparse matrices to store the matrix and solve the linear system. We can use the `scipy.sparse` module to store the matrix and solve the linear system.\n",
        "\n",
        "There are different formats that can store sparse matrices:\n",
        "- `csc_matrix` (Compressed Sparse Column)\n",
        "- `csr_matrix` (Compressed Sparse Row)\n",
        "- `lil_matrix` (List of Lists)\n",
        "\n",
        "The `csc_matrix` is more efficient for column operations, while the `csr_matrix` is more efficient for row operations. The `lil_matrix` is more efficient for constructing the matrix.\n",
        "\n",
        "We can convert between the formats using the `tocsc()`, `tocsr()`, and `tolil()` methods (Thanks scipy!).\n",
        "\n",
        "And use other routines to set diagonals as in `diags()`.\n",
        "\n",
        "Moreover, there is a sparse solver `scipy.sparse.linalg.spsolve` that can be used to solve the linear system."
      ]
    },
    {
      "cell_type": "markdown",
      "metadata": {
        "id": "7lShLNDCwPH2"
      },
      "source": [
        "### `csr_matrix`\n",
        "The `csr_matrix` is a sparse matrix format that stores the matrix in compressed row format. The matrix is stored as three arrays:\n",
        "- `data` stores the non-zero entries of the matrix\n",
        "- `indices` stores the column indices of the non-zero entries\n",
        "- `indptr` stores the indices of the start of each row in the `data` and `indices` arrays\n",
        "\n",
        "#### Example\n",
        "Consider the matrix\n",
        "$$\n",
        "\\begin{pmatrix}\n",
        "1 & 0 & 2\\\\\n",
        "0 & 3 & 0\\\\\n",
        "4 & 0 & 5\n",
        "\\end{pmatrix}\n",
        "$$\n",
        "It can be saved in the following `csr_matrix`\n",
        "\n",
        "|Vector  |Values             | Length           |\n",
        "|:--------|:-----------------|:-----------------|\n",
        "|`data   `| `[1, 2, 3, 4, 5]`| `nnz`            |\n",
        "|`indices`| `[0, 2, 1, 0, 2]`| `nnz`            |\n",
        "|`indptr `| `[0, 2, 3, 5]`   | `rows+1`         |\n",
        "\n",
        "where `nnz` is the number of non-zero entries and `rows` is the number of rows.\n",
        "\n",
        "### `csc_matrix`\n",
        "Is the same as `csr_matrix` but the matrix is stored it works with columns instead of rows.\n",
        "\n",
        "### `lil_matrix`\n",
        "The `lil_matrix` is a sparse matrix format that stores the matrix as a list of lists. The matrix is stored as two lists of lists:\n",
        "- `data` stores the non-zero entries of the matrix as a list of lists\n",
        "- `rows` stores the row indices of the non-zero entries as a list of lists"
      ]
    },
    {
      "cell_type": "code",
      "execution_count": null,
      "metadata": {
        "id": "GBtDCJAgwPH2"
      },
      "outputs": [],
      "source": [
        "import scipy.sparse as sp\n",
        "\n",
        "# Example\n",
        "A = np.array([[1,0,2],[0,3,0],[0,0,0],[4,0,5],[6,7,8]])\n",
        "A_csr = sp.csr_matrix(A)\n",
        "print(\"data    \",A_csr.data)\n",
        "print(\"indices \",A_csr.indices)\n",
        "print(\"indptr  \",A_csr.indptr)\n",
        "print(A)"
      ]
    },
    {
      "cell_type": "code",
      "execution_count": null,
      "metadata": {
        "id": "XpDCz7-VwPH2"
      },
      "outputs": [],
      "source": [
        "lil_A = A_csr.tolil()\n",
        "print(\"data \",lil_A.data)\n",
        "print(\"rows \",lil_A.rows)"
      ]
    },
    {
      "cell_type": "code",
      "execution_count": null,
      "metadata": {
        "id": "YYcgva65wPH2"
      },
      "outputs": [],
      "source": [
        "A_csc = A_csr.tocsc()\n",
        "print(\"data    \",A_csc.data)\n",
        "print(\"indices \",A_csc.indices)\n",
        "print(\"indptr  \",A_csc.indptr)\n",
        "print(A)"
      ]
    },
    {
      "cell_type": "code",
      "execution_count": null,
      "metadata": {
        "id": "xNp-njAawPH2"
      },
      "outputs": [],
      "source": [
        "\n",
        "def put_zero_row_in_csr(A, i):\n",
        "    A.data[A.indptr[i]:A.indptr[i+1]] = 0\n",
        "\n",
        "\n",
        "print(A_csr.toarray())\n",
        "put_zero_row_in_csr(A_csr,0)\n",
        "print(A_csr.toarray())\n"
      ]
    },
    {
      "cell_type": "code",
      "execution_count": null,
      "metadata": {
        "id": "Vl-XKSzxwPH2"
      },
      "outputs": [],
      "source": [
        "class PoissonProblem2D:\n",
        "    def __init__(self, geometry, boundary, f_lambda):\n",
        "        self.geometry = geometry\n",
        "        self.boundary = boundary\n",
        "        self.f_lambda = f_lambda\n",
        "\n",
        "    def set_exact_solution(self, uex_lambda):\n",
        "        self.uex_lambda = uex_lambda\n",
        "    def assemble_matrix(self):\n",
        "        Nx = self.geometry.Nx\n",
        "        Ny = self.geometry.Ny\n",
        "        self.N = Nx*Ny\n",
        "        dx = self.geometry.dx\n",
        "        dy = self.geometry.dy\n",
        "\n",
        "        self.f = np.zeros(self.N)\n",
        "\n",
        "        main_diag = np.ones(self.N)*(2/dx**2+2/dy**2)\n",
        "        off_diag_x = np.ones(self.N-Ny)*(-1/dx**2)\n",
        "        off_diag_y = np.ones(self.N-1)*(-1/dy**2)\n",
        "\n",
        "        # SPARSE IMPLEMENTATION OF THE MATRIX\n",
        "        self.A = sp.diags([main_diag, off_diag_x, off_diag_x, off_diag_y, off_diag_y],\\\n",
        "                           [0, -Ny, Ny, -1, 1], shape=(self.N,self.N), format=\"csr\")\n",
        "\n",
        "        # for i in range(1,Nx-1):\n",
        "        #     for j in range(1,Ny-1):\n",
        "        #         alpha = geom2D.map_2D_to_1D(i,j)\n",
        "\n",
        "        #         self.A[alpha,alpha-Ny] =  -1./dx**2\n",
        "        #         self.A[alpha,alpha  ]+=   2./dx**2\n",
        "        #         self.A[alpha,alpha+Ny] =  -1./dx**2\n",
        "        #         self.A[alpha,alpha-1] =  -1./dy**2\n",
        "        #         self.A[alpha,alpha   ]+=   2./dy**2\n",
        "        #         self.A[alpha,alpha+1] =  -1./dy**2\n",
        "        #         self.f[alpha]     = self.f_lambda(np.array([self.geometry.XX[i,j],self.geometry.YY[i,j]]))\n",
        "\n",
        "        # VECTORIZED IMPLEMENTATION OF f\n",
        "        self.f = self.f_lambda(np.array([self.geometry.XX.reshape(-1),self.geometry.YY.reshape(-1)]))\n",
        "\n",
        "        self.apply_BC()\n",
        "\n",
        "    def apply_BC(self, boundary=None):\n",
        "        # Boundary conditions with sparse implementation!!!\n",
        "\n",
        "        if boundary is not None:\n",
        "            self.boundary = boundary\n",
        "        if not hasattr(self,\"boundary\"):\n",
        "            raise ValueError(\"Boundaries are not set yet\")\n",
        "\n",
        "        if self.boundary[\"left\"][0]==\"dirichlet\":\n",
        "            # Dirichlet in x_left\n",
        "            for j in range(self.geometry.Ny):\n",
        "                alpha = self.geometry.map_2D_to_1D(0,j)\n",
        "                put_zero_row_in_csr(self.A,alpha)\n",
        "                self.A[alpha,alpha] = 1.\n",
        "                self.f[alpha] = self.boundary[\"left\"][1](np.array([self.geometry.XX[0,j],self.geometry.YY[0,j]]))\n",
        "\n",
        "        elif self.boundary[\"left\"][0]==\"neumann\":\n",
        "            # Neumann in x_left\n",
        "            for j in range(self.geometry.Ny):\n",
        "                alpha = self.geometry.map_2D_to_1D(0,j)\n",
        "                alpha1= self.geometry.map_2D_to_1D(1,j)\n",
        "                put_zero_row_in_csr(self.A,alpha)\n",
        "                self.A[alpha,alpha] = -1./self.geometry.dx\n",
        "                self.A[alpha,alpha1] = 1./self.geometry.dx\n",
        "                self.f[alpha] = self.boundary[\"left\"][1](np.array([self.geometry.XX[0,j],self.geometry.YY[0,j]]))\n",
        "        else:\n",
        "            raise ValueError(\"Boundary %s not implemented\"%(self.boundary[\"left\"][0]))\n",
        "\n",
        "        ## ADD ALL OTHER BOUNDARIES!!!\n",
        "        ?????\n",
        "\n",
        "    def solve(self, Nx=None, Ny=None):\n",
        "        if Nx is not None:\n",
        "            if Ny is None:\n",
        "                Ny = Nx\n",
        "            self.geometry.set_Ns(Nx,Ny)\n",
        "            self.assemble_matrix()\n",
        "        if not hasattr(self,\"A\") or not hasattr(self,\"f\"):\n",
        "            self.assemble_matrix()\n",
        "        self.uu = sp.linalg.spsolve(self.A, self.f)\n",
        "        if hasattr(self,\"uex_lambda\"):\n",
        "            self.uex = uex_lambda(np.array([self.geometry.XX.reshape(-1),self.geometry.YY.reshape(-1)]))\n",
        "            self.error = np.linalg.norm(self.uu-self.uex)/np.linalg.norm(self.uex)\n",
        "        else:\n",
        "            self.error = np.nan\n",
        "        return self.geometry, self.uu, self.error"
      ]
    },
    {
      "cell_type": "code",
      "execution_count": null,
      "metadata": {
        "id": "gQ2PX5M1wPH6"
      },
      "outputs": [],
      "source": [
        "# Try different dimensions!\n",
        "poisson2D = PoissonProblem2D(geom2D, boundary, f_lambda)\n",
        "poisson2D.set_exact_solution(uex_lambda)\n",
        "\n",
        "t0 = time.time()\n",
        "geom2D, uu,error = poisson2D.solve(10,10)\n",
        "computational_time = time.time()-t0\n",
        "print(\"Time \",computational_time)\n",
        "print(\"Error \",error)"
      ]
    },
    {
      "cell_type": "code",
      "execution_count": null,
      "metadata": {
        "id": "xLGmNpJywPH6"
      },
      "outputs": [],
      "source": [
        "plt.spy(poisson2D.A.toarray())\n",
        "print(poisson2D.A.shape)\n",
        "print(poisson2D.A.nnz)"
      ]
    },
    {
      "cell_type": "code",
      "execution_count": null,
      "metadata": {
        "id": "TUftNKLWwPH6"
      },
      "outputs": [],
      "source": [
        "convergence = ConvergenceAnalysis(poisson2D, Ns=[10,20,40,80,160,320])\n",
        "\n",
        "convergence.analyse()\n",
        "convergence.plot_error_convergence()"
      ]
    }
  ],
  "metadata": {
    "colab": {
      "provenance": []
    },
    "kernelspec": {
      "display_name": "dlcourse-BfLxQsIA-py3.11",
      "language": "python",
      "name": "python3"
    },
    "language_info": {
      "codemirror_mode": {
        "name": "ipython",
        "version": 3
      },
      "file_extension": ".py",
      "mimetype": "text/x-python",
      "name": "python",
      "nbconvert_exporter": "python",
      "pygments_lexer": "ipython3",
      "version": "3.11.11"
    }
  },
  "nbformat": 4,
  "nbformat_minor": 0
}
