{
  "cells": [
    {
      "cell_type": "markdown",
      "metadata": {},
      "source": [
        "[![Open In Colab](https://colab.research.google.com/assets/colab-badge.svg)](https://colab.research.google.com/github/accdavlo/calcolo-scientifico/blob/main/codes/FEM_with_FEniCS.ipynb)"
      ]
    },
    {
      "cell_type": "markdown",
      "metadata": {
        "id": "_xheLV9C9i_u"
      },
      "source": [
        "# Finite element with FEniCS\n",
        "In this notebook we will use the FEniCS library to solve the Poisson problem in 2D con complex geometries.\n",
        "\n",
        "[FEniCS project](https://fenicsproject.org/) is a Finite element library which allows to use a very high level language to define complex problems, helping mathematicians getting quickly done with their ideas.\n",
        "Lately the developers of FEniCS have moved to the new version FEniCSx, but we will use the old one, where some functions are of simpler use.\n",
        "\n",
        "So, be careful when you install it on your laptop: choose the right version! FEniCS 2018 has also compatibility with `mshr` a library that allows to generate meshes in python. We will stick to this combo.\n",
        "\n",
        "In Google Colab, Francesco Ballarin has developed a library [FEM on Colab](https://fem-on-colab.github.io/) that allows to quickly install the packages on Google remote servers. We will use it in the next cell.\n",
        "Still, this is highly discouraged for local computers. It might work, but you have less control on your installation!\n",
        "\n"
      ]
    },
    {
      "cell_type": "code",
      "execution_count": null,
      "metadata": {
        "colab": {
          "base_uri": "https://localhost:8080/"
        },
        "id": "EoN4qqXx-qS5",
        "outputId": "0a7440e6-d969-4558-f6e1-d21411f3df9d"
      },
      "outputs": [],
      "source": [
        "# Installing FEniCS (dolfin) on the Google Colab servers\n",
        "try:\n",
        "    import dolfin\n",
        "except ImportError:\n",
        "    !wget \"https://fem-on-colab.github.io/releases/fenics-install-release-real.sh\" -O \"/tmp/fenics-install.sh\" && bash \"/tmp/fenics-install.sh\"\n",
        "    import dolfin\n",
        "from dolfin import *"
      ]
    },
    {
      "cell_type": "code",
      "execution_count": null,
      "metadata": {
        "id": "BlS1cVxP-uEz"
      },
      "outputs": [],
      "source": [
        "# Setting some plotting styles\n",
        "%matplotlib inline\n",
        "import matplotlib.pyplot as plt\n",
        "plt.rcParams[\"figure.figsize\"] = (12, 9)"
      ]
    },
    {
      "cell_type": "code",
      "execution_count": null,
      "metadata": {
        "id": "Kg6a08Ky_Q4a"
      },
      "outputs": [],
      "source": [
        "# Importing some libraries\n",
        "from dolfin import * # This is the core of FEniCS and it contains all the FEM functions we will need\n",
        "from ufl_legacy.geometry import * # This helps in designing geometries\n",
        "from dolfin.cpp.mesh import *     # This handles meshes\n",
        "from mshr import *                # This generates meshes"
      ]
    },
    {
      "cell_type": "code",
      "execution_count": null,
      "metadata": {
        "colab": {
          "base_uri": "https://localhost:8080/",
          "height": 788
        },
        "id": "xnhgSM1U-1hb",
        "outputId": "11572999-26c4-4e8f-f211-e37736e46ba2"
      },
      "outputs": [],
      "source": [
        "# First step: generate a mesh\n",
        "\n",
        "# Define a domain\n",
        "domain = Rectangle(Point(0, 0), Point(1, 1))\n",
        "\n",
        "# Define a mesh with N points on an edge\n",
        "mesh = generate_mesh(domain, 32)\n",
        "\n",
        "# Plot the mesh\n",
        "plot(mesh)"
      ]
    },
    {
      "cell_type": "markdown",
      "metadata": {
        "id": "YjuHjVvk_0gR"
      },
      "source": [
        "Now the real Finite element experience.\n",
        "\n",
        "Say we want to solve Poisson on the square with Dirichlet homogenous boundary conditions on all sides except the top one where we use Neumann homogeneous BC\n",
        "$$\n",
        "\\int_\\Omega \\nabla u \\cdot \\nabla v \\mathrm{d}x = \\int_\\Omega fv \\mathrm{d}x\n",
        "$$\n",
        "and we set $f\\equiv 1$."
      ]
    },
    {
      "cell_type": "code",
      "execution_count": null,
      "metadata": {
        "id": "3Dta8lJh-7TL"
      },
      "outputs": [],
      "source": [
        "# First of all we define the type of Finite element we want to use, this is the equivalent of the reference element we have used in 1D\n",
        "# 1 is the degree of the used polynomials, one can also try with something larger\n",
        "V_element = FiniteElement('Lagrange', triangle, 1)\n",
        "\n",
        "# Then we define the functional space, which depends on the mesh and on the reference element V_element\n",
        "V = FunctionSpace(mesh, V_element)\n",
        "\n",
        "# Now we define two types of functions: trial functions and test functions.\n",
        "# Trial functions are the one that will be used in place of the unknown u of the linear system that sooner or later we will need to generate. They correspond to the columns of the linear system\n",
        "# Test functions are the ones against which the problem is tested, they will define the rows of the system.\n",
        "# Functions are the objects that will contain the solution of the problem, they are the ones that will be used to plot the solution\n",
        "u = TrialFunction(V)\n",
        "v = TestFunction(V)\n",
        "z = Function(V)\n",
        "\n"
      ]
    },
    {
      "cell_type": "markdown",
      "metadata": {},
      "source": [
        "What can we do with a function? We can assign some values from an analytical expression and plot it!"
      ]
    },
    {
      "cell_type": "code",
      "execution_count": null,
      "metadata": {},
      "outputs": [],
      "source": [
        "z = Function(V)\n",
        "z.assign(Expression('sin(2*pi*x[0])*cos(2*pi*x[1])', degree=2)) # Degree is the degree of the polynomial interpolation inside each element\n",
        "# z.assign(Constant(1.))\n",
        "pp=plot(z)\n",
        "plt.colorbar(pp)"
      ]
    },
    {
      "cell_type": "markdown",
      "metadata": {},
      "source": [
        "Define some details of the problem: BC and rhs function"
      ]
    },
    {
      "cell_type": "code",
      "execution_count": null,
      "metadata": {},
      "outputs": [],
      "source": [
        "# We define the boundary conditions, we need the functional space, the value and where we want to put them to zero (the three sides of interest)\n",
        "zero_BC = DirichletBC(V, 0.,\n",
        "                      \"on_boundary && \\\n",
        "                      (x[0]<DOLFIN_EPS | x[0]>1.0-DOLFIN_EPS |\\\n",
        "                      x[1]<DOLFIN_EPS)\")\n",
        "\n",
        "# For homogeneous Neumann bcs we do not need to do anything\n",
        "\n",
        "# Constant function that can be used by FEniCS to be integrated\n",
        "f = Constant(1.) # This is the right hand side of the equation (also Expression could be used here)"
      ]
    },
    {
      "cell_type": "markdown",
      "metadata": {
        "id": "1ihFrGAAESPl"
      },
      "source": [
        "Here the weak problem in its majesty: we define the left-hand-side of the problem as the scalar product between the gradients of the test and trial function\n",
        "\n",
        "`*dx` means that we are integrating over the whole domain\n",
        "\n",
        "Similarly for the rhs, we compute the integral of `f*v*dx`"
      ]
    },
    {
      "cell_type": "code",
      "execution_count": null,
      "metadata": {
        "colab": {
          "base_uri": "https://localhost:8080/"
        },
        "id": "b_BlQvGdAWTz",
        "outputId": "97ad1280-daa1-448f-8d0f-eac6ae874758"
      },
      "outputs": [],
      "source": [
        "\n",
        "lhs = inner(grad(u),grad(v))*dx\n",
        "rhs = f*v*dx\n",
        "\n",
        "print(type(lhs))"
      ]
    },
    {
      "cell_type": "markdown",
      "metadata": {
        "id": "mEO-iLWgCbXB"
      },
      "source": [
        "These are not yet matrices, but ufl forms, FEniCS knows how to deal with these objects to automatically assemble the matrices/vectors in a sparse way within a dolfin type that is derived from the `PETSc` library (under the hood it's using some C++ and Fortran libraries)"
      ]
    },
    {
      "cell_type": "code",
      "execution_count": null,
      "metadata": {
        "colab": {
          "base_uri": "https://localhost:8080/"
        },
        "id": "ZohKMu8gCYQk",
        "outputId": "97549c1e-4fa4-4fee-fdc7-0cd9efad408b"
      },
      "outputs": [],
      "source": [
        "LHS = assemble(lhs)\n",
        "RHS = assemble(rhs)\n",
        "\n",
        "print(type(LHS))\n",
        "print(type(RHS))"
      ]
    },
    {
      "cell_type": "markdown",
      "metadata": {
        "id": "JevRrAU1C6rC"
      },
      "source": [
        "Time to apply the boundary conditions!\n",
        "As for the 1D case, we change the Dirichlet DoFs equations by directly modifying the lhs matrix and the rhs vector. This creates fake equations for those dofs that assing the appropriate Dirichlet boundaries"
      ]
    },
    {
      "cell_type": "code",
      "execution_count": null,
      "metadata": {
        "id": "lTya5o1BAeLl"
      },
      "outputs": [],
      "source": [
        "zero_BC.apply(LHS)\n",
        "zero_BC.apply(RHS)"
      ]
    },
    {
      "cell_type": "markdown",
      "metadata": {
        "id": "O3pjHWxJDQNb"
      },
      "source": [
        "Finally, we can solve the problem. By default the linear solver of FEniCS is set to an incomplete LU decomposition, but one can manually change it.\n"
      ]
    },
    {
      "cell_type": "code",
      "execution_count": null,
      "metadata": {
        "colab": {
          "base_uri": "https://localhost:8080/",
          "height": 776
        },
        "id": "iDzBY-cYBFjR",
        "outputId": "3f6c7655-ff64-440e-e013-447f910de377"
      },
      "outputs": [],
      "source": [
        "# Third type of functions after TrialFunction, TestFunction\n",
        "\n",
        "# Function(V) is a simple FEM function: it stores the coefficients of the basis functions and it reference to all the functional space structures for complicated steps\n",
        "u_sol = Function(V)\n",
        "\n",
        "# We solve the linear system LHS*u=RHS -> syntax follows this order\n",
        "# Careful that here the solution of a linear system is not a Function, but a vector, so we have to assign it to the vector of u_sol\n",
        "solve(LHS, u_sol.vector(), RHS)\n",
        "\n",
        "# Finally we plot our solution\n",
        "pp=plot(u_sol)\n",
        "plt.colorbar(pp)"
      ]
    },
    {
      "cell_type": "markdown",
      "metadata": {
        "id": "bttJi721EEyb"
      },
      "source": [
        "### Exercise convergence analysis:\n",
        "1. Try to solve the problem for a known an exact solution (you can change the problem e.g. $-\\Delta u = \\sin(2\\pi x)\\cos(2\\pi y)$ with $u=4\\pi^2\\sin(2\\pi x)\\cos(2\\pi y)$)\n",
        "1. Compute the error with respect to the exact solution ($L^2$ relative error can be computed as `np.sqrt(inner(u-u_e,u-u_e)*dx)/np.sqrt(inner(u_e,u_e)*dx)`)\n",
        "1. See what happens when the mesh changes\n",
        "1. Change the degree\n",
        "\n",
        "Hints:\n",
        "1. To deal with complex expressions for the right hand side or other terms in the weak formulations use the function `Expression`, e.g.\n",
        "```\n",
        "f = Expression('exp(-10.0*(pow(x[0]-0.75,2) + pow(x[1] - 0.75,2)))',degree = 2)\n",
        "```\n",
        "1. To integrate on boundaries instead on the whole domain, use `* ds` to make FEniCS know you want to integrate on the boundaries (in comparison to `* dx` for the integrals on the whole domain)"
      ]
    },
    {
      "cell_type": "markdown",
      "metadata": {
        "id": "ydIoVXY0B1Ic"
      },
      "source": [
        "## Complex geometries\n",
        "In the next test, we use as a domain a 2D representation of a long channel with a cylinder in it. This is composed of a rectangle minus a circle"
      ]
    },
    {
      "cell_type": "code",
      "execution_count": null,
      "metadata": {
        "colab": {
          "base_uri": "https://localhost:8080/",
          "height": 269
        },
        "id": "NwiDYvVrBXtf",
        "outputId": "6d861582-1ab8-4f44-d177-c1eb86522018"
      },
      "outputs": [],
      "source": [
        "# Defining the channel\n",
        "channel  = Rectangle(Point(0.,0.),Point(2.2,0.41))\n",
        "# Defining the cylinder\n",
        "cylinder_diam = 0.1\n",
        "cylinder = Circle(Point(0.2,0.2), cylinder_diam/2.)\n",
        "\n",
        "# Defining the domain\n",
        "domain = channel-cylinder\n",
        "\n",
        "# Denerate the mesh\n",
        "mesh = generate_mesh(domain, 100)\n",
        "plot(mesh)\n",
        "\n",
        "print(mesh.num_cells())\n",
        "print(mesh.num_vertices())"
      ]
    },
    {
      "cell_type": "code",
      "execution_count": null,
      "metadata": {
        "id": "PeYi84zWD_bg"
      },
      "outputs": [],
      "source": [
        "V_element = FiniteElement('Lagrange', triangle, 1)\n",
        "V = FunctionSpace(mesh, V_element)\n",
        "u = TrialFunction(V)\n",
        "u_sol = Function(V)\n",
        "v = TestFunction(V)\n",
        "\n",
        "f = Constant(0.)\n",
        "\n"
      ]
    },
    {
      "cell_type": "markdown",
      "metadata": {
        "id": "qXNA5riFFMjI"
      },
      "source": [
        "### More complex BC!\n",
        "For each of the boundaries I define a different Dirichlet BC with constant coefficients:\n",
        "* 0 on the left\n",
        "* 1 on the right\n",
        "* 3 on the bottom\n",
        "* -2 on the top\n",
        "* -1 on the cylinder  "
      ]
    },
    {
      "cell_type": "code",
      "execution_count": null,
      "metadata": {
        "id": "Wy_w68BACjys"
      },
      "outputs": [],
      "source": [
        "## Boundaries\n",
        "left = 'near(x[0],0)'\n",
        "right = 'near(x[0],2.2)'\n",
        "bottom = 'near(x[1],0)'\n",
        "top = 'near(x[1],0.41)'\n",
        "cylinder_surf = 'on_boundary && x[0]>0.1 && x[0]<0.3 && x[1]>0.1 && x[1]<0.3'\n",
        "\n",
        "bc_left = DirichletBC(V, 0., left)\n",
        "bc_right = DirichletBC(V, 1., right)\n",
        "bc_bottom = DirichletBC(V, 3., bottom)\n",
        "bc_top = DirichletBC(V, -2., top)\n",
        "bc_cylinder = DirichletBC(V, -1., cylinder_surf)\n",
        "\n",
        "bcs = [bc_left, bc_right, bc_bottom, bc_top, bc_cylinder]"
      ]
    },
    {
      "cell_type": "code",
      "execution_count": null,
      "metadata": {
        "colab": {
          "base_uri": "https://localhost:8080/",
          "height": 752
        },
        "id": "1n6R5jY4DJmk",
        "outputId": "5a5736cb-a3bf-4a53-a5c1-b94036caadd6"
      },
      "outputs": [],
      "source": [
        "# Write the weak form\n",
        "lhs = inner(grad(u),grad(v))*dx\n",
        "rhs = inner(f,v)*dx\n",
        "\n",
        "# Assemble matrix\n",
        "LHS = assemble(lhs)\n",
        "RHS = assemble(rhs)\n",
        "\n",
        "# Apply BC for all BCs in the list\n",
        "for bc in bcs:\n",
        "    bc.apply(LHS)\n",
        "    bc.apply(RHS)\n",
        "\n",
        "# Solve the liner problem\n",
        "solve(LHS, u_sol.vector(), RHS)\n",
        "\n",
        "# Plot the solution and add a colorbar\n",
        "pp=plot(u_sol)\n",
        "plt.colorbar(pp)"
      ]
    },
    {
      "cell_type": "markdown",
      "metadata": {
        "id": "M-vd18UXGR3w"
      },
      "source": [
        "## Exercises\n",
        "1. More complex domains: add two squares with some overlaps and remove a couple of circles\n",
        "1. Different problems! Add a reaction term $\\sigma \\int uv \\textrm{d}x$, or add a fourth derivative (using high order FEMs)\n",
        "\n",
        "Hint:\n",
        "1. When dealing with very complex boundaries, you might need to use longer functions. The following example might help.\n",
        "```\n",
        "def boundary(x, on_boundary):\n",
        "    d0 = sqrt((x[0]-0.5)**2 + (x[1]-0.5)**2)\n",
        "    d1 = sqrt((x[0]-1.0)**2 + (x[1]-1.0)**2)\n",
        "    return on_boundary and (d0 < 0.3 or d1 < 0.3)\n",
        "bc = DirichletBC(V, 0 , boundary)\n",
        "```"
      ]
    },
    {
      "cell_type": "markdown",
      "metadata": {},
      "source": [
        "## Neumann on a piece of boundary"
      ]
    },
    {
      "cell_type": "markdown",
      "metadata": {},
      "source": [
        "Suppose that on the previous test we want to set a Neumann BC on the top boundary. We can do this by integrating the weak form on the top boundary and setting the rhs to the value we are interested in:\n",
        "$$\n",
        "\\Gamma_N = \\{x \\in \\Gamma \\, | \\, y = 0.41 \\text{ or }y=0\\},\\qquad \\Gamma_D = \\partial\\Omega \\setminus \\Gamma_N\\qquad V_h= \\left\\{v \\in X^r_h(\\Omega) \\, | \\, v=0 \\text{ on } \\Gamma_D\\right\\}\n",
        "$$\n",
        "Strong form\n",
        "$$\n",
        "\\begin{cases}\n",
        "    -\\Delta u = f & \\text{in } \\Omega\\\\\n",
        "    u = 0 & \\text{on } \\Gamma_D\\\\\n",
        "    \\frac{\\partial u}{\\partial n} = g & \\text{on } \\Gamma_N\n",
        "\\end{cases}\n",
        "$$\n",
        "Weak form\n",
        "$$\n",
        "\\begin{align*}\n",
        "    &-\\int_{\\Omega} \\Delta u v \\mathrm{d}x = \\int_{\\Omega} f v \\mathrm{d}x\\\\\n",
        "    &\\int_{\\Omega} \\nabla u\\cdot \\nabla v \\mathrm{d}x  - \\int_{\\Gamma_D} \\nabla u \\cdot n \\underbrace{v}_{=0} \\mathrm{d}s - \\int_{\\Gamma_N} \\underbrace{\\nabla u \\cdot n}_{=g} v \\mathrm{d}s = \\int_{\\Omega} f v \\mathrm{d}x\\\\\n",
        "    &\\int_{\\Omega} \\nabla u\\cdot \\nabla v \\mathrm{d}x   = \\int_{\\Omega} f v \\mathrm{d}x + \\int_{\\Gamma_N} g v \\mathrm{d}s\n",
        "\\end{align*}\n",
        "$$"
      ]
    },
    {
      "cell_type": "code",
      "execution_count": null,
      "metadata": {},
      "outputs": [],
      "source": [
        "## Boundaries\n",
        "left = 'near(x[0],0)'\n",
        "right = 'near(x[0],2.2)'\n",
        "# bottom = 'near(x[1],0)'\n",
        "cylinder_surf = 'on_boundary && x[0]>0.1 && x[0]<0.3 && x[1]>0.1 && x[1]<0.3'\n",
        "\n",
        "bc_left = DirichletBC(V, 0., left)\n",
        "bc_right = DirichletBC(V, 1., right)\n",
        "# bc_bottom = DirichletBC(V, 3., bottom)\n",
        "bc_cylinder = DirichletBC(V, -1., cylinder_surf)\n",
        "\n",
        "bcs = [bc_left, bc_right,  bc_cylinder]"
      ]
    },
    {
      "cell_type": "code",
      "execution_count": null,
      "metadata": {},
      "outputs": [],
      "source": [
        "\n",
        "# Setting the markers for the boundaries I'm interested in for neumann BCs\n",
        "boundary_markers = MeshFunction(\"size_t\", mesh, mesh.topology().dim() - 1)\n",
        "\n",
        "# I set all markers to 0 in all boundaries\n",
        "boundary_markers.set_all(0)\n",
        "\n",
        "# Define the bottom boundary\n",
        "top_boundary = AutoSubDomain(lambda x : near(x[1], 0.41, DOLFIN_EPS))\n",
        "\n",
        "# Set its marker to 1\n",
        "top_boundary.mark(boundary_markers, 1)\n",
        "\n",
        "# Define the bottom boundary\n",
        "bottom_boundary = AutoSubDomain(lambda x : near(x[1], 0.0, DOLFIN_EPS))\n",
        "\n",
        "# Set its marker to 1\n",
        "bottom_boundary.mark(boundary_markers, 2)\n",
        "\n",
        "# Now I can redefine the border measure using these markers\n",
        "ds = Measure(\"ds\")(subdomain_data=boundary_markers)\n",
        "\n",
        "# Then I can integrate only over the bottom boundary the functions that I want and assemble the RHS\n",
        "g=Expression('sin(x[1])', degree=2)\n"
      ]
    },
    {
      "cell_type": "code",
      "execution_count": null,
      "metadata": {},
      "outputs": [],
      "source": [
        "# Write the weak form\n",
        "lhs = inner(grad(u),grad(v))*dx\n",
        "rhs = g*v*ds(1)+g*v*ds(2)\n",
        "\n",
        "# Assemble matrix\n",
        "LHS = assemble(lhs)\n",
        "RHS = assemble(rhs)\n",
        "\n",
        "# Apply BC for all BCs in the list\n",
        "for bc in bcs:\n",
        "    bc.apply(LHS)\n",
        "    bc.apply(RHS)\n",
        "\n",
        "# Solve the liner problem\n",
        "solve(LHS, u_sol.vector(), RHS)\n",
        "\n",
        "# Plot the solution and add a colorbar\n",
        "pp=plot(u_sol)\n",
        "plt.colorbar(pp)"
      ]
    },
    {
      "cell_type": "markdown",
      "metadata": {},
      "source": [
        "## Exercise\n",
        "Test the order of accuracy also with Neumann boundary conditions using the exact solution we have seen above!"
      ]
    }
  ],
  "metadata": {
    "colab": {
      "provenance": []
    },
    "kernelspec": {
      "display_name": "fenics-2018",
      "language": "python",
      "name": "python3"
    },
    "language_info": {
      "codemirror_mode": {
        "name": "ipython",
        "version": 3
      },
      "file_extension": ".py",
      "mimetype": "text/x-python",
      "name": "python",
      "nbconvert_exporter": "python",
      "pygments_lexer": "ipython3",
      "version": "3.7.12"
    }
  },
  "nbformat": 4,
  "nbformat_minor": 0
}
